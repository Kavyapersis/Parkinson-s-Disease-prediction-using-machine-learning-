{
  "nbformat": 4,
  "nbformat_minor": 0,
  "metadata": {
    "colab": {
      "provenance": [],
      "gpuType": "T4"
    },
    "kernelspec": {
      "name": "python3",
      "display_name": "Python 3"
    },
    "language_info": {
      "name": "python"
    },
    "accelerator": "GPU"
  },
  "cells": [
    {
      "cell_type": "code",
      "execution_count": null,
      "metadata": {
        "id": "F7zBm4Tpi5tr"
      },
      "outputs": [],
      "source": [
        "# Importing necessary libraries used for data cleaning, and data visualization\n",
        "import pandas as pd\n",
        "import numpy as np\n",
        "import seaborn as sns\n",
        "import matplotlib.pyplot as plt\n",
        "\n",
        "# Ignoring ununnecessary warnings\n",
        "import warnings\n",
        "warnings.filterwarnings(\"ignore\")\n",
        "\n",
        "# Chi Square\n",
        "from sklearn.feature_selection import chi2\n",
        "import scipy.stats as stats\n",
        "\n",
        "# RandomOverSampler to handle imbalanced data\n",
        "from imblearn.over_sampling import RandomOverSampler\n",
        "\n",
        "# Constant feature checking\n",
        "from sklearn.feature_selection import VarianceThreshold\n",
        "\n",
        "# Cross Validation\n",
        "from sklearn.model_selection import RepeatedStratifiedKFold\n",
        "from sklearn.model_selection import StratifiedKFold\n",
        "from sklearn.model_selection import cross_val_score\n",
        "from sklearn.model_selection import GridSearchCV\n",
        "from sklearn.model_selection import RandomizedSearchCV\n",
        "\n",
        "# Importing library to split the data into training part and testing part.\n",
        "from sklearn.model_selection import train_test_split\n",
        "\n",
        "# Importing library to process the data (Normalize the data)\n",
        "from sklearn.preprocessing import MinMaxScaler, StandardScaler\n",
        "\n",
        "# Importing Models (used for making prediction)\n",
        "from sklearn.linear_model import LogisticRegression\n",
        "from sklearn.tree import DecisionTreeClassifier\n",
        "from sklearn.ensemble import RandomForestClassifier\n",
        "from sklearn.ensemble import AdaBoostClassifier\n",
        "from sklearn.svm import SVC\n",
        "from xgboost import XGBClassifier\n",
        "from sklearn.neighbors import KNeighborsClassifier\n",
        "from scipy.stats import zscore\n",
        "\n",
        "# Importing metrics used for evaluation of our models\n",
        "from sklearn import metrics\n",
        "from sklearn.metrics import classification_report"
      ]
    },
    {
      "cell_type": "code",
      "source": [
        "sns.set(rc={\"figure.dpi\":300, 'savefig.dpi':300})\n",
        "plt.rcParams['figure.dpi'] = 300\n",
        "plt.rcParams['savefig.dpi'] = 300\n",
        "pd.set_option('display.max_columns',29)"
      ],
      "metadata": {
        "id": "U-sErlZgjF_E"
      },
      "execution_count": null,
      "outputs": []
    },
    {
      "cell_type": "code",
      "source": [
        "from google.colab import drive\n",
        "drive.mount('/content/gdrive/')"
      ],
      "metadata": {
        "id": "33Qe65s4jF8a",
        "colab": {
          "base_uri": "https://localhost:8080/"
        },
        "outputId": "5e3e99ca-f455-42b8-95f2-e523a5ae101e"
      },
      "execution_count": null,
      "outputs": [
        {
          "output_type": "stream",
          "name": "stdout",
          "text": [
            "Drive already mounted at /content/gdrive/; to attempt to forcibly remount, call drive.mount(\"/content/gdrive/\", force_remount=True).\n"
          ]
        }
      ]
    },
    {
      "cell_type": "code",
      "source": [
        "df = pd.read_csv(\"/content/gdrive/MyDrive/database.csv\")"
      ],
      "metadata": {
        "id": "EZsHqvWVjF6P"
      },
      "execution_count": null,
      "outputs": []
    },
    {
      "cell_type": "code",
      "source": [
        "df.head()"
      ],
      "metadata": {
        "id": "uoSy00RJjF3t",
        "colab": {
          "base_uri": "https://localhost:8080/",
          "height": 226
        },
        "outputId": "bd9ddc61-06d9-4cc2-a72a-f6e192decd1f"
      },
      "execution_count": null,
      "outputs": [
        {
          "output_type": "execute_result",
          "data": {
            "text/plain": [
              "             name  MDVP:Fo(Hz)  MDVP:Fhi(Hz)  MDVP:Flo(Hz)  MDVP:Jitter(%)  \\\n",
              "0  phon_R01_S01_1      119.992       157.302        74.997         0.00784   \n",
              "1  phon_R01_S01_2      122.400       148.650       113.819         0.00968   \n",
              "2  phon_R01_S01_3      116.682       131.111       111.555         0.01050   \n",
              "3  phon_R01_S01_4      116.676       137.871       111.366         0.00997   \n",
              "4  phon_R01_S01_5      116.014       141.781       110.655         0.01284   \n",
              "\n",
              "   MDVP:Jitter(Abs)  MDVP:RAP  MDVP:PPQ  Jitter:DDP  MDVP:Shimmer  \\\n",
              "0           0.00007   0.00370   0.00554     0.01109       0.04374   \n",
              "1           0.00008   0.00465   0.00696     0.01394       0.06134   \n",
              "2           0.00009   0.00544   0.00781     0.01633       0.05233   \n",
              "3           0.00009   0.00502   0.00698     0.01505       0.05492   \n",
              "4           0.00011   0.00655   0.00908     0.01966       0.06425   \n",
              "\n",
              "   MDVP:Shimmer(dB)  Shimmer:APQ3  Shimmer:APQ5  MDVP:APQ  Shimmer:DDA  \\\n",
              "0             0.426       0.02182       0.03130   0.02971      0.06545   \n",
              "1             0.626       0.03134       0.04518   0.04368      0.09403   \n",
              "2             0.482       0.02757       0.03858   0.03590      0.08270   \n",
              "3             0.517       0.02924       0.04005   0.03772      0.08771   \n",
              "4             0.584       0.03490       0.04825   0.04465      0.10470   \n",
              "\n",
              "       NHR     HNR  status      RPDE       DFA   spread1   spread2        D2  \\\n",
              "0  0.02211  21.033       1  0.414783  0.815285 -4.813031  0.266482  2.301442   \n",
              "1  0.01929  19.085       1  0.458359  0.819521 -4.075192  0.335590  2.486855   \n",
              "2  0.01309  20.651       1  0.429895  0.825288 -4.443179  0.311173  2.342259   \n",
              "3  0.01353  20.644       1  0.434969  0.819235 -4.117501  0.334147  2.405554   \n",
              "4  0.01767  19.649       1  0.417356  0.823484 -3.747787  0.234513  2.332180   \n",
              "\n",
              "        PPE  \n",
              "0  0.284654  \n",
              "1  0.368674  \n",
              "2  0.332634  \n",
              "3  0.368975  \n",
              "4  0.410335  "
            ],
            "text/html": [
              "\n",
              "  <div id=\"df-c0452e9a-07e5-4d7e-8bc9-d21fdf0427b4\" class=\"colab-df-container\">\n",
              "    <div>\n",
              "<style scoped>\n",
              "    .dataframe tbody tr th:only-of-type {\n",
              "        vertical-align: middle;\n",
              "    }\n",
              "\n",
              "    .dataframe tbody tr th {\n",
              "        vertical-align: top;\n",
              "    }\n",
              "\n",
              "    .dataframe thead th {\n",
              "        text-align: right;\n",
              "    }\n",
              "</style>\n",
              "<table border=\"1\" class=\"dataframe\">\n",
              "  <thead>\n",
              "    <tr style=\"text-align: right;\">\n",
              "      <th></th>\n",
              "      <th>name</th>\n",
              "      <th>MDVP:Fo(Hz)</th>\n",
              "      <th>MDVP:Fhi(Hz)</th>\n",
              "      <th>MDVP:Flo(Hz)</th>\n",
              "      <th>MDVP:Jitter(%)</th>\n",
              "      <th>MDVP:Jitter(Abs)</th>\n",
              "      <th>MDVP:RAP</th>\n",
              "      <th>MDVP:PPQ</th>\n",
              "      <th>Jitter:DDP</th>\n",
              "      <th>MDVP:Shimmer</th>\n",
              "      <th>MDVP:Shimmer(dB)</th>\n",
              "      <th>Shimmer:APQ3</th>\n",
              "      <th>Shimmer:APQ5</th>\n",
              "      <th>MDVP:APQ</th>\n",
              "      <th>Shimmer:DDA</th>\n",
              "      <th>NHR</th>\n",
              "      <th>HNR</th>\n",
              "      <th>status</th>\n",
              "      <th>RPDE</th>\n",
              "      <th>DFA</th>\n",
              "      <th>spread1</th>\n",
              "      <th>spread2</th>\n",
              "      <th>D2</th>\n",
              "      <th>PPE</th>\n",
              "    </tr>\n",
              "  </thead>\n",
              "  <tbody>\n",
              "    <tr>\n",
              "      <th>0</th>\n",
              "      <td>phon_R01_S01_1</td>\n",
              "      <td>119.992</td>\n",
              "      <td>157.302</td>\n",
              "      <td>74.997</td>\n",
              "      <td>0.00784</td>\n",
              "      <td>0.00007</td>\n",
              "      <td>0.00370</td>\n",
              "      <td>0.00554</td>\n",
              "      <td>0.01109</td>\n",
              "      <td>0.04374</td>\n",
              "      <td>0.426</td>\n",
              "      <td>0.02182</td>\n",
              "      <td>0.03130</td>\n",
              "      <td>0.02971</td>\n",
              "      <td>0.06545</td>\n",
              "      <td>0.02211</td>\n",
              "      <td>21.033</td>\n",
              "      <td>1</td>\n",
              "      <td>0.414783</td>\n",
              "      <td>0.815285</td>\n",
              "      <td>-4.813031</td>\n",
              "      <td>0.266482</td>\n",
              "      <td>2.301442</td>\n",
              "      <td>0.284654</td>\n",
              "    </tr>\n",
              "    <tr>\n",
              "      <th>1</th>\n",
              "      <td>phon_R01_S01_2</td>\n",
              "      <td>122.400</td>\n",
              "      <td>148.650</td>\n",
              "      <td>113.819</td>\n",
              "      <td>0.00968</td>\n",
              "      <td>0.00008</td>\n",
              "      <td>0.00465</td>\n",
              "      <td>0.00696</td>\n",
              "      <td>0.01394</td>\n",
              "      <td>0.06134</td>\n",
              "      <td>0.626</td>\n",
              "      <td>0.03134</td>\n",
              "      <td>0.04518</td>\n",
              "      <td>0.04368</td>\n",
              "      <td>0.09403</td>\n",
              "      <td>0.01929</td>\n",
              "      <td>19.085</td>\n",
              "      <td>1</td>\n",
              "      <td>0.458359</td>\n",
              "      <td>0.819521</td>\n",
              "      <td>-4.075192</td>\n",
              "      <td>0.335590</td>\n",
              "      <td>2.486855</td>\n",
              "      <td>0.368674</td>\n",
              "    </tr>\n",
              "    <tr>\n",
              "      <th>2</th>\n",
              "      <td>phon_R01_S01_3</td>\n",
              "      <td>116.682</td>\n",
              "      <td>131.111</td>\n",
              "      <td>111.555</td>\n",
              "      <td>0.01050</td>\n",
              "      <td>0.00009</td>\n",
              "      <td>0.00544</td>\n",
              "      <td>0.00781</td>\n",
              "      <td>0.01633</td>\n",
              "      <td>0.05233</td>\n",
              "      <td>0.482</td>\n",
              "      <td>0.02757</td>\n",
              "      <td>0.03858</td>\n",
              "      <td>0.03590</td>\n",
              "      <td>0.08270</td>\n",
              "      <td>0.01309</td>\n",
              "      <td>20.651</td>\n",
              "      <td>1</td>\n",
              "      <td>0.429895</td>\n",
              "      <td>0.825288</td>\n",
              "      <td>-4.443179</td>\n",
              "      <td>0.311173</td>\n",
              "      <td>2.342259</td>\n",
              "      <td>0.332634</td>\n",
              "    </tr>\n",
              "    <tr>\n",
              "      <th>3</th>\n",
              "      <td>phon_R01_S01_4</td>\n",
              "      <td>116.676</td>\n",
              "      <td>137.871</td>\n",
              "      <td>111.366</td>\n",
              "      <td>0.00997</td>\n",
              "      <td>0.00009</td>\n",
              "      <td>0.00502</td>\n",
              "      <td>0.00698</td>\n",
              "      <td>0.01505</td>\n",
              "      <td>0.05492</td>\n",
              "      <td>0.517</td>\n",
              "      <td>0.02924</td>\n",
              "      <td>0.04005</td>\n",
              "      <td>0.03772</td>\n",
              "      <td>0.08771</td>\n",
              "      <td>0.01353</td>\n",
              "      <td>20.644</td>\n",
              "      <td>1</td>\n",
              "      <td>0.434969</td>\n",
              "      <td>0.819235</td>\n",
              "      <td>-4.117501</td>\n",
              "      <td>0.334147</td>\n",
              "      <td>2.405554</td>\n",
              "      <td>0.368975</td>\n",
              "    </tr>\n",
              "    <tr>\n",
              "      <th>4</th>\n",
              "      <td>phon_R01_S01_5</td>\n",
              "      <td>116.014</td>\n",
              "      <td>141.781</td>\n",
              "      <td>110.655</td>\n",
              "      <td>0.01284</td>\n",
              "      <td>0.00011</td>\n",
              "      <td>0.00655</td>\n",
              "      <td>0.00908</td>\n",
              "      <td>0.01966</td>\n",
              "      <td>0.06425</td>\n",
              "      <td>0.584</td>\n",
              "      <td>0.03490</td>\n",
              "      <td>0.04825</td>\n",
              "      <td>0.04465</td>\n",
              "      <td>0.10470</td>\n",
              "      <td>0.01767</td>\n",
              "      <td>19.649</td>\n",
              "      <td>1</td>\n",
              "      <td>0.417356</td>\n",
              "      <td>0.823484</td>\n",
              "      <td>-3.747787</td>\n",
              "      <td>0.234513</td>\n",
              "      <td>2.332180</td>\n",
              "      <td>0.410335</td>\n",
              "    </tr>\n",
              "  </tbody>\n",
              "</table>\n",
              "</div>\n",
              "    <div class=\"colab-df-buttons\">\n",
              "\n",
              "  <div class=\"colab-df-container\">\n",
              "    <button class=\"colab-df-convert\" onclick=\"convertToInteractive('df-c0452e9a-07e5-4d7e-8bc9-d21fdf0427b4')\"\n",
              "            title=\"Convert this dataframe to an interactive table.\"\n",
              "            style=\"display:none;\">\n",
              "\n",
              "  <svg xmlns=\"http://www.w3.org/2000/svg\" height=\"24px\" viewBox=\"0 -960 960 960\">\n",
              "    <path d=\"M120-120v-720h720v720H120Zm60-500h600v-160H180v160Zm220 220h160v-160H400v160Zm0 220h160v-160H400v160ZM180-400h160v-160H180v160Zm440 0h160v-160H620v160ZM180-180h160v-160H180v160Zm440 0h160v-160H620v160Z\"/>\n",
              "  </svg>\n",
              "    </button>\n",
              "\n",
              "  <style>\n",
              "    .colab-df-container {\n",
              "      display:flex;\n",
              "      gap: 12px;\n",
              "    }\n",
              "\n",
              "    .colab-df-convert {\n",
              "      background-color: #E8F0FE;\n",
              "      border: none;\n",
              "      border-radius: 50%;\n",
              "      cursor: pointer;\n",
              "      display: none;\n",
              "      fill: #1967D2;\n",
              "      height: 32px;\n",
              "      padding: 0 0 0 0;\n",
              "      width: 32px;\n",
              "    }\n",
              "\n",
              "    .colab-df-convert:hover {\n",
              "      background-color: #E2EBFA;\n",
              "      box-shadow: 0px 1px 2px rgba(60, 64, 67, 0.3), 0px 1px 3px 1px rgba(60, 64, 67, 0.15);\n",
              "      fill: #174EA6;\n",
              "    }\n",
              "\n",
              "    .colab-df-buttons div {\n",
              "      margin-bottom: 4px;\n",
              "    }\n",
              "\n",
              "    [theme=dark] .colab-df-convert {\n",
              "      background-color: #3B4455;\n",
              "      fill: #D2E3FC;\n",
              "    }\n",
              "\n",
              "    [theme=dark] .colab-df-convert:hover {\n",
              "      background-color: #434B5C;\n",
              "      box-shadow: 0px 1px 3px 1px rgba(0, 0, 0, 0.15);\n",
              "      filter: drop-shadow(0px 1px 2px rgba(0, 0, 0, 0.3));\n",
              "      fill: #FFFFFF;\n",
              "    }\n",
              "  </style>\n",
              "\n",
              "    <script>\n",
              "      const buttonEl =\n",
              "        document.querySelector('#df-c0452e9a-07e5-4d7e-8bc9-d21fdf0427b4 button.colab-df-convert');\n",
              "      buttonEl.style.display =\n",
              "        google.colab.kernel.accessAllowed ? 'block' : 'none';\n",
              "\n",
              "      async function convertToInteractive(key) {\n",
              "        const element = document.querySelector('#df-c0452e9a-07e5-4d7e-8bc9-d21fdf0427b4');\n",
              "        const dataTable =\n",
              "          await google.colab.kernel.invokeFunction('convertToInteractive',\n",
              "                                                    [key], {});\n",
              "        if (!dataTable) return;\n",
              "\n",
              "        const docLinkHtml = 'Like what you see? Visit the ' +\n",
              "          '<a target=\"_blank\" href=https://colab.research.google.com/notebooks/data_table.ipynb>data table notebook</a>'\n",
              "          + ' to learn more about interactive tables.';\n",
              "        element.innerHTML = '';\n",
              "        dataTable['output_type'] = 'display_data';\n",
              "        await google.colab.output.renderOutput(dataTable, element);\n",
              "        const docLink = document.createElement('div');\n",
              "        docLink.innerHTML = docLinkHtml;\n",
              "        element.appendChild(docLink);\n",
              "      }\n",
              "    </script>\n",
              "  </div>\n",
              "\n",
              "\n",
              "<div id=\"df-55aa112e-50f2-4e63-8f26-c208539d3eb5\">\n",
              "  <button class=\"colab-df-quickchart\" onclick=\"quickchart('df-55aa112e-50f2-4e63-8f26-c208539d3eb5')\"\n",
              "            title=\"Suggest charts\"\n",
              "            style=\"display:none;\">\n",
              "\n",
              "<svg xmlns=\"http://www.w3.org/2000/svg\" height=\"24px\"viewBox=\"0 0 24 24\"\n",
              "     width=\"24px\">\n",
              "    <g>\n",
              "        <path d=\"M19 3H5c-1.1 0-2 .9-2 2v14c0 1.1.9 2 2 2h14c1.1 0 2-.9 2-2V5c0-1.1-.9-2-2-2zM9 17H7v-7h2v7zm4 0h-2V7h2v10zm4 0h-2v-4h2v4z\"/>\n",
              "    </g>\n",
              "</svg>\n",
              "  </button>\n",
              "\n",
              "<style>\n",
              "  .colab-df-quickchart {\n",
              "      --bg-color: #E8F0FE;\n",
              "      --fill-color: #1967D2;\n",
              "      --hover-bg-color: #E2EBFA;\n",
              "      --hover-fill-color: #174EA6;\n",
              "      --disabled-fill-color: #AAA;\n",
              "      --disabled-bg-color: #DDD;\n",
              "  }\n",
              "\n",
              "  [theme=dark] .colab-df-quickchart {\n",
              "      --bg-color: #3B4455;\n",
              "      --fill-color: #D2E3FC;\n",
              "      --hover-bg-color: #434B5C;\n",
              "      --hover-fill-color: #FFFFFF;\n",
              "      --disabled-bg-color: #3B4455;\n",
              "      --disabled-fill-color: #666;\n",
              "  }\n",
              "\n",
              "  .colab-df-quickchart {\n",
              "    background-color: var(--bg-color);\n",
              "    border: none;\n",
              "    border-radius: 50%;\n",
              "    cursor: pointer;\n",
              "    display: none;\n",
              "    fill: var(--fill-color);\n",
              "    height: 32px;\n",
              "    padding: 0;\n",
              "    width: 32px;\n",
              "  }\n",
              "\n",
              "  .colab-df-quickchart:hover {\n",
              "    background-color: var(--hover-bg-color);\n",
              "    box-shadow: 0 1px 2px rgba(60, 64, 67, 0.3), 0 1px 3px 1px rgba(60, 64, 67, 0.15);\n",
              "    fill: var(--button-hover-fill-color);\n",
              "  }\n",
              "\n",
              "  .colab-df-quickchart-complete:disabled,\n",
              "  .colab-df-quickchart-complete:disabled:hover {\n",
              "    background-color: var(--disabled-bg-color);\n",
              "    fill: var(--disabled-fill-color);\n",
              "    box-shadow: none;\n",
              "  }\n",
              "\n",
              "  .colab-df-spinner {\n",
              "    border: 2px solid var(--fill-color);\n",
              "    border-color: transparent;\n",
              "    border-bottom-color: var(--fill-color);\n",
              "    animation:\n",
              "      spin 1s steps(1) infinite;\n",
              "  }\n",
              "\n",
              "  @keyframes spin {\n",
              "    0% {\n",
              "      border-color: transparent;\n",
              "      border-bottom-color: var(--fill-color);\n",
              "      border-left-color: var(--fill-color);\n",
              "    }\n",
              "    20% {\n",
              "      border-color: transparent;\n",
              "      border-left-color: var(--fill-color);\n",
              "      border-top-color: var(--fill-color);\n",
              "    }\n",
              "    30% {\n",
              "      border-color: transparent;\n",
              "      border-left-color: var(--fill-color);\n",
              "      border-top-color: var(--fill-color);\n",
              "      border-right-color: var(--fill-color);\n",
              "    }\n",
              "    40% {\n",
              "      border-color: transparent;\n",
              "      border-right-color: var(--fill-color);\n",
              "      border-top-color: var(--fill-color);\n",
              "    }\n",
              "    60% {\n",
              "      border-color: transparent;\n",
              "      border-right-color: var(--fill-color);\n",
              "    }\n",
              "    80% {\n",
              "      border-color: transparent;\n",
              "      border-right-color: var(--fill-color);\n",
              "      border-bottom-color: var(--fill-color);\n",
              "    }\n",
              "    90% {\n",
              "      border-color: transparent;\n",
              "      border-bottom-color: var(--fill-color);\n",
              "    }\n",
              "  }\n",
              "</style>\n",
              "\n",
              "  <script>\n",
              "    async function quickchart(key) {\n",
              "      const quickchartButtonEl =\n",
              "        document.querySelector('#' + key + ' button');\n",
              "      quickchartButtonEl.disabled = true;  // To prevent multiple clicks.\n",
              "      quickchartButtonEl.classList.add('colab-df-spinner');\n",
              "      try {\n",
              "        const charts = await google.colab.kernel.invokeFunction(\n",
              "            'suggestCharts', [key], {});\n",
              "      } catch (error) {\n",
              "        console.error('Error during call to suggestCharts:', error);\n",
              "      }\n",
              "      quickchartButtonEl.classList.remove('colab-df-spinner');\n",
              "      quickchartButtonEl.classList.add('colab-df-quickchart-complete');\n",
              "    }\n",
              "    (() => {\n",
              "      let quickchartButtonEl =\n",
              "        document.querySelector('#df-55aa112e-50f2-4e63-8f26-c208539d3eb5 button');\n",
              "      quickchartButtonEl.style.display =\n",
              "        google.colab.kernel.accessAllowed ? 'block' : 'none';\n",
              "    })();\n",
              "  </script>\n",
              "</div>\n",
              "\n",
              "    </div>\n",
              "  </div>\n"
            ],
            "application/vnd.google.colaboratory.intrinsic+json": {
              "type": "dataframe",
              "variable_name": "df"
            }
          },
          "metadata": {},
          "execution_count": 25
        }
      ]
    },
    {
      "cell_type": "code",
      "source": [
        "df.tail()"
      ],
      "metadata": {
        "id": "0jxvGynKjF1J",
        "colab": {
          "base_uri": "https://localhost:8080/",
          "height": 226
        },
        "outputId": "6e6ca4da-a477-4a50-bdf6-4cab350a7d7a"
      },
      "execution_count": null,
      "outputs": [
        {
          "output_type": "execute_result",
          "data": {
            "text/plain": [
              "               name  MDVP:Fo(Hz)  MDVP:Fhi(Hz)  MDVP:Flo(Hz)  MDVP:Jitter(%)  \\\n",
              "190  phon_R01_S50_2      174.188       230.978        94.261         0.00459   \n",
              "191  phon_R01_S50_3      209.516       253.017        89.488         0.00564   \n",
              "192  phon_R01_S50_4      174.688       240.005        74.287         0.01360   \n",
              "193  phon_R01_S50_5      198.764       396.961        74.904         0.00740   \n",
              "194  phon_R01_S50_6      214.289       260.277        77.973         0.00567   \n",
              "\n",
              "     MDVP:Jitter(Abs)  MDVP:RAP  MDVP:PPQ  Jitter:DDP  MDVP:Shimmer  \\\n",
              "190           0.00003   0.00263   0.00259     0.00790       0.04087   \n",
              "191           0.00003   0.00331   0.00292     0.00994       0.02751   \n",
              "192           0.00008   0.00624   0.00564     0.01873       0.02308   \n",
              "193           0.00004   0.00370   0.00390     0.01109       0.02296   \n",
              "194           0.00003   0.00295   0.00317     0.00885       0.01884   \n",
              "\n",
              "     MDVP:Shimmer(dB)  Shimmer:APQ3  Shimmer:APQ5  MDVP:APQ  Shimmer:DDA  \\\n",
              "190             0.405       0.02336       0.02498   0.02745      0.07008   \n",
              "191             0.263       0.01604       0.01657   0.01879      0.04812   \n",
              "192             0.256       0.01268       0.01365   0.01667      0.03804   \n",
              "193             0.241       0.01265       0.01321   0.01588      0.03794   \n",
              "194             0.190       0.01026       0.01161   0.01373      0.03078   \n",
              "\n",
              "         NHR     HNR  status      RPDE       DFA   spread1   spread2  \\\n",
              "190  0.02764  19.517       0  0.448439  0.657899 -6.538586  0.121952   \n",
              "191  0.01810  19.147       0  0.431674  0.683244 -6.195325  0.129303   \n",
              "192  0.10715  17.883       0  0.407567  0.655683 -6.787197  0.158453   \n",
              "193  0.07223  19.020       0  0.451221  0.643956 -6.744577  0.207454   \n",
              "194  0.04398  21.209       0  0.462803  0.664357 -5.724056  0.190667   \n",
              "\n",
              "           D2       PPE  \n",
              "190  2.657476  0.133050  \n",
              "191  2.784312  0.168895  \n",
              "192  2.679772  0.131728  \n",
              "193  2.138608  0.123306  \n",
              "194  2.555477  0.148569  "
            ],
            "text/html": [
              "\n",
              "  <div id=\"df-84f8d7d9-e15b-4d39-b69c-c2313984c6fe\" class=\"colab-df-container\">\n",
              "    <div>\n",
              "<style scoped>\n",
              "    .dataframe tbody tr th:only-of-type {\n",
              "        vertical-align: middle;\n",
              "    }\n",
              "\n",
              "    .dataframe tbody tr th {\n",
              "        vertical-align: top;\n",
              "    }\n",
              "\n",
              "    .dataframe thead th {\n",
              "        text-align: right;\n",
              "    }\n",
              "</style>\n",
              "<table border=\"1\" class=\"dataframe\">\n",
              "  <thead>\n",
              "    <tr style=\"text-align: right;\">\n",
              "      <th></th>\n",
              "      <th>name</th>\n",
              "      <th>MDVP:Fo(Hz)</th>\n",
              "      <th>MDVP:Fhi(Hz)</th>\n",
              "      <th>MDVP:Flo(Hz)</th>\n",
              "      <th>MDVP:Jitter(%)</th>\n",
              "      <th>MDVP:Jitter(Abs)</th>\n",
              "      <th>MDVP:RAP</th>\n",
              "      <th>MDVP:PPQ</th>\n",
              "      <th>Jitter:DDP</th>\n",
              "      <th>MDVP:Shimmer</th>\n",
              "      <th>MDVP:Shimmer(dB)</th>\n",
              "      <th>Shimmer:APQ3</th>\n",
              "      <th>Shimmer:APQ5</th>\n",
              "      <th>MDVP:APQ</th>\n",
              "      <th>Shimmer:DDA</th>\n",
              "      <th>NHR</th>\n",
              "      <th>HNR</th>\n",
              "      <th>status</th>\n",
              "      <th>RPDE</th>\n",
              "      <th>DFA</th>\n",
              "      <th>spread1</th>\n",
              "      <th>spread2</th>\n",
              "      <th>D2</th>\n",
              "      <th>PPE</th>\n",
              "    </tr>\n",
              "  </thead>\n",
              "  <tbody>\n",
              "    <tr>\n",
              "      <th>190</th>\n",
              "      <td>phon_R01_S50_2</td>\n",
              "      <td>174.188</td>\n",
              "      <td>230.978</td>\n",
              "      <td>94.261</td>\n",
              "      <td>0.00459</td>\n",
              "      <td>0.00003</td>\n",
              "      <td>0.00263</td>\n",
              "      <td>0.00259</td>\n",
              "      <td>0.00790</td>\n",
              "      <td>0.04087</td>\n",
              "      <td>0.405</td>\n",
              "      <td>0.02336</td>\n",
              "      <td>0.02498</td>\n",
              "      <td>0.02745</td>\n",
              "      <td>0.07008</td>\n",
              "      <td>0.02764</td>\n",
              "      <td>19.517</td>\n",
              "      <td>0</td>\n",
              "      <td>0.448439</td>\n",
              "      <td>0.657899</td>\n",
              "      <td>-6.538586</td>\n",
              "      <td>0.121952</td>\n",
              "      <td>2.657476</td>\n",
              "      <td>0.133050</td>\n",
              "    </tr>\n",
              "    <tr>\n",
              "      <th>191</th>\n",
              "      <td>phon_R01_S50_3</td>\n",
              "      <td>209.516</td>\n",
              "      <td>253.017</td>\n",
              "      <td>89.488</td>\n",
              "      <td>0.00564</td>\n",
              "      <td>0.00003</td>\n",
              "      <td>0.00331</td>\n",
              "      <td>0.00292</td>\n",
              "      <td>0.00994</td>\n",
              "      <td>0.02751</td>\n",
              "      <td>0.263</td>\n",
              "      <td>0.01604</td>\n",
              "      <td>0.01657</td>\n",
              "      <td>0.01879</td>\n",
              "      <td>0.04812</td>\n",
              "      <td>0.01810</td>\n",
              "      <td>19.147</td>\n",
              "      <td>0</td>\n",
              "      <td>0.431674</td>\n",
              "      <td>0.683244</td>\n",
              "      <td>-6.195325</td>\n",
              "      <td>0.129303</td>\n",
              "      <td>2.784312</td>\n",
              "      <td>0.168895</td>\n",
              "    </tr>\n",
              "    <tr>\n",
              "      <th>192</th>\n",
              "      <td>phon_R01_S50_4</td>\n",
              "      <td>174.688</td>\n",
              "      <td>240.005</td>\n",
              "      <td>74.287</td>\n",
              "      <td>0.01360</td>\n",
              "      <td>0.00008</td>\n",
              "      <td>0.00624</td>\n",
              "      <td>0.00564</td>\n",
              "      <td>0.01873</td>\n",
              "      <td>0.02308</td>\n",
              "      <td>0.256</td>\n",
              "      <td>0.01268</td>\n",
              "      <td>0.01365</td>\n",
              "      <td>0.01667</td>\n",
              "      <td>0.03804</td>\n",
              "      <td>0.10715</td>\n",
              "      <td>17.883</td>\n",
              "      <td>0</td>\n",
              "      <td>0.407567</td>\n",
              "      <td>0.655683</td>\n",
              "      <td>-6.787197</td>\n",
              "      <td>0.158453</td>\n",
              "      <td>2.679772</td>\n",
              "      <td>0.131728</td>\n",
              "    </tr>\n",
              "    <tr>\n",
              "      <th>193</th>\n",
              "      <td>phon_R01_S50_5</td>\n",
              "      <td>198.764</td>\n",
              "      <td>396.961</td>\n",
              "      <td>74.904</td>\n",
              "      <td>0.00740</td>\n",
              "      <td>0.00004</td>\n",
              "      <td>0.00370</td>\n",
              "      <td>0.00390</td>\n",
              "      <td>0.01109</td>\n",
              "      <td>0.02296</td>\n",
              "      <td>0.241</td>\n",
              "      <td>0.01265</td>\n",
              "      <td>0.01321</td>\n",
              "      <td>0.01588</td>\n",
              "      <td>0.03794</td>\n",
              "      <td>0.07223</td>\n",
              "      <td>19.020</td>\n",
              "      <td>0</td>\n",
              "      <td>0.451221</td>\n",
              "      <td>0.643956</td>\n",
              "      <td>-6.744577</td>\n",
              "      <td>0.207454</td>\n",
              "      <td>2.138608</td>\n",
              "      <td>0.123306</td>\n",
              "    </tr>\n",
              "    <tr>\n",
              "      <th>194</th>\n",
              "      <td>phon_R01_S50_6</td>\n",
              "      <td>214.289</td>\n",
              "      <td>260.277</td>\n",
              "      <td>77.973</td>\n",
              "      <td>0.00567</td>\n",
              "      <td>0.00003</td>\n",
              "      <td>0.00295</td>\n",
              "      <td>0.00317</td>\n",
              "      <td>0.00885</td>\n",
              "      <td>0.01884</td>\n",
              "      <td>0.190</td>\n",
              "      <td>0.01026</td>\n",
              "      <td>0.01161</td>\n",
              "      <td>0.01373</td>\n",
              "      <td>0.03078</td>\n",
              "      <td>0.04398</td>\n",
              "      <td>21.209</td>\n",
              "      <td>0</td>\n",
              "      <td>0.462803</td>\n",
              "      <td>0.664357</td>\n",
              "      <td>-5.724056</td>\n",
              "      <td>0.190667</td>\n",
              "      <td>2.555477</td>\n",
              "      <td>0.148569</td>\n",
              "    </tr>\n",
              "  </tbody>\n",
              "</table>\n",
              "</div>\n",
              "    <div class=\"colab-df-buttons\">\n",
              "\n",
              "  <div class=\"colab-df-container\">\n",
              "    <button class=\"colab-df-convert\" onclick=\"convertToInteractive('df-84f8d7d9-e15b-4d39-b69c-c2313984c6fe')\"\n",
              "            title=\"Convert this dataframe to an interactive table.\"\n",
              "            style=\"display:none;\">\n",
              "\n",
              "  <svg xmlns=\"http://www.w3.org/2000/svg\" height=\"24px\" viewBox=\"0 -960 960 960\">\n",
              "    <path d=\"M120-120v-720h720v720H120Zm60-500h600v-160H180v160Zm220 220h160v-160H400v160Zm0 220h160v-160H400v160ZM180-400h160v-160H180v160Zm440 0h160v-160H620v160ZM180-180h160v-160H180v160Zm440 0h160v-160H620v160Z\"/>\n",
              "  </svg>\n",
              "    </button>\n",
              "\n",
              "  <style>\n",
              "    .colab-df-container {\n",
              "      display:flex;\n",
              "      gap: 12px;\n",
              "    }\n",
              "\n",
              "    .colab-df-convert {\n",
              "      background-color: #E8F0FE;\n",
              "      border: none;\n",
              "      border-radius: 50%;\n",
              "      cursor: pointer;\n",
              "      display: none;\n",
              "      fill: #1967D2;\n",
              "      height: 32px;\n",
              "      padding: 0 0 0 0;\n",
              "      width: 32px;\n",
              "    }\n",
              "\n",
              "    .colab-df-convert:hover {\n",
              "      background-color: #E2EBFA;\n",
              "      box-shadow: 0px 1px 2px rgba(60, 64, 67, 0.3), 0px 1px 3px 1px rgba(60, 64, 67, 0.15);\n",
              "      fill: #174EA6;\n",
              "    }\n",
              "\n",
              "    .colab-df-buttons div {\n",
              "      margin-bottom: 4px;\n",
              "    }\n",
              "\n",
              "    [theme=dark] .colab-df-convert {\n",
              "      background-color: #3B4455;\n",
              "      fill: #D2E3FC;\n",
              "    }\n",
              "\n",
              "    [theme=dark] .colab-df-convert:hover {\n",
              "      background-color: #434B5C;\n",
              "      box-shadow: 0px 1px 3px 1px rgba(0, 0, 0, 0.15);\n",
              "      filter: drop-shadow(0px 1px 2px rgba(0, 0, 0, 0.3));\n",
              "      fill: #FFFFFF;\n",
              "    }\n",
              "  </style>\n",
              "\n",
              "    <script>\n",
              "      const buttonEl =\n",
              "        document.querySelector('#df-84f8d7d9-e15b-4d39-b69c-c2313984c6fe button.colab-df-convert');\n",
              "      buttonEl.style.display =\n",
              "        google.colab.kernel.accessAllowed ? 'block' : 'none';\n",
              "\n",
              "      async function convertToInteractive(key) {\n",
              "        const element = document.querySelector('#df-84f8d7d9-e15b-4d39-b69c-c2313984c6fe');\n",
              "        const dataTable =\n",
              "          await google.colab.kernel.invokeFunction('convertToInteractive',\n",
              "                                                    [key], {});\n",
              "        if (!dataTable) return;\n",
              "\n",
              "        const docLinkHtml = 'Like what you see? Visit the ' +\n",
              "          '<a target=\"_blank\" href=https://colab.research.google.com/notebooks/data_table.ipynb>data table notebook</a>'\n",
              "          + ' to learn more about interactive tables.';\n",
              "        element.innerHTML = '';\n",
              "        dataTable['output_type'] = 'display_data';\n",
              "        await google.colab.output.renderOutput(dataTable, element);\n",
              "        const docLink = document.createElement('div');\n",
              "        docLink.innerHTML = docLinkHtml;\n",
              "        element.appendChild(docLink);\n",
              "      }\n",
              "    </script>\n",
              "  </div>\n",
              "\n",
              "\n",
              "<div id=\"df-bc90fb46-d002-4258-9439-203d4afbfe6b\">\n",
              "  <button class=\"colab-df-quickchart\" onclick=\"quickchart('df-bc90fb46-d002-4258-9439-203d4afbfe6b')\"\n",
              "            title=\"Suggest charts\"\n",
              "            style=\"display:none;\">\n",
              "\n",
              "<svg xmlns=\"http://www.w3.org/2000/svg\" height=\"24px\"viewBox=\"0 0 24 24\"\n",
              "     width=\"24px\">\n",
              "    <g>\n",
              "        <path d=\"M19 3H5c-1.1 0-2 .9-2 2v14c0 1.1.9 2 2 2h14c1.1 0 2-.9 2-2V5c0-1.1-.9-2-2-2zM9 17H7v-7h2v7zm4 0h-2V7h2v10zm4 0h-2v-4h2v4z\"/>\n",
              "    </g>\n",
              "</svg>\n",
              "  </button>\n",
              "\n",
              "<style>\n",
              "  .colab-df-quickchart {\n",
              "      --bg-color: #E8F0FE;\n",
              "      --fill-color: #1967D2;\n",
              "      --hover-bg-color: #E2EBFA;\n",
              "      --hover-fill-color: #174EA6;\n",
              "      --disabled-fill-color: #AAA;\n",
              "      --disabled-bg-color: #DDD;\n",
              "  }\n",
              "\n",
              "  [theme=dark] .colab-df-quickchart {\n",
              "      --bg-color: #3B4455;\n",
              "      --fill-color: #D2E3FC;\n",
              "      --hover-bg-color: #434B5C;\n",
              "      --hover-fill-color: #FFFFFF;\n",
              "      --disabled-bg-color: #3B4455;\n",
              "      --disabled-fill-color: #666;\n",
              "  }\n",
              "\n",
              "  .colab-df-quickchart {\n",
              "    background-color: var(--bg-color);\n",
              "    border: none;\n",
              "    border-radius: 50%;\n",
              "    cursor: pointer;\n",
              "    display: none;\n",
              "    fill: var(--fill-color);\n",
              "    height: 32px;\n",
              "    padding: 0;\n",
              "    width: 32px;\n",
              "  }\n",
              "\n",
              "  .colab-df-quickchart:hover {\n",
              "    background-color: var(--hover-bg-color);\n",
              "    box-shadow: 0 1px 2px rgba(60, 64, 67, 0.3), 0 1px 3px 1px rgba(60, 64, 67, 0.15);\n",
              "    fill: var(--button-hover-fill-color);\n",
              "  }\n",
              "\n",
              "  .colab-df-quickchart-complete:disabled,\n",
              "  .colab-df-quickchart-complete:disabled:hover {\n",
              "    background-color: var(--disabled-bg-color);\n",
              "    fill: var(--disabled-fill-color);\n",
              "    box-shadow: none;\n",
              "  }\n",
              "\n",
              "  .colab-df-spinner {\n",
              "    border: 2px solid var(--fill-color);\n",
              "    border-color: transparent;\n",
              "    border-bottom-color: var(--fill-color);\n",
              "    animation:\n",
              "      spin 1s steps(1) infinite;\n",
              "  }\n",
              "\n",
              "  @keyframes spin {\n",
              "    0% {\n",
              "      border-color: transparent;\n",
              "      border-bottom-color: var(--fill-color);\n",
              "      border-left-color: var(--fill-color);\n",
              "    }\n",
              "    20% {\n",
              "      border-color: transparent;\n",
              "      border-left-color: var(--fill-color);\n",
              "      border-top-color: var(--fill-color);\n",
              "    }\n",
              "    30% {\n",
              "      border-color: transparent;\n",
              "      border-left-color: var(--fill-color);\n",
              "      border-top-color: var(--fill-color);\n",
              "      border-right-color: var(--fill-color);\n",
              "    }\n",
              "    40% {\n",
              "      border-color: transparent;\n",
              "      border-right-color: var(--fill-color);\n",
              "      border-top-color: var(--fill-color);\n",
              "    }\n",
              "    60% {\n",
              "      border-color: transparent;\n",
              "      border-right-color: var(--fill-color);\n",
              "    }\n",
              "    80% {\n",
              "      border-color: transparent;\n",
              "      border-right-color: var(--fill-color);\n",
              "      border-bottom-color: var(--fill-color);\n",
              "    }\n",
              "    90% {\n",
              "      border-color: transparent;\n",
              "      border-bottom-color: var(--fill-color);\n",
              "    }\n",
              "  }\n",
              "</style>\n",
              "\n",
              "  <script>\n",
              "    async function quickchart(key) {\n",
              "      const quickchartButtonEl =\n",
              "        document.querySelector('#' + key + ' button');\n",
              "      quickchartButtonEl.disabled = true;  // To prevent multiple clicks.\n",
              "      quickchartButtonEl.classList.add('colab-df-spinner');\n",
              "      try {\n",
              "        const charts = await google.colab.kernel.invokeFunction(\n",
              "            'suggestCharts', [key], {});\n",
              "      } catch (error) {\n",
              "        console.error('Error during call to suggestCharts:', error);\n",
              "      }\n",
              "      quickchartButtonEl.classList.remove('colab-df-spinner');\n",
              "      quickchartButtonEl.classList.add('colab-df-quickchart-complete');\n",
              "    }\n",
              "    (() => {\n",
              "      let quickchartButtonEl =\n",
              "        document.querySelector('#df-bc90fb46-d002-4258-9439-203d4afbfe6b button');\n",
              "      quickchartButtonEl.style.display =\n",
              "        google.colab.kernel.accessAllowed ? 'block' : 'none';\n",
              "    })();\n",
              "  </script>\n",
              "</div>\n",
              "\n",
              "    </div>\n",
              "  </div>\n"
            ],
            "application/vnd.google.colaboratory.intrinsic+json": {
              "type": "dataframe"
            }
          },
          "metadata": {},
          "execution_count": 26
        }
      ]
    },
    {
      "cell_type": "code",
      "source": [
        "df.shape"
      ],
      "metadata": {
        "id": "V2WpgHq4jFyv",
        "colab": {
          "base_uri": "https://localhost:8080/"
        },
        "outputId": "3fff04b6-d8b0-4dcb-99fa-c429dacd3d57"
      },
      "execution_count": null,
      "outputs": [
        {
          "output_type": "execute_result",
          "data": {
            "text/plain": [
              "(195, 24)"
            ]
          },
          "metadata": {},
          "execution_count": 27
        }
      ]
    },
    {
      "cell_type": "code",
      "source": [
        "df.info()"
      ],
      "metadata": {
        "id": "CtghmEd_jFwX",
        "colab": {
          "base_uri": "https://localhost:8080/"
        },
        "outputId": "1feaae21-66e3-44e8-d5bd-45e4052bbf99"
      },
      "execution_count": null,
      "outputs": [
        {
          "output_type": "stream",
          "name": "stdout",
          "text": [
            "<class 'pandas.core.frame.DataFrame'>\n",
            "RangeIndex: 195 entries, 0 to 194\n",
            "Data columns (total 24 columns):\n",
            " #   Column            Non-Null Count  Dtype  \n",
            "---  ------            --------------  -----  \n",
            " 0   name              195 non-null    object \n",
            " 1   MDVP:Fo(Hz)       195 non-null    float64\n",
            " 2   MDVP:Fhi(Hz)      195 non-null    float64\n",
            " 3   MDVP:Flo(Hz)      195 non-null    float64\n",
            " 4   MDVP:Jitter(%)    195 non-null    float64\n",
            " 5   MDVP:Jitter(Abs)  195 non-null    float64\n",
            " 6   MDVP:RAP          195 non-null    float64\n",
            " 7   MDVP:PPQ          195 non-null    float64\n",
            " 8   Jitter:DDP        195 non-null    float64\n",
            " 9   MDVP:Shimmer      195 non-null    float64\n",
            " 10  MDVP:Shimmer(dB)  195 non-null    float64\n",
            " 11  Shimmer:APQ3      195 non-null    float64\n",
            " 12  Shimmer:APQ5      195 non-null    float64\n",
            " 13  MDVP:APQ          195 non-null    float64\n",
            " 14  Shimmer:DDA       195 non-null    float64\n",
            " 15  NHR               195 non-null    float64\n",
            " 16  HNR               195 non-null    float64\n",
            " 17  status            195 non-null    int64  \n",
            " 18  RPDE              195 non-null    float64\n",
            " 19  DFA               195 non-null    float64\n",
            " 20  spread1           195 non-null    float64\n",
            " 21  spread2           195 non-null    float64\n",
            " 22  D2                195 non-null    float64\n",
            " 23  PPE               195 non-null    float64\n",
            "dtypes: float64(22), int64(1), object(1)\n",
            "memory usage: 36.7+ KB\n"
          ]
        }
      ]
    },
    {
      "cell_type": "code",
      "source": [
        "df.isnull().sum()"
      ],
      "metadata": {
        "id": "3fSgkgi-jsi_",
        "colab": {
          "base_uri": "https://localhost:8080/",
          "height": 836
        },
        "outputId": "5e468977-fdf1-4de5-914c-607fb7b5dc02"
      },
      "execution_count": null,
      "outputs": [
        {
          "output_type": "execute_result",
          "data": {
            "text/plain": [
              "name                0\n",
              "MDVP:Fo(Hz)         0\n",
              "MDVP:Fhi(Hz)        0\n",
              "MDVP:Flo(Hz)        0\n",
              "MDVP:Jitter(%)      0\n",
              "MDVP:Jitter(Abs)    0\n",
              "MDVP:RAP            0\n",
              "MDVP:PPQ            0\n",
              "Jitter:DDP          0\n",
              "MDVP:Shimmer        0\n",
              "MDVP:Shimmer(dB)    0\n",
              "Shimmer:APQ3        0\n",
              "Shimmer:APQ5        0\n",
              "MDVP:APQ            0\n",
              "Shimmer:DDA         0\n",
              "NHR                 0\n",
              "HNR                 0\n",
              "status              0\n",
              "RPDE                0\n",
              "DFA                 0\n",
              "spread1             0\n",
              "spread2             0\n",
              "D2                  0\n",
              "PPE                 0\n",
              "dtype: int64"
            ],
            "text/html": [
              "<div>\n",
              "<style scoped>\n",
              "    .dataframe tbody tr th:only-of-type {\n",
              "        vertical-align: middle;\n",
              "    }\n",
              "\n",
              "    .dataframe tbody tr th {\n",
              "        vertical-align: top;\n",
              "    }\n",
              "\n",
              "    .dataframe thead th {\n",
              "        text-align: right;\n",
              "    }\n",
              "</style>\n",
              "<table border=\"1\" class=\"dataframe\">\n",
              "  <thead>\n",
              "    <tr style=\"text-align: right;\">\n",
              "      <th></th>\n",
              "      <th>0</th>\n",
              "    </tr>\n",
              "  </thead>\n",
              "  <tbody>\n",
              "    <tr>\n",
              "      <th>name</th>\n",
              "      <td>0</td>\n",
              "    </tr>\n",
              "    <tr>\n",
              "      <th>MDVP:Fo(Hz)</th>\n",
              "      <td>0</td>\n",
              "    </tr>\n",
              "    <tr>\n",
              "      <th>MDVP:Fhi(Hz)</th>\n",
              "      <td>0</td>\n",
              "    </tr>\n",
              "    <tr>\n",
              "      <th>MDVP:Flo(Hz)</th>\n",
              "      <td>0</td>\n",
              "    </tr>\n",
              "    <tr>\n",
              "      <th>MDVP:Jitter(%)</th>\n",
              "      <td>0</td>\n",
              "    </tr>\n",
              "    <tr>\n",
              "      <th>MDVP:Jitter(Abs)</th>\n",
              "      <td>0</td>\n",
              "    </tr>\n",
              "    <tr>\n",
              "      <th>MDVP:RAP</th>\n",
              "      <td>0</td>\n",
              "    </tr>\n",
              "    <tr>\n",
              "      <th>MDVP:PPQ</th>\n",
              "      <td>0</td>\n",
              "    </tr>\n",
              "    <tr>\n",
              "      <th>Jitter:DDP</th>\n",
              "      <td>0</td>\n",
              "    </tr>\n",
              "    <tr>\n",
              "      <th>MDVP:Shimmer</th>\n",
              "      <td>0</td>\n",
              "    </tr>\n",
              "    <tr>\n",
              "      <th>MDVP:Shimmer(dB)</th>\n",
              "      <td>0</td>\n",
              "    </tr>\n",
              "    <tr>\n",
              "      <th>Shimmer:APQ3</th>\n",
              "      <td>0</td>\n",
              "    </tr>\n",
              "    <tr>\n",
              "      <th>Shimmer:APQ5</th>\n",
              "      <td>0</td>\n",
              "    </tr>\n",
              "    <tr>\n",
              "      <th>MDVP:APQ</th>\n",
              "      <td>0</td>\n",
              "    </tr>\n",
              "    <tr>\n",
              "      <th>Shimmer:DDA</th>\n",
              "      <td>0</td>\n",
              "    </tr>\n",
              "    <tr>\n",
              "      <th>NHR</th>\n",
              "      <td>0</td>\n",
              "    </tr>\n",
              "    <tr>\n",
              "      <th>HNR</th>\n",
              "      <td>0</td>\n",
              "    </tr>\n",
              "    <tr>\n",
              "      <th>status</th>\n",
              "      <td>0</td>\n",
              "    </tr>\n",
              "    <tr>\n",
              "      <th>RPDE</th>\n",
              "      <td>0</td>\n",
              "    </tr>\n",
              "    <tr>\n",
              "      <th>DFA</th>\n",
              "      <td>0</td>\n",
              "    </tr>\n",
              "    <tr>\n",
              "      <th>spread1</th>\n",
              "      <td>0</td>\n",
              "    </tr>\n",
              "    <tr>\n",
              "      <th>spread2</th>\n",
              "      <td>0</td>\n",
              "    </tr>\n",
              "    <tr>\n",
              "      <th>D2</th>\n",
              "      <td>0</td>\n",
              "    </tr>\n",
              "    <tr>\n",
              "      <th>PPE</th>\n",
              "      <td>0</td>\n",
              "    </tr>\n",
              "  </tbody>\n",
              "</table>\n",
              "</div><br><label><b>dtype:</b> int64</label>"
            ]
          },
          "metadata": {},
          "execution_count": 29
        }
      ]
    },
    {
      "cell_type": "code",
      "source": [
        "df.describe()"
      ],
      "metadata": {
        "id": "_1Q2u_Qgjsgz",
        "colab": {
          "base_uri": "https://localhost:8080/",
          "height": 320
        },
        "outputId": "0dc3964e-bcc6-4417-f485-bcb36420d508"
      },
      "execution_count": null,
      "outputs": [
        {
          "output_type": "execute_result",
          "data": {
            "text/plain": [
              "       MDVP:Fo(Hz)  MDVP:Fhi(Hz)  MDVP:Flo(Hz)  MDVP:Jitter(%)  \\\n",
              "count   195.000000    195.000000    195.000000      195.000000   \n",
              "mean    154.228641    197.104918    116.324631        0.006220   \n",
              "std      41.390065     91.491548     43.521413        0.004848   \n",
              "min      88.333000    102.145000     65.476000        0.001680   \n",
              "25%     117.572000    134.862500     84.291000        0.003460   \n",
              "50%     148.790000    175.829000    104.315000        0.004940   \n",
              "75%     182.769000    224.205500    140.018500        0.007365   \n",
              "max     260.105000    592.030000    239.170000        0.033160   \n",
              "\n",
              "       MDVP:Jitter(Abs)    MDVP:RAP    MDVP:PPQ  Jitter:DDP  MDVP:Shimmer  \\\n",
              "count        195.000000  195.000000  195.000000  195.000000    195.000000   \n",
              "mean           0.000044    0.003306    0.003446    0.009920      0.029709   \n",
              "std            0.000035    0.002968    0.002759    0.008903      0.018857   \n",
              "min            0.000007    0.000680    0.000920    0.002040      0.009540   \n",
              "25%            0.000020    0.001660    0.001860    0.004985      0.016505   \n",
              "50%            0.000030    0.002500    0.002690    0.007490      0.022970   \n",
              "75%            0.000060    0.003835    0.003955    0.011505      0.037885   \n",
              "max            0.000260    0.021440    0.019580    0.064330      0.119080   \n",
              "\n",
              "       MDVP:Shimmer(dB)  Shimmer:APQ3  Shimmer:APQ5    MDVP:APQ  Shimmer:DDA  \\\n",
              "count        195.000000    195.000000    195.000000  195.000000   195.000000   \n",
              "mean           0.282251      0.015664      0.017878    0.024081     0.046993   \n",
              "std            0.194877      0.010153      0.012024    0.016947     0.030459   \n",
              "min            0.085000      0.004550      0.005700    0.007190     0.013640   \n",
              "25%            0.148500      0.008245      0.009580    0.013080     0.024735   \n",
              "50%            0.221000      0.012790      0.013470    0.018260     0.038360   \n",
              "75%            0.350000      0.020265      0.022380    0.029400     0.060795   \n",
              "max            1.302000      0.056470      0.079400    0.137780     0.169420   \n",
              "\n",
              "              NHR         HNR      status        RPDE         DFA     spread1  \\\n",
              "count  195.000000  195.000000  195.000000  195.000000  195.000000  195.000000   \n",
              "mean     0.024847   21.885974    0.753846    0.498536    0.718099   -5.684397   \n",
              "std      0.040418    4.425764    0.431878    0.103942    0.055336    1.090208   \n",
              "min      0.000650    8.441000    0.000000    0.256570    0.574282   -7.964984   \n",
              "25%      0.005925   19.198000    1.000000    0.421306    0.674758   -6.450096   \n",
              "50%      0.011660   22.085000    1.000000    0.495954    0.722254   -5.720868   \n",
              "75%      0.025640   25.075500    1.000000    0.587562    0.761881   -5.046192   \n",
              "max      0.314820   33.047000    1.000000    0.685151    0.825288   -2.434031   \n",
              "\n",
              "          spread2          D2         PPE  \n",
              "count  195.000000  195.000000  195.000000  \n",
              "mean     0.226510    2.381826    0.206552  \n",
              "std      0.083406    0.382799    0.090119  \n",
              "min      0.006274    1.423287    0.044539  \n",
              "25%      0.174351    2.099125    0.137451  \n",
              "50%      0.218885    2.361532    0.194052  \n",
              "75%      0.279234    2.636456    0.252980  \n",
              "max      0.450493    3.671155    0.527367  "
            ],
            "text/html": [
              "\n",
              "  <div id=\"df-50a88e86-23cc-4cb2-9e38-8e734a01bb60\" class=\"colab-df-container\">\n",
              "    <div>\n",
              "<style scoped>\n",
              "    .dataframe tbody tr th:only-of-type {\n",
              "        vertical-align: middle;\n",
              "    }\n",
              "\n",
              "    .dataframe tbody tr th {\n",
              "        vertical-align: top;\n",
              "    }\n",
              "\n",
              "    .dataframe thead th {\n",
              "        text-align: right;\n",
              "    }\n",
              "</style>\n",
              "<table border=\"1\" class=\"dataframe\">\n",
              "  <thead>\n",
              "    <tr style=\"text-align: right;\">\n",
              "      <th></th>\n",
              "      <th>MDVP:Fo(Hz)</th>\n",
              "      <th>MDVP:Fhi(Hz)</th>\n",
              "      <th>MDVP:Flo(Hz)</th>\n",
              "      <th>MDVP:Jitter(%)</th>\n",
              "      <th>MDVP:Jitter(Abs)</th>\n",
              "      <th>MDVP:RAP</th>\n",
              "      <th>MDVP:PPQ</th>\n",
              "      <th>Jitter:DDP</th>\n",
              "      <th>MDVP:Shimmer</th>\n",
              "      <th>MDVP:Shimmer(dB)</th>\n",
              "      <th>Shimmer:APQ3</th>\n",
              "      <th>Shimmer:APQ5</th>\n",
              "      <th>MDVP:APQ</th>\n",
              "      <th>Shimmer:DDA</th>\n",
              "      <th>NHR</th>\n",
              "      <th>HNR</th>\n",
              "      <th>status</th>\n",
              "      <th>RPDE</th>\n",
              "      <th>DFA</th>\n",
              "      <th>spread1</th>\n",
              "      <th>spread2</th>\n",
              "      <th>D2</th>\n",
              "      <th>PPE</th>\n",
              "    </tr>\n",
              "  </thead>\n",
              "  <tbody>\n",
              "    <tr>\n",
              "      <th>count</th>\n",
              "      <td>195.000000</td>\n",
              "      <td>195.000000</td>\n",
              "      <td>195.000000</td>\n",
              "      <td>195.000000</td>\n",
              "      <td>195.000000</td>\n",
              "      <td>195.000000</td>\n",
              "      <td>195.000000</td>\n",
              "      <td>195.000000</td>\n",
              "      <td>195.000000</td>\n",
              "      <td>195.000000</td>\n",
              "      <td>195.000000</td>\n",
              "      <td>195.000000</td>\n",
              "      <td>195.000000</td>\n",
              "      <td>195.000000</td>\n",
              "      <td>195.000000</td>\n",
              "      <td>195.000000</td>\n",
              "      <td>195.000000</td>\n",
              "      <td>195.000000</td>\n",
              "      <td>195.000000</td>\n",
              "      <td>195.000000</td>\n",
              "      <td>195.000000</td>\n",
              "      <td>195.000000</td>\n",
              "      <td>195.000000</td>\n",
              "    </tr>\n",
              "    <tr>\n",
              "      <th>mean</th>\n",
              "      <td>154.228641</td>\n",
              "      <td>197.104918</td>\n",
              "      <td>116.324631</td>\n",
              "      <td>0.006220</td>\n",
              "      <td>0.000044</td>\n",
              "      <td>0.003306</td>\n",
              "      <td>0.003446</td>\n",
              "      <td>0.009920</td>\n",
              "      <td>0.029709</td>\n",
              "      <td>0.282251</td>\n",
              "      <td>0.015664</td>\n",
              "      <td>0.017878</td>\n",
              "      <td>0.024081</td>\n",
              "      <td>0.046993</td>\n",
              "      <td>0.024847</td>\n",
              "      <td>21.885974</td>\n",
              "      <td>0.753846</td>\n",
              "      <td>0.498536</td>\n",
              "      <td>0.718099</td>\n",
              "      <td>-5.684397</td>\n",
              "      <td>0.226510</td>\n",
              "      <td>2.381826</td>\n",
              "      <td>0.206552</td>\n",
              "    </tr>\n",
              "    <tr>\n",
              "      <th>std</th>\n",
              "      <td>41.390065</td>\n",
              "      <td>91.491548</td>\n",
              "      <td>43.521413</td>\n",
              "      <td>0.004848</td>\n",
              "      <td>0.000035</td>\n",
              "      <td>0.002968</td>\n",
              "      <td>0.002759</td>\n",
              "      <td>0.008903</td>\n",
              "      <td>0.018857</td>\n",
              "      <td>0.194877</td>\n",
              "      <td>0.010153</td>\n",
              "      <td>0.012024</td>\n",
              "      <td>0.016947</td>\n",
              "      <td>0.030459</td>\n",
              "      <td>0.040418</td>\n",
              "      <td>4.425764</td>\n",
              "      <td>0.431878</td>\n",
              "      <td>0.103942</td>\n",
              "      <td>0.055336</td>\n",
              "      <td>1.090208</td>\n",
              "      <td>0.083406</td>\n",
              "      <td>0.382799</td>\n",
              "      <td>0.090119</td>\n",
              "    </tr>\n",
              "    <tr>\n",
              "      <th>min</th>\n",
              "      <td>88.333000</td>\n",
              "      <td>102.145000</td>\n",
              "      <td>65.476000</td>\n",
              "      <td>0.001680</td>\n",
              "      <td>0.000007</td>\n",
              "      <td>0.000680</td>\n",
              "      <td>0.000920</td>\n",
              "      <td>0.002040</td>\n",
              "      <td>0.009540</td>\n",
              "      <td>0.085000</td>\n",
              "      <td>0.004550</td>\n",
              "      <td>0.005700</td>\n",
              "      <td>0.007190</td>\n",
              "      <td>0.013640</td>\n",
              "      <td>0.000650</td>\n",
              "      <td>8.441000</td>\n",
              "      <td>0.000000</td>\n",
              "      <td>0.256570</td>\n",
              "      <td>0.574282</td>\n",
              "      <td>-7.964984</td>\n",
              "      <td>0.006274</td>\n",
              "      <td>1.423287</td>\n",
              "      <td>0.044539</td>\n",
              "    </tr>\n",
              "    <tr>\n",
              "      <th>25%</th>\n",
              "      <td>117.572000</td>\n",
              "      <td>134.862500</td>\n",
              "      <td>84.291000</td>\n",
              "      <td>0.003460</td>\n",
              "      <td>0.000020</td>\n",
              "      <td>0.001660</td>\n",
              "      <td>0.001860</td>\n",
              "      <td>0.004985</td>\n",
              "      <td>0.016505</td>\n",
              "      <td>0.148500</td>\n",
              "      <td>0.008245</td>\n",
              "      <td>0.009580</td>\n",
              "      <td>0.013080</td>\n",
              "      <td>0.024735</td>\n",
              "      <td>0.005925</td>\n",
              "      <td>19.198000</td>\n",
              "      <td>1.000000</td>\n",
              "      <td>0.421306</td>\n",
              "      <td>0.674758</td>\n",
              "      <td>-6.450096</td>\n",
              "      <td>0.174351</td>\n",
              "      <td>2.099125</td>\n",
              "      <td>0.137451</td>\n",
              "    </tr>\n",
              "    <tr>\n",
              "      <th>50%</th>\n",
              "      <td>148.790000</td>\n",
              "      <td>175.829000</td>\n",
              "      <td>104.315000</td>\n",
              "      <td>0.004940</td>\n",
              "      <td>0.000030</td>\n",
              "      <td>0.002500</td>\n",
              "      <td>0.002690</td>\n",
              "      <td>0.007490</td>\n",
              "      <td>0.022970</td>\n",
              "      <td>0.221000</td>\n",
              "      <td>0.012790</td>\n",
              "      <td>0.013470</td>\n",
              "      <td>0.018260</td>\n",
              "      <td>0.038360</td>\n",
              "      <td>0.011660</td>\n",
              "      <td>22.085000</td>\n",
              "      <td>1.000000</td>\n",
              "      <td>0.495954</td>\n",
              "      <td>0.722254</td>\n",
              "      <td>-5.720868</td>\n",
              "      <td>0.218885</td>\n",
              "      <td>2.361532</td>\n",
              "      <td>0.194052</td>\n",
              "    </tr>\n",
              "    <tr>\n",
              "      <th>75%</th>\n",
              "      <td>182.769000</td>\n",
              "      <td>224.205500</td>\n",
              "      <td>140.018500</td>\n",
              "      <td>0.007365</td>\n",
              "      <td>0.000060</td>\n",
              "      <td>0.003835</td>\n",
              "      <td>0.003955</td>\n",
              "      <td>0.011505</td>\n",
              "      <td>0.037885</td>\n",
              "      <td>0.350000</td>\n",
              "      <td>0.020265</td>\n",
              "      <td>0.022380</td>\n",
              "      <td>0.029400</td>\n",
              "      <td>0.060795</td>\n",
              "      <td>0.025640</td>\n",
              "      <td>25.075500</td>\n",
              "      <td>1.000000</td>\n",
              "      <td>0.587562</td>\n",
              "      <td>0.761881</td>\n",
              "      <td>-5.046192</td>\n",
              "      <td>0.279234</td>\n",
              "      <td>2.636456</td>\n",
              "      <td>0.252980</td>\n",
              "    </tr>\n",
              "    <tr>\n",
              "      <th>max</th>\n",
              "      <td>260.105000</td>\n",
              "      <td>592.030000</td>\n",
              "      <td>239.170000</td>\n",
              "      <td>0.033160</td>\n",
              "      <td>0.000260</td>\n",
              "      <td>0.021440</td>\n",
              "      <td>0.019580</td>\n",
              "      <td>0.064330</td>\n",
              "      <td>0.119080</td>\n",
              "      <td>1.302000</td>\n",
              "      <td>0.056470</td>\n",
              "      <td>0.079400</td>\n",
              "      <td>0.137780</td>\n",
              "      <td>0.169420</td>\n",
              "      <td>0.314820</td>\n",
              "      <td>33.047000</td>\n",
              "      <td>1.000000</td>\n",
              "      <td>0.685151</td>\n",
              "      <td>0.825288</td>\n",
              "      <td>-2.434031</td>\n",
              "      <td>0.450493</td>\n",
              "      <td>3.671155</td>\n",
              "      <td>0.527367</td>\n",
              "    </tr>\n",
              "  </tbody>\n",
              "</table>\n",
              "</div>\n",
              "    <div class=\"colab-df-buttons\">\n",
              "\n",
              "  <div class=\"colab-df-container\">\n",
              "    <button class=\"colab-df-convert\" onclick=\"convertToInteractive('df-50a88e86-23cc-4cb2-9e38-8e734a01bb60')\"\n",
              "            title=\"Convert this dataframe to an interactive table.\"\n",
              "            style=\"display:none;\">\n",
              "\n",
              "  <svg xmlns=\"http://www.w3.org/2000/svg\" height=\"24px\" viewBox=\"0 -960 960 960\">\n",
              "    <path d=\"M120-120v-720h720v720H120Zm60-500h600v-160H180v160Zm220 220h160v-160H400v160Zm0 220h160v-160H400v160ZM180-400h160v-160H180v160Zm440 0h160v-160H620v160ZM180-180h160v-160H180v160Zm440 0h160v-160H620v160Z\"/>\n",
              "  </svg>\n",
              "    </button>\n",
              "\n",
              "  <style>\n",
              "    .colab-df-container {\n",
              "      display:flex;\n",
              "      gap: 12px;\n",
              "    }\n",
              "\n",
              "    .colab-df-convert {\n",
              "      background-color: #E8F0FE;\n",
              "      border: none;\n",
              "      border-radius: 50%;\n",
              "      cursor: pointer;\n",
              "      display: none;\n",
              "      fill: #1967D2;\n",
              "      height: 32px;\n",
              "      padding: 0 0 0 0;\n",
              "      width: 32px;\n",
              "    }\n",
              "\n",
              "    .colab-df-convert:hover {\n",
              "      background-color: #E2EBFA;\n",
              "      box-shadow: 0px 1px 2px rgba(60, 64, 67, 0.3), 0px 1px 3px 1px rgba(60, 64, 67, 0.15);\n",
              "      fill: #174EA6;\n",
              "    }\n",
              "\n",
              "    .colab-df-buttons div {\n",
              "      margin-bottom: 4px;\n",
              "    }\n",
              "\n",
              "    [theme=dark] .colab-df-convert {\n",
              "      background-color: #3B4455;\n",
              "      fill: #D2E3FC;\n",
              "    }\n",
              "\n",
              "    [theme=dark] .colab-df-convert:hover {\n",
              "      background-color: #434B5C;\n",
              "      box-shadow: 0px 1px 3px 1px rgba(0, 0, 0, 0.15);\n",
              "      filter: drop-shadow(0px 1px 2px rgba(0, 0, 0, 0.3));\n",
              "      fill: #FFFFFF;\n",
              "    }\n",
              "  </style>\n",
              "\n",
              "    <script>\n",
              "      const buttonEl =\n",
              "        document.querySelector('#df-50a88e86-23cc-4cb2-9e38-8e734a01bb60 button.colab-df-convert');\n",
              "      buttonEl.style.display =\n",
              "        google.colab.kernel.accessAllowed ? 'block' : 'none';\n",
              "\n",
              "      async function convertToInteractive(key) {\n",
              "        const element = document.querySelector('#df-50a88e86-23cc-4cb2-9e38-8e734a01bb60');\n",
              "        const dataTable =\n",
              "          await google.colab.kernel.invokeFunction('convertToInteractive',\n",
              "                                                    [key], {});\n",
              "        if (!dataTable) return;\n",
              "\n",
              "        const docLinkHtml = 'Like what you see? Visit the ' +\n",
              "          '<a target=\"_blank\" href=https://colab.research.google.com/notebooks/data_table.ipynb>data table notebook</a>'\n",
              "          + ' to learn more about interactive tables.';\n",
              "        element.innerHTML = '';\n",
              "        dataTable['output_type'] = 'display_data';\n",
              "        await google.colab.output.renderOutput(dataTable, element);\n",
              "        const docLink = document.createElement('div');\n",
              "        docLink.innerHTML = docLinkHtml;\n",
              "        element.appendChild(docLink);\n",
              "      }\n",
              "    </script>\n",
              "  </div>\n",
              "\n",
              "\n",
              "<div id=\"df-7b9f25ab-6b5e-4395-919e-c15345cfd9bc\">\n",
              "  <button class=\"colab-df-quickchart\" onclick=\"quickchart('df-7b9f25ab-6b5e-4395-919e-c15345cfd9bc')\"\n",
              "            title=\"Suggest charts\"\n",
              "            style=\"display:none;\">\n",
              "\n",
              "<svg xmlns=\"http://www.w3.org/2000/svg\" height=\"24px\"viewBox=\"0 0 24 24\"\n",
              "     width=\"24px\">\n",
              "    <g>\n",
              "        <path d=\"M19 3H5c-1.1 0-2 .9-2 2v14c0 1.1.9 2 2 2h14c1.1 0 2-.9 2-2V5c0-1.1-.9-2-2-2zM9 17H7v-7h2v7zm4 0h-2V7h2v10zm4 0h-2v-4h2v4z\"/>\n",
              "    </g>\n",
              "</svg>\n",
              "  </button>\n",
              "\n",
              "<style>\n",
              "  .colab-df-quickchart {\n",
              "      --bg-color: #E8F0FE;\n",
              "      --fill-color: #1967D2;\n",
              "      --hover-bg-color: #E2EBFA;\n",
              "      --hover-fill-color: #174EA6;\n",
              "      --disabled-fill-color: #AAA;\n",
              "      --disabled-bg-color: #DDD;\n",
              "  }\n",
              "\n",
              "  [theme=dark] .colab-df-quickchart {\n",
              "      --bg-color: #3B4455;\n",
              "      --fill-color: #D2E3FC;\n",
              "      --hover-bg-color: #434B5C;\n",
              "      --hover-fill-color: #FFFFFF;\n",
              "      --disabled-bg-color: #3B4455;\n",
              "      --disabled-fill-color: #666;\n",
              "  }\n",
              "\n",
              "  .colab-df-quickchart {\n",
              "    background-color: var(--bg-color);\n",
              "    border: none;\n",
              "    border-radius: 50%;\n",
              "    cursor: pointer;\n",
              "    display: none;\n",
              "    fill: var(--fill-color);\n",
              "    height: 32px;\n",
              "    padding: 0;\n",
              "    width: 32px;\n",
              "  }\n",
              "\n",
              "  .colab-df-quickchart:hover {\n",
              "    background-color: var(--hover-bg-color);\n",
              "    box-shadow: 0 1px 2px rgba(60, 64, 67, 0.3), 0 1px 3px 1px rgba(60, 64, 67, 0.15);\n",
              "    fill: var(--button-hover-fill-color);\n",
              "  }\n",
              "\n",
              "  .colab-df-quickchart-complete:disabled,\n",
              "  .colab-df-quickchart-complete:disabled:hover {\n",
              "    background-color: var(--disabled-bg-color);\n",
              "    fill: var(--disabled-fill-color);\n",
              "    box-shadow: none;\n",
              "  }\n",
              "\n",
              "  .colab-df-spinner {\n",
              "    border: 2px solid var(--fill-color);\n",
              "    border-color: transparent;\n",
              "    border-bottom-color: var(--fill-color);\n",
              "    animation:\n",
              "      spin 1s steps(1) infinite;\n",
              "  }\n",
              "\n",
              "  @keyframes spin {\n",
              "    0% {\n",
              "      border-color: transparent;\n",
              "      border-bottom-color: var(--fill-color);\n",
              "      border-left-color: var(--fill-color);\n",
              "    }\n",
              "    20% {\n",
              "      border-color: transparent;\n",
              "      border-left-color: var(--fill-color);\n",
              "      border-top-color: var(--fill-color);\n",
              "    }\n",
              "    30% {\n",
              "      border-color: transparent;\n",
              "      border-left-color: var(--fill-color);\n",
              "      border-top-color: var(--fill-color);\n",
              "      border-right-color: var(--fill-color);\n",
              "    }\n",
              "    40% {\n",
              "      border-color: transparent;\n",
              "      border-right-color: var(--fill-color);\n",
              "      border-top-color: var(--fill-color);\n",
              "    }\n",
              "    60% {\n",
              "      border-color: transparent;\n",
              "      border-right-color: var(--fill-color);\n",
              "    }\n",
              "    80% {\n",
              "      border-color: transparent;\n",
              "      border-right-color: var(--fill-color);\n",
              "      border-bottom-color: var(--fill-color);\n",
              "    }\n",
              "    90% {\n",
              "      border-color: transparent;\n",
              "      border-bottom-color: var(--fill-color);\n",
              "    }\n",
              "  }\n",
              "</style>\n",
              "\n",
              "  <script>\n",
              "    async function quickchart(key) {\n",
              "      const quickchartButtonEl =\n",
              "        document.querySelector('#' + key + ' button');\n",
              "      quickchartButtonEl.disabled = true;  // To prevent multiple clicks.\n",
              "      quickchartButtonEl.classList.add('colab-df-spinner');\n",
              "      try {\n",
              "        const charts = await google.colab.kernel.invokeFunction(\n",
              "            'suggestCharts', [key], {});\n",
              "      } catch (error) {\n",
              "        console.error('Error during call to suggestCharts:', error);\n",
              "      }\n",
              "      quickchartButtonEl.classList.remove('colab-df-spinner');\n",
              "      quickchartButtonEl.classList.add('colab-df-quickchart-complete');\n",
              "    }\n",
              "    (() => {\n",
              "      let quickchartButtonEl =\n",
              "        document.querySelector('#df-7b9f25ab-6b5e-4395-919e-c15345cfd9bc button');\n",
              "      quickchartButtonEl.style.display =\n",
              "        google.colab.kernel.accessAllowed ? 'block' : 'none';\n",
              "    })();\n",
              "  </script>\n",
              "</div>\n",
              "\n",
              "    </div>\n",
              "  </div>\n"
            ],
            "application/vnd.google.colaboratory.intrinsic+json": {
              "type": "dataframe"
            }
          },
          "metadata": {},
          "execution_count": 30
        }
      ]
    },
    {
      "cell_type": "code",
      "source": [
        "df[\"status\"].value_counts()"
      ],
      "metadata": {
        "id": "TwA1mE-Jjscy",
        "colab": {
          "base_uri": "https://localhost:8080/",
          "height": 178
        },
        "outputId": "0be01149-f74a-487a-e6ad-3bbbdf00b14a"
      },
      "execution_count": null,
      "outputs": [
        {
          "output_type": "execute_result",
          "data": {
            "text/plain": [
              "status\n",
              "1    147\n",
              "0     48\n",
              "Name: count, dtype: int64"
            ],
            "text/html": [
              "<div>\n",
              "<style scoped>\n",
              "    .dataframe tbody tr th:only-of-type {\n",
              "        vertical-align: middle;\n",
              "    }\n",
              "\n",
              "    .dataframe tbody tr th {\n",
              "        vertical-align: top;\n",
              "    }\n",
              "\n",
              "    .dataframe thead th {\n",
              "        text-align: right;\n",
              "    }\n",
              "</style>\n",
              "<table border=\"1\" class=\"dataframe\">\n",
              "  <thead>\n",
              "    <tr style=\"text-align: right;\">\n",
              "      <th></th>\n",
              "      <th>count</th>\n",
              "    </tr>\n",
              "    <tr>\n",
              "      <th>status</th>\n",
              "      <th></th>\n",
              "    </tr>\n",
              "  </thead>\n",
              "  <tbody>\n",
              "    <tr>\n",
              "      <th>1</th>\n",
              "      <td>147</td>\n",
              "    </tr>\n",
              "    <tr>\n",
              "      <th>0</th>\n",
              "      <td>48</td>\n",
              "    </tr>\n",
              "  </tbody>\n",
              "</table>\n",
              "</div><br><label><b>dtype:</b> int64</label>"
            ]
          },
          "metadata": {},
          "execution_count": 31
        }
      ]
    },
    {
      "cell_type": "code",
      "source": [
        "explode=(0.08,0)\n",
        "\n",
        "df['status'].value_counts().plot.pie(autopct='%1.2f%%',figsize=(2,4),explode=explode,colors=['#99ff99','#ff6666'])\n",
        "plt.title(\"Pie plot of distribution of status column\", fontsize=5)\n",
        "plt.tight_layout()\n",
        "plt.legend()\n",
        "plt.show()"
      ],
      "metadata": {
        "id": "LpSoRtfDjsZa",
        "colab": {
          "base_uri": "https://localhost:8080/",
          "height": 545
        },
        "outputId": "4f556d54-810d-44a3-efa6-6434d62ecb05"
      },
      "execution_count": null,
      "outputs": [
        {
          "output_type": "display_data",
          "data": {
            "text/plain": [
              "<Figure size 600x1200 with 1 Axes>"
            ],
            "image/png": "[encoded data removed]"
          },
          "metadata": {}
        }
      ]
    },
    {
      "cell_type": "code",
      "source": [
        "# Convert all columns except 'status' to numeric type, coercing errors to NaN\n",
        "for col in df.columns:\n",
        "    if col != 'status':\n",
        "        df[col] = pd.to_numeric(df[col], errors='coerce')\n",
        "\n",
        "# Calculate the mean for each numeric column, grouped by 'status'\n",
        "df.groupby(\"status\").mean()"
      ],
      "metadata": {
        "id": "aOGNP_mvj-gj",
        "colab": {
          "base_uri": "https://localhost:8080/",
          "height": 163
        },
        "outputId": "a8594364-2567-424a-ff88-a2a14b252bd5"
      },
      "execution_count": null,
      "outputs": [
        {
          "output_type": "execute_result",
          "data": {
            "text/plain": [
              "        name  MDVP:Fo(Hz)  MDVP:Fhi(Hz)  MDVP:Flo(Hz)  MDVP:Jitter(%)  \\\n",
              "status                                                                  \n",
              "0        NaN   181.937771    223.636750    145.207292        0.003866   \n",
              "1        NaN   145.180762    188.441463    106.893558        0.006989   \n",
              "\n",
              "        MDVP:Jitter(Abs)  MDVP:RAP  MDVP:PPQ  Jitter:DDP  MDVP:Shimmer  \\\n",
              "status                                                                   \n",
              "0               0.000023  0.001925  0.002056    0.005776      0.017615   \n",
              "1               0.000051  0.003757  0.003900    0.011273      0.033658   \n",
              "\n",
              "        MDVP:Shimmer(dB)  Shimmer:APQ3  Shimmer:APQ5  MDVP:APQ  Shimmer:DDA  \\\n",
              "status                                                                        \n",
              "0               0.162958      0.009504      0.010509  0.013305     0.028511   \n",
              "1               0.321204      0.017676      0.020285  0.027600     0.053027   \n",
              "\n",
              "             NHR        HNR      RPDE       DFA   spread1   spread2        D2  \\\n",
              "status                                                                          \n",
              "0       0.011483  24.678750  0.442552  0.695716 -6.759264  0.160292  2.154491   \n",
              "1       0.029211  20.974048  0.516816  0.725408 -5.333420  0.248133  2.456058   \n",
              "\n",
              "             PPE  \n",
              "status            \n",
              "0       0.123017  \n",
              "1       0.233828  "
            ],
            "text/html": [
              "\n",
              "  <div id=\"df-07897ede-a3fb-4e1f-998c-6e4df4445738\" class=\"colab-df-container\">\n",
              "    <div>\n",
              "<style scoped>\n",
              "    .dataframe tbody tr th:only-of-type {\n",
              "        vertical-align: middle;\n",
              "    }\n",
              "\n",
              "    .dataframe tbody tr th {\n",
              "        vertical-align: top;\n",
              "    }\n",
              "\n",
              "    .dataframe thead th {\n",
              "        text-align: right;\n",
              "    }\n",
              "</style>\n",
              "<table border=\"1\" class=\"dataframe\">\n",
              "  <thead>\n",
              "    <tr style=\"text-align: right;\">\n",
              "      <th></th>\n",
              "      <th>name</th>\n",
              "      <th>MDVP:Fo(Hz)</th>\n",
              "      <th>MDVP:Fhi(Hz)</th>\n",
              "      <th>MDVP:Flo(Hz)</th>\n",
              "      <th>MDVP:Jitter(%)</th>\n",
              "      <th>MDVP:Jitter(Abs)</th>\n",
              "      <th>MDVP:RAP</th>\n",
              "      <th>MDVP:PPQ</th>\n",
              "      <th>Jitter:DDP</th>\n",
              "      <th>MDVP:Shimmer</th>\n",
              "      <th>MDVP:Shimmer(dB)</th>\n",
              "      <th>Shimmer:APQ3</th>\n",
              "      <th>Shimmer:APQ5</th>\n",
              "      <th>MDVP:APQ</th>\n",
              "      <th>Shimmer:DDA</th>\n",
              "      <th>NHR</th>\n",
              "      <th>HNR</th>\n",
              "      <th>RPDE</th>\n",
              "      <th>DFA</th>\n",
              "      <th>spread1</th>\n",
              "      <th>spread2</th>\n",
              "      <th>D2</th>\n",
              "      <th>PPE</th>\n",
              "    </tr>\n",
              "    <tr>\n",
              "      <th>status</th>\n",
              "      <th></th>\n",
              "      <th></th>\n",
              "      <th></th>\n",
              "      <th></th>\n",
              "      <th></th>\n",
              "      <th></th>\n",
              "      <th></th>\n",
              "      <th></th>\n",
              "      <th></th>\n",
              "      <th></th>\n",
              "      <th></th>\n",
              "      <th></th>\n",
              "      <th></th>\n",
              "      <th></th>\n",
              "      <th></th>\n",
              "      <th></th>\n",
              "      <th></th>\n",
              "      <th></th>\n",
              "      <th></th>\n",
              "      <th></th>\n",
              "      <th></th>\n",
              "      <th></th>\n",
              "      <th></th>\n",
              "    </tr>\n",
              "  </thead>\n",
              "  <tbody>\n",
              "    <tr>\n",
              "      <th>0</th>\n",
              "      <td>NaN</td>\n",
              "      <td>181.937771</td>\n",
              "      <td>223.636750</td>\n",
              "      <td>145.207292</td>\n",
              "      <td>0.003866</td>\n",
              "      <td>0.000023</td>\n",
              "      <td>0.001925</td>\n",
              "      <td>0.002056</td>\n",
              "      <td>0.005776</td>\n",
              "      <td>0.017615</td>\n",
              "      <td>0.162958</td>\n",
              "      <td>0.009504</td>\n",
              "      <td>0.010509</td>\n",
              "      <td>0.013305</td>\n",
              "      <td>0.028511</td>\n",
              "      <td>0.011483</td>\n",
              "      <td>24.678750</td>\n",
              "      <td>0.442552</td>\n",
              "      <td>0.695716</td>\n",
              "      <td>-6.759264</td>\n",
              "      <td>0.160292</td>\n",
              "      <td>2.154491</td>\n",
              "      <td>0.123017</td>\n",
              "    </tr>\n",
              "    <tr>\n",
              "      <th>1</th>\n",
              "      <td>NaN</td>\n",
              "      <td>145.180762</td>\n",
              "      <td>188.441463</td>\n",
              "      <td>106.893558</td>\n",
              "      <td>0.006989</td>\n",
              "      <td>0.000051</td>\n",
              "      <td>0.003757</td>\n",
              "      <td>0.003900</td>\n",
              "      <td>0.011273</td>\n",
              "      <td>0.033658</td>\n",
              "      <td>0.321204</td>\n",
              "      <td>0.017676</td>\n",
              "      <td>0.020285</td>\n",
              "      <td>0.027600</td>\n",
              "      <td>0.053027</td>\n",
              "      <td>0.029211</td>\n",
              "      <td>20.974048</td>\n",
              "      <td>0.516816</td>\n",
              "      <td>0.725408</td>\n",
              "      <td>-5.333420</td>\n",
              "      <td>0.248133</td>\n",
              "      <td>2.456058</td>\n",
              "      <td>0.233828</td>\n",
              "    </tr>\n",
              "  </tbody>\n",
              "</table>\n",
              "</div>\n",
              "    <div class=\"colab-df-buttons\">\n",
              "\n",
              "  <div class=\"colab-df-container\">\n",
              "    <button class=\"colab-df-convert\" onclick=\"convertToInteractive('df-07897ede-a3fb-4e1f-998c-6e4df4445738')\"\n",
              "            title=\"Convert this dataframe to an interactive table.\"\n",
              "            style=\"display:none;\">\n",
              "\n",
              "  <svg xmlns=\"http://www.w3.org/2000/svg\" height=\"24px\" viewBox=\"0 -960 960 960\">\n",
              "    <path d=\"M120-120v-720h720v720H120Zm60-500h600v-160H180v160Zm220 220h160v-160H400v160Zm0 220h160v-160H400v160ZM180-400h160v-160H180v160Zm440 0h160v-160H620v160ZM180-180h160v-160H180v160Zm440 0h160v-160H620v160Z\"/>\n",
              "  </svg>\n",
              "    </button>\n",
              "\n",
              "  <style>\n",
              "    .colab-df-container {\n",
              "      display:flex;\n",
              "      gap: 12px;\n",
              "    }\n",
              "\n",
              "    .colab-df-convert {\n",
              "      background-color: #E8F0FE;\n",
              "      border: none;\n",
              "      border-radius: 50%;\n",
              "      cursor: pointer;\n",
              "      display: none;\n",
              "      fill: #1967D2;\n",
              "      height: 32px;\n",
              "      padding: 0 0 0 0;\n",
              "      width: 32px;\n",
              "    }\n",
              "\n",
              "    .colab-df-convert:hover {\n",
              "      background-color: #E2EBFA;\n",
              "      box-shadow: 0px 1px 2px rgba(60, 64, 67, 0.3), 0px 1px 3px 1px rgba(60, 64, 67, 0.15);\n",
              "      fill: #174EA6;\n",
              "    }\n",
              "\n",
              "    .colab-df-buttons div {\n",
              "      margin-bottom: 4px;\n",
              "    }\n",
              "\n",
              "    [theme=dark] .colab-df-convert {\n",
              "      background-color: #3B4455;\n",
              "      fill: #D2E3FC;\n",
              "    }\n",
              "\n",
              "    [theme=dark] .colab-df-convert:hover {\n",
              "      background-color: #434B5C;\n",
              "      box-shadow: 0px 1px 3px 1px rgba(0, 0, 0, 0.15);\n",
              "      filter: drop-shadow(0px 1px 2px rgba(0, 0, 0, 0.3));\n",
              "      fill: #FFFFFF;\n",
              "    }\n",
              "  </style>\n",
              "\n",
              "    <script>\n",
              "      const buttonEl =\n",
              "        document.querySelector('#df-07897ede-a3fb-4e1f-998c-6e4df4445738 button.colab-df-convert');\n",
              "      buttonEl.style.display =\n",
              "        google.colab.kernel.accessAllowed ? 'block' : 'none';\n",
              "\n",
              "      async function convertToInteractive(key) {\n",
              "        const element = document.querySelector('#df-07897ede-a3fb-4e1f-998c-6e4df4445738');\n",
              "        const dataTable =\n",
              "          await google.colab.kernel.invokeFunction('convertToInteractive',\n",
              "                                                    [key], {});\n",
              "        if (!dataTable) return;\n",
              "\n",
              "        const docLinkHtml = 'Like what you see? Visit the ' +\n",
              "          '<a target=\"_blank\" href=https://colab.research.google.com/notebooks/data_table.ipynb>data table notebook</a>'\n",
              "          + ' to learn more about interactive tables.';\n",
              "        element.innerHTML = '';\n",
              "        dataTable['output_type'] = 'display_data';\n",
              "        await google.colab.output.renderOutput(dataTable, element);\n",
              "        const docLink = document.createElement('div');\n",
              "        docLink.innerHTML = docLinkHtml;\n",
              "        element.appendChild(docLink);\n",
              "      }\n",
              "    </script>\n",
              "  </div>\n",
              "\n",
              "\n",
              "<div id=\"df-c24ae081-f511-486a-93f0-2b5da8eca6fa\">\n",
              "  <button class=\"colab-df-quickchart\" onclick=\"quickchart('df-c24ae081-f511-486a-93f0-2b5da8eca6fa')\"\n",
              "            title=\"Suggest charts\"\n",
              "            style=\"display:none;\">\n",
              "\n",
              "<svg xmlns=\"http://www.w3.org/2000/svg\" height=\"24px\"viewBox=\"0 0 24 24\"\n",
              "     width=\"24px\">\n",
              "    <g>\n",
              "        <path d=\"M19 3H5c-1.1 0-2 .9-2 2v14c0 1.1.9 2 2 2h14c1.1 0 2-.9 2-2V5c0-1.1-.9-2-2-2zM9 17H7v-7h2v7zm4 0h-2V7h2v10zm4 0h-2v-4h2v4z\"/>\n",
              "    </g>\n",
              "</svg>\n",
              "  </button>\n",
              "\n",
              "<style>\n",
              "  .colab-df-quickchart {\n",
              "      --bg-color: #E8F0FE;\n",
              "      --fill-color: #1967D2;\n",
              "      --hover-bg-color: #E2EBFA;\n",
              "      --hover-fill-color: #174EA6;\n",
              "      --disabled-fill-color: #AAA;\n",
              "      --disabled-bg-color: #DDD;\n",
              "  }\n",
              "\n",
              "  [theme=dark] .colab-df-quickchart {\n",
              "      --bg-color: #3B4455;\n",
              "      --fill-color: #D2E3FC;\n",
              "      --hover-bg-color: #434B5C;\n",
              "      --hover-fill-color: #FFFFFF;\n",
              "      --disabled-bg-color: #3B4455;\n",
              "      --disabled-fill-color: #666;\n",
              "  }\n",
              "\n",
              "  .colab-df-quickchart {\n",
              "    background-color: var(--bg-color);\n",
              "    border: none;\n",
              "    border-radius: 50%;\n",
              "    cursor: pointer;\n",
              "    display: none;\n",
              "    fill: var(--fill-color);\n",
              "    height: 32px;\n",
              "    padding: 0;\n",
              "    width: 32px;\n",
              "  }\n",
              "\n",
              "  .colab-df-quickchart:hover {\n",
              "    background-color: var(--hover-bg-color);\n",
              "    box-shadow: 0 1px 2px rgba(60, 64, 67, 0.3), 0 1px 3px 1px rgba(60, 64, 67, 0.15);\n",
              "    fill: var(--button-hover-fill-color);\n",
              "  }\n",
              "\n",
              "  .colab-df-quickchart-complete:disabled,\n",
              "  .colab-df-quickchart-complete:disabled:hover {\n",
              "    background-color: var(--disabled-bg-color);\n",
              "    fill: var(--disabled-fill-color);\n",
              "    box-shadow: none;\n",
              "  }\n",
              "\n",
              "  .colab-df-spinner {\n",
              "    border: 2px solid var(--fill-color);\n",
              "    border-color: transparent;\n",
              "    border-bottom-color: var(--fill-color);\n",
              "    animation:\n",
              "      spin 1s steps(1) infinite;\n",
              "  }\n",
              "\n",
              "  @keyframes spin {\n",
              "    0% {\n",
              "      border-color: transparent;\n",
              "      border-bottom-color: var(--fill-color);\n",
              "      border-left-color: var(--fill-color);\n",
              "    }\n",
              "    20% {\n",
              "      border-color: transparent;\n",
              "      border-left-color: var(--fill-color);\n",
              "      border-top-color: var(--fill-color);\n",
              "    }\n",
              "    30% {\n",
              "      border-color: transparent;\n",
              "      border-left-color: var(--fill-color);\n",
              "      border-top-color: var(--fill-color);\n",
              "      border-right-color: var(--fill-color);\n",
              "    }\n",
              "    40% {\n",
              "      border-color: transparent;\n",
              "      border-right-color: var(--fill-color);\n",
              "      border-top-color: var(--fill-color);\n",
              "    }\n",
              "    60% {\n",
              "      border-color: transparent;\n",
              "      border-right-color: var(--fill-color);\n",
              "    }\n",
              "    80% {\n",
              "      border-color: transparent;\n",
              "      border-right-color: var(--fill-color);\n",
              "      border-bottom-color: var(--fill-color);\n",
              "    }\n",
              "    90% {\n",
              "      border-color: transparent;\n",
              "      border-bottom-color: var(--fill-color);\n",
              "    }\n",
              "  }\n",
              "</style>\n",
              "\n",
              "  <script>\n",
              "    async function quickchart(key) {\n",
              "      const quickchartButtonEl =\n",
              "        document.querySelector('#' + key + ' button');\n",
              "      quickchartButtonEl.disabled = true;  // To prevent multiple clicks.\n",
              "      quickchartButtonEl.classList.add('colab-df-spinner');\n",
              "      try {\n",
              "        const charts = await google.colab.kernel.invokeFunction(\n",
              "            'suggestCharts', [key], {});\n",
              "      } catch (error) {\n",
              "        console.error('Error during call to suggestCharts:', error);\n",
              "      }\n",
              "      quickchartButtonEl.classList.remove('colab-df-spinner');\n",
              "      quickchartButtonEl.classList.add('colab-df-quickchart-complete');\n",
              "    }\n",
              "    (() => {\n",
              "      let quickchartButtonEl =\n",
              "        document.querySelector('#df-c24ae081-f511-486a-93f0-2b5da8eca6fa button');\n",
              "      quickchartButtonEl.style.display =\n",
              "        google.colab.kernel.accessAllowed ? 'block' : 'none';\n",
              "    })();\n",
              "  </script>\n",
              "</div>\n",
              "\n",
              "    </div>\n",
              "  </div>\n"
            ],
            "application/vnd.google.colaboratory.intrinsic+json": {
              "type": "dataframe"
            }
          },
          "metadata": {},
          "execution_count": 33
        }
      ]
    },
    {
      "cell_type": "code",
      "source": [
        "sns.set(font_scale=0.25)\n",
        "cmap = sns.diverging_palette(260, 10, as_cmap=True)\n",
        "plt.figure(figsize=(4, 4))\n",
        "sns.heatmap(df.drop([\"name\", \"status\"], axis=1).corr(\"spearman\"), vmax=1.2, annot=True, square='square', cmap=cmap, fmt = '.0%', linewidths=2)\n",
        "plt.show()"
      ],
      "metadata": {
        "id": "yqyYpG6zjsU7",
        "colab": {
          "base_uri": "https://localhost:8080/",
          "height": 1000
        },
        "outputId": "7fd3bbd0-224f-4719-9e50-d52ecd5a2195"
      },
      "execution_count": null,
      "outputs": [
        {
          "output_type": "display_data",
          "data": {
            "text/plain": [
              "<Figure size 1200x1200 with 2 Axes>"
            ],
            "image/png": "[encoded data removed]"
          },
          "metadata": {}
        }
      ]
    },
    {
      "cell_type": "code",
      "source": [
        "# With the following function we can select highly correlated features\n",
        "# It will remove the first feature that is correlated with anything other feature\n",
        "\n",
        "def correlation(dataset, threshold):\n",
        "    col_corr = set()  # Set of all the names of correlated columns\n",
        "    corr_matrix = dataset.corr(\"spearman\")\n",
        "    for i in range(len(corr_matrix.columns)):\n",
        "        for j in range(i):\n",
        "            if abs(corr_matrix.iloc[i, j]) > threshold: # we are interested in absolute coeff value\n",
        "                colname = corr_matrix.columns[i]  # getting the name of column\n",
        "                col_corr.add(colname)\n",
        "    return col_corr"
      ],
      "metadata": {
        "id": "k9V3wH_rjsTX"
      },
      "execution_count": null,
      "outputs": []
    },
    {
      "cell_type": "code",
      "source": [
        "corr_features = correlation(df.drop([\"name\", \"status\"], axis=1), 0.85)\n",
        "corr_features"
      ],
      "metadata": {
        "id": "tnyk_JZAjsRe",
        "colab": {
          "base_uri": "https://localhost:8080/"
        },
        "outputId": "cbf216ea-26fd-452f-8734-b095e64bbb01"
      },
      "execution_count": null,
      "outputs": [
        {
          "output_type": "execute_result",
          "data": {
            "text/plain": [
              "{'HNR',\n",
              " 'Jitter:DDP',\n",
              " 'MDVP:APQ',\n",
              " 'MDVP:Jitter(Abs)',\n",
              " 'MDVP:PPQ',\n",
              " 'MDVP:RAP',\n",
              " 'MDVP:Shimmer(dB)',\n",
              " 'PPE',\n",
              " 'Shimmer:APQ3',\n",
              " 'Shimmer:APQ5',\n",
              " 'Shimmer:DDA'}"
            ]
          },
          "metadata": {},
          "execution_count": 36
        }
      ]
    },
    {
      "cell_type": "code",
      "source": [
        "df_anova = df.drop([\"name\"], axis=1)\n",
        "grps = pd.unique(df_anova.status.values)\n",
        "\n",
        "coldrop = []\n",
        "\n",
        "for i in range(len(df_anova.columns)-1):\n",
        "\n",
        "    d_data = {grp:df_anova[df_anova.columns[i]][df_anova.status == grp] for grp in grps}\n",
        "\n",
        "    F, p = stats.f_oneway(d_data[0], d_data[1])\n",
        "    print(\"P_Value of {} and status\".format(df_anova.columns[i]), p)\n",
        "\n",
        "    if p < 0.05:\n",
        "        print(\"There is relation between {} and status \\n\".format(df_anova.columns[i]))\n",
        "    else:\n",
        "        print(\"There is no relation between {} and status \\n\".format(df_anova.columns[i]))\n",
        "        coldrop.append(df_anova.columns[i])"
      ],
      "metadata": {
        "id": "OGF2MpPBjsPZ",
        "colab": {
          "base_uri": "https://localhost:8080/"
        },
        "outputId": "fd38320a-2534-4db3-c7e1-2f731bc7d106"
      },
      "execution_count": null,
      "outputs": [
        {
          "output_type": "stream",
          "name": "stdout",
          "text": [
            "P_Value of MDVP:Fo(Hz) and status 3.121919402836332e-08\n",
            "There is relation between MDVP:Fo(Hz) and status \n",
            "\n",
            "P_Value of MDVP:Fhi(Hz) and status 0.020275669142798408\n",
            "There is relation between MDVP:Fhi(Hz) and status \n",
            "\n",
            "P_Value of MDVP:Flo(Hz) and status 4.1970041821535477e-08\n",
            "There is relation between MDVP:Flo(Hz) and status \n",
            "\n",
            "P_Value of MDVP:Jitter(%) and status 8.209989250843925e-05\n",
            "There is relation between MDVP:Jitter(%) and status \n",
            "\n",
            "P_Value of MDVP:Jitter(Abs) and status 1.282252324068255e-06\n",
            "There is relation between MDVP:Jitter(Abs) and status \n",
            "\n",
            "P_Value of MDVP:RAP and status 0.0001643393410195311\n",
            "There is relation between MDVP:RAP and status \n",
            "\n",
            "P_Value of MDVP:PPQ and status 4.257766523261872e-05\n",
            "There is relation between MDVP:PPQ and status \n",
            "\n",
            "P_Value of Jitter:DDP and status 0.00016454664474031298\n",
            "There is relation between Jitter:DDP and status \n",
            "\n",
            "P_Value of MDVP:Shimmer and status 1.2647022896752661e-07\n",
            "There is relation between MDVP:Shimmer and status \n",
            "\n",
            "P_Value of MDVP:Shimmer(dB) and status 5.000743178590638e-07\n",
            "There is relation between MDVP:Shimmer(dB) and status \n",
            "\n",
            "P_Value of Shimmer:APQ3 and status 6.386194089451467e-07\n",
            "There is relation between Shimmer:APQ3 and status \n",
            "\n",
            "P_Value of Shimmer:APQ5 and status 4.82357514488572e-07\n",
            "There is relation between Shimmer:APQ5 and status \n",
            "\n",
            "P_Value of MDVP:APQ and status 1.6432377654660142e-07\n",
            "There is relation between MDVP:APQ and status \n",
            "\n",
            "P_Value of Shimmer:DDA and status 6.390538560329779e-07\n",
            "There is relation between Shimmer:DDA and status \n",
            "\n",
            "P_Value of NHR and status 0.007994850518899843\n",
            "There is relation between NHR and status \n",
            "\n",
            "P_Value of HNR and status 2.074677359679702e-07\n",
            "There is relation between HNR and status \n",
            "\n",
            "P_Value of status and status 0.0\n",
            "There is relation between status and status \n",
            "\n",
            "P_Value of RPDE and status 1.1398962455333769e-05\n",
            "There is relation between RPDE and status \n",
            "\n",
            "P_Value of DFA and status 0.001115115879842905\n",
            "There is relation between DFA and status \n",
            "\n",
            "P_Value of spread1 and status 7.909650873104612e-18\n",
            "There is relation between spread1 and status \n",
            "\n",
            "P_Value of spread2 and status 2.3917287623712665e-11\n",
            "There is relation between spread2 and status \n",
            "\n",
            "P_Value of D2 and status 1.1359246053142801e-06\n",
            "There is relation between D2 and status \n",
            "\n"
          ]
        }
      ]
    },
    {
      "cell_type": "code",
      "source": [
        "df.drop(\"name\", axis=1).columns"
      ],
      "metadata": {
        "id": "mrSvAHOXjsNV",
        "colab": {
          "base_uri": "https://localhost:8080/"
        },
        "outputId": "975f9c72-0224-48ba-9daa-0c9bc312bd77"
      },
      "execution_count": null,
      "outputs": [
        {
          "output_type": "execute_result",
          "data": {
            "text/plain": [
              "Index(['MDVP:Fo(Hz)', 'MDVP:Fhi(Hz)', 'MDVP:Flo(Hz)', 'MDVP:Jitter(%)',\n",
              "       'MDVP:Jitter(Abs)', 'MDVP:RAP', 'MDVP:PPQ', 'Jitter:DDP',\n",
              "       'MDVP:Shimmer', 'MDVP:Shimmer(dB)', 'Shimmer:APQ3', 'Shimmer:APQ5',\n",
              "       'MDVP:APQ', 'Shimmer:DDA', 'NHR', 'HNR', 'status', 'RPDE', 'DFA',\n",
              "       'spread1', 'spread2', 'D2', 'PPE'],\n",
              "      dtype='object')"
            ]
          },
          "metadata": {},
          "execution_count": 38
        }
      ]
    },
    {
      "cell_type": "code",
      "source": [
        "var_thres = VarianceThreshold(threshold=0)\n",
        "var_thres.fit(df.drop(\"name\", axis=1))\n",
        "\n",
        "var_thres.get_support()\n",
        "\n",
        "print(df.drop(\"name\", axis=1).columns[var_thres.get_support()])\n",
        "\n",
        "\n",
        "constant_columns = [column for column in df.drop(\"name\", axis=1).columns\n",
        "                    if column not in df.drop(\"name\", axis=1).columns[var_thres.get_support()]]\n",
        "print(constant_columns)\n",
        "print(len(constant_columns))"
      ],
      "metadata": {
        "id": "Vp_wPJoZjsLO",
        "colab": {
          "base_uri": "https://localhost:8080/"
        },
        "outputId": "74100ad8-353f-42a6-ca9e-45d636767212"
      },
      "execution_count": null,
      "outputs": [
        {
          "output_type": "stream",
          "name": "stdout",
          "text": [
            "Index(['MDVP:Fo(Hz)', 'MDVP:Fhi(Hz)', 'MDVP:Flo(Hz)', 'MDVP:Jitter(%)',\n",
            "       'MDVP:Jitter(Abs)', 'MDVP:RAP', 'MDVP:PPQ', 'Jitter:DDP',\n",
            "       'MDVP:Shimmer', 'MDVP:Shimmer(dB)', 'Shimmer:APQ3', 'Shimmer:APQ5',\n",
            "       'MDVP:APQ', 'Shimmer:DDA', 'NHR', 'HNR', 'status', 'RPDE', 'DFA',\n",
            "       'spread1', 'spread2', 'D2', 'PPE'],\n",
            "      dtype='object')\n",
            "[]\n",
            "0\n"
          ]
        }
      ]
    },
    {
      "cell_type": "code",
      "source": [
        "corr_features = list(corr_features)\n",
        "\n",
        "list_drop = corr_features + coldrop\n",
        "list_drop.append(\"name\")\n",
        "list_drop"
      ],
      "metadata": {
        "id": "MkJslTr1jsJP",
        "colab": {
          "base_uri": "https://localhost:8080/"
        },
        "outputId": "875cb787-c07f-491a-93ce-51a617a08b64"
      },
      "execution_count": null,
      "outputs": [
        {
          "output_type": "execute_result",
          "data": {
            "text/plain": [
              "['Shimmer:APQ3',\n",
              " 'MDVP:RAP',\n",
              " 'Jitter:DDP',\n",
              " 'MDVP:APQ',\n",
              " 'Shimmer:APQ5',\n",
              " 'Shimmer:DDA',\n",
              " 'HNR',\n",
              " 'MDVP:Jitter(Abs)',\n",
              " 'PPE',\n",
              " 'MDVP:Shimmer(dB)',\n",
              " 'MDVP:PPQ',\n",
              " 'name']"
            ]
          },
          "metadata": {},
          "execution_count": 40
        }
      ]
    },
    {
      "cell_type": "code",
      "source": [
        "df.drop(list_drop, axis=1, inplace=True)\n",
        "display(df.columns)\n",
        "display(df.shape)"
      ],
      "metadata": {
        "id": "yQ_BQa6ijsG7",
        "colab": {
          "base_uri": "https://localhost:8080/",
          "height": 104
        },
        "outputId": "131677a6-a1ee-44b3-c2e8-d047717f5ea3"
      },
      "execution_count": null,
      "outputs": [
        {
          "output_type": "display_data",
          "data": {
            "text/plain": [
              "Index(['MDVP:Fo(Hz)', 'MDVP:Fhi(Hz)', 'MDVP:Flo(Hz)', 'MDVP:Jitter(%)',\n",
              "       'MDVP:Shimmer', 'NHR', 'status', 'RPDE', 'DFA', 'spread1', 'spread2',\n",
              "       'D2'],\n",
              "      dtype='object')"
            ]
          },
          "metadata": {}
        },
        {
          "output_type": "display_data",
          "data": {
            "text/plain": [
              "(195, 12)"
            ]
          },
          "metadata": {}
        }
      ]
    },
    {
      "cell_type": "code",
      "source": [
        "X = df.drop([\"status\"], axis=1)\n",
        "y = df[\"status\"]"
      ],
      "metadata": {
        "id": "IoysBBw0jsEo"
      },
      "execution_count": null,
      "outputs": []
    },
    {
      "cell_type": "code",
      "source": [
        "X.head()"
      ],
      "metadata": {
        "id": "thrZwmD4kdA_",
        "colab": {
          "base_uri": "https://localhost:8080/",
          "height": 206
        },
        "outputId": "9cac90be-7cfb-4b61-eeb8-344d0eddce8c"
      },
      "execution_count": null,
      "outputs": [
        {
          "output_type": "execute_result",
          "data": {
            "text/plain": [
              "   MDVP:Fo(Hz)  MDVP:Fhi(Hz)  MDVP:Flo(Hz)  MDVP:Jitter(%)  MDVP:Shimmer  \\\n",
              "0      119.992       157.302        74.997         0.00784       0.04374   \n",
              "1      122.400       148.650       113.819         0.00968       0.06134   \n",
              "2      116.682       131.111       111.555         0.01050       0.05233   \n",
              "3      116.676       137.871       111.366         0.00997       0.05492   \n",
              "4      116.014       141.781       110.655         0.01284       0.06425   \n",
              "\n",
              "       NHR      RPDE       DFA   spread1   spread2        D2  \n",
              "0  0.02211  0.414783  0.815285 -4.813031  0.266482  2.301442  \n",
              "1  0.01929  0.458359  0.819521 -4.075192  0.335590  2.486855  \n",
              "2  0.01309  0.429895  0.825288 -4.443179  0.311173  2.342259  \n",
              "3  0.01353  0.434969  0.819235 -4.117501  0.334147  2.405554  \n",
              "4  0.01767  0.417356  0.823484 -3.747787  0.234513  2.332180  "
            ],
            "text/html": [
              "\n",
              "  <div id=\"df-fe45ee75-5f8c-4dbe-88b7-6e1dd4932c0e\" class=\"colab-df-container\">\n",
              "    <div>\n",
              "<style scoped>\n",
              "    .dataframe tbody tr th:only-of-type {\n",
              "        vertical-align: middle;\n",
              "    }\n",
              "\n",
              "    .dataframe tbody tr th {\n",
              "        vertical-align: top;\n",
              "    }\n",
              "\n",
              "    .dataframe thead th {\n",
              "        text-align: right;\n",
              "    }\n",
              "</style>\n",
              "<table border=\"1\" class=\"dataframe\">\n",
              "  <thead>\n",
              "    <tr style=\"text-align: right;\">\n",
              "      <th></th>\n",
              "      <th>MDVP:Fo(Hz)</th>\n",
              "      <th>MDVP:Fhi(Hz)</th>\n",
              "      <th>MDVP:Flo(Hz)</th>\n",
              "      <th>MDVP:Jitter(%)</th>\n",
              "      <th>MDVP:Shimmer</th>\n",
              "      <th>NHR</th>\n",
              "      <th>RPDE</th>\n",
              "      <th>DFA</th>\n",
              "      <th>spread1</th>\n",
              "      <th>spread2</th>\n",
              "      <th>D2</th>\n",
              "    </tr>\n",
              "  </thead>\n",
              "  <tbody>\n",
              "    <tr>\n",
              "      <th>0</th>\n",
              "      <td>119.992</td>\n",
              "      <td>157.302</td>\n",
              "      <td>74.997</td>\n",
              "      <td>0.00784</td>\n",
              "      <td>0.04374</td>\n",
              "      <td>0.02211</td>\n",
              "      <td>0.414783</td>\n",
              "      <td>0.815285</td>\n",
              "      <td>-4.813031</td>\n",
              "      <td>0.266482</td>\n",
              "      <td>2.301442</td>\n",
              "    </tr>\n",
              "    <tr>\n",
              "      <th>1</th>\n",
              "      <td>122.400</td>\n",
              "      <td>148.650</td>\n",
              "      <td>113.819</td>\n",
              "      <td>0.00968</td>\n",
              "      <td>0.06134</td>\n",
              "      <td>0.01929</td>\n",
              "      <td>0.458359</td>\n",
              "      <td>0.819521</td>\n",
              "      <td>-4.075192</td>\n",
              "      <td>0.335590</td>\n",
              "      <td>2.486855</td>\n",
              "    </tr>\n",
              "    <tr>\n",
              "      <th>2</th>\n",
              "      <td>116.682</td>\n",
              "      <td>131.111</td>\n",
              "      <td>111.555</td>\n",
              "      <td>0.01050</td>\n",
              "      <td>0.05233</td>\n",
              "      <td>0.01309</td>\n",
              "      <td>0.429895</td>\n",
              "      <td>0.825288</td>\n",
              "      <td>-4.443179</td>\n",
              "      <td>0.311173</td>\n",
              "      <td>2.342259</td>\n",
              "    </tr>\n",
              "    <tr>\n",
              "      <th>3</th>\n",
              "      <td>116.676</td>\n",
              "      <td>137.871</td>\n",
              "      <td>111.366</td>\n",
              "      <td>0.00997</td>\n",
              "      <td>0.05492</td>\n",
              "      <td>0.01353</td>\n",
              "      <td>0.434969</td>\n",
              "      <td>0.819235</td>\n",
              "      <td>-4.117501</td>\n",
              "      <td>0.334147</td>\n",
              "      <td>2.405554</td>\n",
              "    </tr>\n",
              "    <tr>\n",
              "      <th>4</th>\n",
              "      <td>116.014</td>\n",
              "      <td>141.781</td>\n",
              "      <td>110.655</td>\n",
              "      <td>0.01284</td>\n",
              "      <td>0.06425</td>\n",
              "      <td>0.01767</td>\n",
              "      <td>0.417356</td>\n",
              "      <td>0.823484</td>\n",
              "      <td>-3.747787</td>\n",
              "      <td>0.234513</td>\n",
              "      <td>2.332180</td>\n",
              "    </tr>\n",
              "  </tbody>\n",
              "</table>\n",
              "</div>\n",
              "    <div class=\"colab-df-buttons\">\n",
              "\n",
              "  <div class=\"colab-df-container\">\n",
              "    <button class=\"colab-df-convert\" onclick=\"convertToInteractive('df-fe45ee75-5f8c-4dbe-88b7-6e1dd4932c0e')\"\n",
              "            title=\"Convert this dataframe to an interactive table.\"\n",
              "            style=\"display:none;\">\n",
              "\n",
              "  <svg xmlns=\"http://www.w3.org/2000/svg\" height=\"24px\" viewBox=\"0 -960 960 960\">\n",
              "    <path d=\"M120-120v-720h720v720H120Zm60-500h600v-160H180v160Zm220 220h160v-160H400v160Zm0 220h160v-160H400v160ZM180-400h160v-160H180v160Zm440 0h160v-160H620v160ZM180-180h160v-160H180v160Zm440 0h160v-160H620v160Z\"/>\n",
              "  </svg>\n",
              "    </button>\n",
              "\n",
              "  <style>\n",
              "    .colab-df-container {\n",
              "      display:flex;\n",
              "      gap: 12px;\n",
              "    }\n",
              "\n",
              "    .colab-df-convert {\n",
              "      background-color: #E8F0FE;\n",
              "      border: none;\n",
              "      border-radius: 50%;\n",
              "      cursor: pointer;\n",
              "      display: none;\n",
              "      fill: #1967D2;\n",
              "      height: 32px;\n",
              "      padding: 0 0 0 0;\n",
              "      width: 32px;\n",
              "    }\n",
              "\n",
              "    .colab-df-convert:hover {\n",
              "      background-color: #E2EBFA;\n",
              "      box-shadow: 0px 1px 2px rgba(60, 64, 67, 0.3), 0px 1px 3px 1px rgba(60, 64, 67, 0.15);\n",
              "      fill: #174EA6;\n",
              "    }\n",
              "\n",
              "    .colab-df-buttons div {\n",
              "      margin-bottom: 4px;\n",
              "    }\n",
              "\n",
              "    [theme=dark] .colab-df-convert {\n",
              "      background-color: #3B4455;\n",
              "      fill: #D2E3FC;\n",
              "    }\n",
              "\n",
              "    [theme=dark] .colab-df-convert:hover {\n",
              "      background-color: #434B5C;\n",
              "      box-shadow: 0px 1px 3px 1px rgba(0, 0, 0, 0.15);\n",
              "      filter: drop-shadow(0px 1px 2px rgba(0, 0, 0, 0.3));\n",
              "      fill: #FFFFFF;\n",
              "    }\n",
              "  </style>\n",
              "\n",
              "    <script>\n",
              "      const buttonEl =\n",
              "        document.querySelector('#df-fe45ee75-5f8c-4dbe-88b7-6e1dd4932c0e button.colab-df-convert');\n",
              "      buttonEl.style.display =\n",
              "        google.colab.kernel.accessAllowed ? 'block' : 'none';\n",
              "\n",
              "      async function convertToInteractive(key) {\n",
              "        const element = document.querySelector('#df-fe45ee75-5f8c-4dbe-88b7-6e1dd4932c0e');\n",
              "        const dataTable =\n",
              "          await google.colab.kernel.invokeFunction('convertToInteractive',\n",
              "                                                    [key], {});\n",
              "        if (!dataTable) return;\n",
              "\n",
              "        const docLinkHtml = 'Like what you see? Visit the ' +\n",
              "          '<a target=\"_blank\" href=https://colab.research.google.com/notebooks/data_table.ipynb>data table notebook</a>'\n",
              "          + ' to learn more about interactive tables.';\n",
              "        element.innerHTML = '';\n",
              "        dataTable['output_type'] = 'display_data';\n",
              "        await google.colab.output.renderOutput(dataTable, element);\n",
              "        const docLink = document.createElement('div');\n",
              "        docLink.innerHTML = docLinkHtml;\n",
              "        element.appendChild(docLink);\n",
              "      }\n",
              "    </script>\n",
              "  </div>\n",
              "\n",
              "\n",
              "<div id=\"df-c6f9d10c-f45f-4860-a220-26bdb9cbc984\">\n",
              "  <button class=\"colab-df-quickchart\" onclick=\"quickchart('df-c6f9d10c-f45f-4860-a220-26bdb9cbc984')\"\n",
              "            title=\"Suggest charts\"\n",
              "            style=\"display:none;\">\n",
              "\n",
              "<svg xmlns=\"http://www.w3.org/2000/svg\" height=\"24px\"viewBox=\"0 0 24 24\"\n",
              "     width=\"24px\">\n",
              "    <g>\n",
              "        <path d=\"M19 3H5c-1.1 0-2 .9-2 2v14c0 1.1.9 2 2 2h14c1.1 0 2-.9 2-2V5c0-1.1-.9-2-2-2zM9 17H7v-7h2v7zm4 0h-2V7h2v10zm4 0h-2v-4h2v4z\"/>\n",
              "    </g>\n",
              "</svg>\n",
              "  </button>\n",
              "\n",
              "<style>\n",
              "  .colab-df-quickchart {\n",
              "      --bg-color: #E8F0FE;\n",
              "      --fill-color: #1967D2;\n",
              "      --hover-bg-color: #E2EBFA;\n",
              "      --hover-fill-color: #174EA6;\n",
              "      --disabled-fill-color: #AAA;\n",
              "      --disabled-bg-color: #DDD;\n",
              "  }\n",
              "\n",
              "  [theme=dark] .colab-df-quickchart {\n",
              "      --bg-color: #3B4455;\n",
              "      --fill-color: #D2E3FC;\n",
              "      --hover-bg-color: #434B5C;\n",
              "      --hover-fill-color: #FFFFFF;\n",
              "      --disabled-bg-color: #3B4455;\n",
              "      --disabled-fill-color: #666;\n",
              "  }\n",
              "\n",
              "  .colab-df-quickchart {\n",
              "    background-color: var(--bg-color);\n",
              "    border: none;\n",
              "    border-radius: 50%;\n",
              "    cursor: pointer;\n",
              "    display: none;\n",
              "    fill: var(--fill-color);\n",
              "    height: 32px;\n",
              "    padding: 0;\n",
              "    width: 32px;\n",
              "  }\n",
              "\n",
              "  .colab-df-quickchart:hover {\n",
              "    background-color: var(--hover-bg-color);\n",
              "    box-shadow: 0 1px 2px rgba(60, 64, 67, 0.3), 0 1px 3px 1px rgba(60, 64, 67, 0.15);\n",
              "    fill: var(--button-hover-fill-color);\n",
              "  }\n",
              "\n",
              "  .colab-df-quickchart-complete:disabled,\n",
              "  .colab-df-quickchart-complete:disabled:hover {\n",
              "    background-color: var(--disabled-bg-color);\n",
              "    fill: var(--disabled-fill-color);\n",
              "    box-shadow: none;\n",
              "  }\n",
              "\n",
              "  .colab-df-spinner {\n",
              "    border: 2px solid var(--fill-color);\n",
              "    border-color: transparent;\n",
              "    border-bottom-color: var(--fill-color);\n",
              "    animation:\n",
              "      spin 1s steps(1) infinite;\n",
              "  }\n",
              "\n",
              "  @keyframes spin {\n",
              "    0% {\n",
              "      border-color: transparent;\n",
              "      border-bottom-color: var(--fill-color);\n",
              "      border-left-color: var(--fill-color);\n",
              "    }\n",
              "    20% {\n",
              "      border-color: transparent;\n",
              "      border-left-color: var(--fill-color);\n",
              "      border-top-color: var(--fill-color);\n",
              "    }\n",
              "    30% {\n",
              "      border-color: transparent;\n",
              "      border-left-color: var(--fill-color);\n",
              "      border-top-color: var(--fill-color);\n",
              "      border-right-color: var(--fill-color);\n",
              "    }\n",
              "    40% {\n",
              "      border-color: transparent;\n",
              "      border-right-color: var(--fill-color);\n",
              "      border-top-color: var(--fill-color);\n",
              "    }\n",
              "    60% {\n",
              "      border-color: transparent;\n",
              "      border-right-color: var(--fill-color);\n",
              "    }\n",
              "    80% {\n",
              "      border-color: transparent;\n",
              "      border-right-color: var(--fill-color);\n",
              "      border-bottom-color: var(--fill-color);\n",
              "    }\n",
              "    90% {\n",
              "      border-color: transparent;\n",
              "      border-bottom-color: var(--fill-color);\n",
              "    }\n",
              "  }\n",
              "</style>\n",
              "\n",
              "  <script>\n",
              "    async function quickchart(key) {\n",
              "      const quickchartButtonEl =\n",
              "        document.querySelector('#' + key + ' button');\n",
              "      quickchartButtonEl.disabled = true;  // To prevent multiple clicks.\n",
              "      quickchartButtonEl.classList.add('colab-df-spinner');\n",
              "      try {\n",
              "        const charts = await google.colab.kernel.invokeFunction(\n",
              "            'suggestCharts', [key], {});\n",
              "      } catch (error) {\n",
              "        console.error('Error during call to suggestCharts:', error);\n",
              "      }\n",
              "      quickchartButtonEl.classList.remove('colab-df-spinner');\n",
              "      quickchartButtonEl.classList.add('colab-df-quickchart-complete');\n",
              "    }\n",
              "    (() => {\n",
              "      let quickchartButtonEl =\n",
              "        document.querySelector('#df-c6f9d10c-f45f-4860-a220-26bdb9cbc984 button');\n",
              "      quickchartButtonEl.style.display =\n",
              "        google.colab.kernel.accessAllowed ? 'block' : 'none';\n",
              "    })();\n",
              "  </script>\n",
              "</div>\n",
              "\n",
              "    </div>\n",
              "  </div>\n"
            ],
            "application/vnd.google.colaboratory.intrinsic+json": {
              "type": "dataframe",
              "variable_name": "X",
              "summary": "{\n  \"name\": \"X\",\n  \"rows\": 195,\n  \"fields\": [\n    {\n      \"column\": \"MDVP:Fo(Hz)\",\n      \"properties\": {\n        \"dtype\": \"number\",\n        \"std\": 41.39006474907147,\n        \"min\": 88.333,\n        \"max\": 260.105,\n        \"num_unique_values\": 195,\n        \"samples\": [\n          112.239,\n          144.188,\n          117.87\n        ],\n        \"semantic_type\": \"\",\n        \"description\": \"\"\n      }\n    },\n    {\n      \"column\": \"MDVP:Fhi(Hz)\",\n      \"properties\": {\n        \"dtype\": \"number\",\n        \"std\": 91.49154763503036,\n        \"min\": 102.145,\n        \"max\": 592.03,\n        \"num_unique_values\": 195,\n        \"samples\": [\n          126.609,\n          349.259,\n          127.349\n        ],\n        \"semantic_type\": \"\",\n        \"description\": \"\"\n      }\n    },\n    {\n      \"column\": \"MDVP:Flo(Hz)\",\n      \"properties\": {\n        \"dtype\": \"number\",\n        \"std\": 43.521413181993644,\n        \"min\": 65.476,\n        \"max\": 239.17,\n        \"num_unique_values\": 195,\n        \"samples\": [\n          104.095,\n          82.764,\n          95.654\n        ],\n        \"semantic_type\": \"\",\n        \"description\": \"\"\n      }\n    },\n    {\n      \"column\": \"MDVP:Jitter(%)\",\n      \"properties\": {\n        \"dtype\": \"number\",\n        \"std\": 0.004848133692602562,\n        \"min\": 0.00168,\n        \"max\": 0.03316,\n        \"num_unique_values\": 173,\n        \"samples\": [\n          0.00396,\n          0.00235,\n          0.01378\n        ],\n        \"semantic_type\": \"\",\n        \"description\": \"\"\n      }\n    },\n    {\n      \"column\": \"MDVP:Shimmer\",\n      \"properties\": {\n        \"dtype\": \"number\",\n        \"std\": 0.018856931858946806,\n        \"min\": 0.00954,\n        \"max\": 0.11908,\n        \"num_unique_values\": 188,\n        \"samples\": [\n          0.04087,\n          0.01242,\n          0.05517\n        ],\n        \"semantic_type\": \"\",\n        \"description\": \"\"\n      }\n    },\n    {\n      \"column\": \"NHR\",\n      \"properties\": {\n        \"dtype\": \"number\",\n        \"std\": 0.04041844855606929,\n        \"min\": 0.00065,\n        \"max\": 0.31482,\n        \"num_unique_values\": 185,\n        \"samples\": [\n          0.03365,\n          0.00675,\n          0.01435\n        ],\n        \"semantic_type\": \"\",\n        \"description\": \"\"\n      }\n    },\n    {\n      \"column\": \"RPDE\",\n      \"properties\": {\n        \"dtype\": \"number\",\n        \"std\": 0.10394171413073468,\n        \"min\": 0.25657,\n        \"max\": 0.685151,\n        \"num_unique_values\": 195,\n        \"samples\": [\n          0.640945,\n          0.56738,\n          0.6283\n        ],\n        \"semantic_type\": \"\",\n        \"description\": \"\"\n      }\n    },\n    {\n      \"column\": \"DFA\",\n      \"properties\": {\n        \"dtype\": \"number\",\n        \"std\": 0.055335830346596795,\n        \"min\": 0.574282,\n        \"max\": 0.825288,\n        \"num_unique_values\": 195,\n        \"samples\": [\n          0.701404,\n          0.644692,\n          0.652025\n        ],\n        \"semantic_type\": \"\",\n        \"description\": \"\"\n      }\n    },\n    {\n      \"column\": \"spread1\",\n      \"properties\": {\n        \"dtype\": \"number\",\n        \"std\": 1.090207763740309,\n        \"min\": -7.964984,\n        \"max\": -2.434031,\n        \"num_unique_values\": 195,\n        \"samples\": [\n          -5.634576,\n          -5.44004,\n          -3.583722\n        ],\n        \"semantic_type\": \"\",\n        \"description\": \"\"\n      }\n    },\n    {\n      \"column\": \"spread2\",\n      \"properties\": {\n        \"dtype\": \"number\",\n        \"std\": 0.08340576262039774,\n        \"min\": 0.006274,\n        \"max\": 0.450493,\n        \"num_unique_values\": 194,\n        \"samples\": [\n          0.23307,\n          0.239764,\n          0.230532\n        ],\n        \"semantic_type\": \"\",\n        \"description\": \"\"\n      }\n    },\n    {\n      \"column\": \"D2\",\n      \"properties\": {\n        \"dtype\": \"number\",\n        \"std\": 0.38279904654611663,\n        \"min\": 1.423287,\n        \"max\": 3.671155,\n        \"num_unique_values\": 195,\n        \"samples\": [\n          2.419253,\n          2.264501,\n          2.439597\n        ],\n        \"semantic_type\": \"\",\n        \"description\": \"\"\n      }\n    }\n  ]\n}"
            }
          },
          "metadata": {},
          "execution_count": 43
        }
      ]
    },
    {
      "cell_type": "code",
      "source": [
        "y.head()"
      ],
      "metadata": {
        "id": "dcsjEctkkd0J",
        "colab": {
          "base_uri": "https://localhost:8080/",
          "height": 241
        },
        "outputId": "6a8cd805-ef9f-4308-8e95-f5ae8de5950c"
      },
      "execution_count": null,
      "outputs": [
        {
          "output_type": "execute_result",
          "data": {
            "text/plain": [
              "0    1\n",
              "1    1\n",
              "2    1\n",
              "3    1\n",
              "4    1\n",
              "Name: status, dtype: int64"
            ],
            "text/html": [
              "<div>\n",
              "<style scoped>\n",
              "    .dataframe tbody tr th:only-of-type {\n",
              "        vertical-align: middle;\n",
              "    }\n",
              "\n",
              "    .dataframe tbody tr th {\n",
              "        vertical-align: top;\n",
              "    }\n",
              "\n",
              "    .dataframe thead th {\n",
              "        text-align: right;\n",
              "    }\n",
              "</style>\n",
              "<table border=\"1\" class=\"dataframe\">\n",
              "  <thead>\n",
              "    <tr style=\"text-align: right;\">\n",
              "      <th></th>\n",
              "      <th>status</th>\n",
              "    </tr>\n",
              "  </thead>\n",
              "  <tbody>\n",
              "    <tr>\n",
              "      <th>0</th>\n",
              "      <td>1</td>\n",
              "    </tr>\n",
              "    <tr>\n",
              "      <th>1</th>\n",
              "      <td>1</td>\n",
              "    </tr>\n",
              "    <tr>\n",
              "      <th>2</th>\n",
              "      <td>1</td>\n",
              "    </tr>\n",
              "    <tr>\n",
              "      <th>3</th>\n",
              "      <td>1</td>\n",
              "    </tr>\n",
              "    <tr>\n",
              "      <th>4</th>\n",
              "      <td>1</td>\n",
              "    </tr>\n",
              "  </tbody>\n",
              "</table>\n",
              "</div><br><label><b>dtype:</b> int64</label>"
            ]
          },
          "metadata": {},
          "execution_count": 44
        }
      ]
    },
    {
      "cell_type": "code",
      "source": [
        "scaler = StandardScaler()\n",
        "feature = scaler.fit_transform(X)\n",
        "feature"
      ],
      "metadata": {
        "id": "PAfKVPflkdwu",
        "colab": {
          "base_uri": "https://localhost:8080/"
        },
        "outputId": "e6dd8a15-514e-45a1-ed16-fb68c79d6f4f"
      },
      "execution_count": null,
      "outputs": [
        {
          "output_type": "execute_result",
          "data": {
            "text/plain": [
              "array([[-0.82929965, -0.43616456, -0.95203729, ...,  0.80132308,\n",
              "         0.48047686, -0.21053082],\n",
              "       [-0.77097169, -0.53097409, -0.05772056, ...,  1.47985265,\n",
              "         1.31118546,  0.27507712],\n",
              "       [-0.90947638, -0.7231683 , -0.10987483, ...,  1.14144541,\n",
              "         1.01768236, -0.10362861],\n",
              "       ...,\n",
              "       [ 0.49557839,  0.47010361, -0.96839309, ..., -1.01415428,\n",
              "        -0.81807931,  0.78033848],\n",
              "       [ 1.07876114,  2.19004398, -0.95417967, ..., -0.97496019,\n",
              "        -0.22906571, -0.63700298],\n",
              "       [ 1.45481664,  0.69224632, -0.88348115, ..., -0.03647134,\n",
              "        -0.43085284,  0.45480231]])"
            ]
          },
          "metadata": {},
          "execution_count": 45
        }
      ]
    },
    {
      "cell_type": "code",
      "source": [
        "X_train, X_test, y_train, y_test = train_test_split(feature, y, test_size=0.3, random_state=42)\n",
        "X_train"
      ],
      "metadata": {
        "id": "B40_m4HkkduU",
        "colab": {
          "base_uri": "https://localhost:8080/"
        },
        "outputId": "939025cb-7c3e-48ce-8a02-543548b240b0"
      },
      "execution_count": null,
      "outputs": [
        {
          "output_type": "execute_result",
          "data": {
            "text/plain": [
              "array([[ 0.62904478,  0.04541129,  1.36217024, ..., -0.70595463,\n",
              "        -0.17088677, -0.294456  ],\n",
              "       [ 1.09000041,  0.13595811,  1.74537973, ..., -1.83757049,\n",
              "        -0.63938344, -0.72998488],\n",
              "       [-0.98134477, -0.88390179, -0.4471729 , ..., -0.23827678,\n",
              "        -0.41302653, -1.38622725],\n",
              "       ...,\n",
              "       [-0.14428519, -0.35192961,  0.59835436, ..., -0.24614594,\n",
              "        -1.66687868, -0.09818882],\n",
              "       [-0.1474099 , -0.45062926,  0.43115662, ..., -0.02465334,\n",
              "         0.17266944,  1.21336615],\n",
              "       [-0.36345106,  4.26776648, -1.15567853, ...,  2.22079297,\n",
              "         0.53046987,  0.80952792]])"
            ]
          },
          "metadata": {},
          "execution_count": 46
        }
      ]
    },
    {
      "cell_type": "code",
      "source": [
        "y_train.head()"
      ],
      "metadata": {
        "id": "snUCAOSnkdsH",
        "colab": {
          "base_uri": "https://localhost:8080/",
          "height": 241
        },
        "outputId": "82273315-3b72-4722-e299-ae93e00eb482"
      },
      "execution_count": null,
      "outputs": [
        {
          "output_type": "execute_result",
          "data": {
            "text/plain": [
              "38     1\n",
              "31     0\n",
              "173    0\n",
              "12     1\n",
              "109    1\n",
              "Name: status, dtype: int64"
            ],
            "text/html": [
              "<div>\n",
              "<style scoped>\n",
              "    .dataframe tbody tr th:only-of-type {\n",
              "        vertical-align: middle;\n",
              "    }\n",
              "\n",
              "    .dataframe tbody tr th {\n",
              "        vertical-align: top;\n",
              "    }\n",
              "\n",
              "    .dataframe thead th {\n",
              "        text-align: right;\n",
              "    }\n",
              "</style>\n",
              "<table border=\"1\" class=\"dataframe\">\n",
              "  <thead>\n",
              "    <tr style=\"text-align: right;\">\n",
              "      <th></th>\n",
              "      <th>status</th>\n",
              "    </tr>\n",
              "  </thead>\n",
              "  <tbody>\n",
              "    <tr>\n",
              "      <th>38</th>\n",
              "      <td>1</td>\n",
              "    </tr>\n",
              "    <tr>\n",
              "      <th>31</th>\n",
              "      <td>0</td>\n",
              "    </tr>\n",
              "    <tr>\n",
              "      <th>173</th>\n",
              "      <td>0</td>\n",
              "    </tr>\n",
              "    <tr>\n",
              "      <th>12</th>\n",
              "      <td>1</td>\n",
              "    </tr>\n",
              "    <tr>\n",
              "      <th>109</th>\n",
              "      <td>1</td>\n",
              "    </tr>\n",
              "  </tbody>\n",
              "</table>\n",
              "</div><br><label><b>dtype:</b> int64</label>"
            ]
          },
          "metadata": {},
          "execution_count": 47
        }
      ]
    },
    {
      "cell_type": "code",
      "source": [
        "X_test"
      ],
      "metadata": {
        "id": "A_yoQI1Rkdpd",
        "colab": {
          "base_uri": "https://localhost:8080/"
        },
        "outputId": "4caf3232-e5f3-4b01-fc12-7c4b88e07710"
      },
      "execution_count": null,
      "outputs": [
        {
          "output_type": "execute_result",
          "data": {
            "text/plain": [
              "array([[-1.01709729e+00, -7.72501687e-01, -2.81725914e-01,\n",
              "        -3.10289244e-01,  1.42067923e+00,  3.57915067e-02,\n",
              "         1.37361622e+00, -3.02480675e-01,  4.58160217e-02,\n",
              "         9.55668910e-01,  9.80233631e-02],\n",
              "       [-2.43210195e-01,  1.66732044e+00, -7.73114051e-01,\n",
              "        -1.61396220e-01, -4.91220409e-01, -1.55205925e-01,\n",
              "         6.64042038e-01, -1.32998811e+00,  2.24714708e-01,\n",
              "         1.59314727e-01, -3.07281546e-01],\n",
              "       [-8.80699961e-01, -7.64392689e-01, -4.76175648e-01,\n",
              "         5.16035223e-02,  6.17205331e-02,  3.62876039e-02,\n",
              "         1.25164836e+00, -1.19712889e+00,  1.93181700e+00,\n",
              "        -2.23536303e-01,  1.51305538e-01],\n",
              "       [ 1.18384426e-01, -3.08930004e-01,  6.56221645e-01,\n",
              "        -5.79123870e-01,  2.18032684e-01, -4.04990877e-01,\n",
              "        -1.27520351e+00, -4.46971643e-01, -6.74119319e-01,\n",
              "        -3.83251896e-01,  2.39415984e-01],\n",
              "       [-2.59075982e-01, -3.82327392e-01, -1.16369517e+00,\n",
              "         9.90456755e-01,  1.28297567e+00,  5.94645030e-01,\n",
              "         1.41803542e-01,  2.41783737e-01, -1.70454076e-01,\n",
              "        -8.97883015e-01, -6.89677529e-01],\n",
              "       [-7.96526508e-01, -6.29662786e-01, -4.16373313e-01,\n",
              "         1.28117993e-01, -2.32295179e-01,  4.20266855e-01,\n",
              "         6.59093875e-01, -8.62851980e-01,  7.53353080e-01,\n",
              "         2.39130452e-01, -9.64589873e-01],\n",
              "       [-1.07472280e+00, -7.75252172e-01, -2.73847487e-01,\n",
              "         5.21030139e-01,  1.26584759e-01, -3.23630932e-01,\n",
              "         5.79219155e-01,  1.69845199e+00,  1.24226858e+00,\n",
              "        -5.74979586e-02, -9.61771764e-01],\n",
              "       [-2.92164022e-01,  2.22998341e-01, -7.64014698e-01,\n",
              "        -5.23288986e-01, -7.80451056e-01, -4.08215509e-01,\n",
              "         6.49998131e-01, -1.08443499e+00,  3.16607475e-01,\n",
              "        -1.96237883e-01, -4.61688280e-01],\n",
              "       [ 1.22167434e+00,  2.65132255e-01,  1.68847997e+00,\n",
              "         4.52787503e-01, -3.15236321e-01, -2.89896321e-01,\n",
              "         3.29358108e-03,  7.22174709e-02,  7.43106704e-01,\n",
              "        -1.73771680e-01, -1.32972004e-02],\n",
              "       [ 1.31505237e+00,  2.54338522e-01,  1.90499852e+00,\n",
              "        -2.69789069e-02, -6.43279168e-01, -4.10447947e-01,\n",
              "        -1.54751641e+00, -1.02059472e-01, -7.23766702e-01,\n",
              "        -5.06449391e-01,  3.15622798e-01],\n",
              "       [-9.05455434e-01,  2.24061277e-01, -3.87508781e-01,\n",
              "        -1.88279683e-01, -6.25202253e-01, -3.23878981e-01,\n",
              "         1.59447016e+00, -1.11576100e+00,  4.46504349e-01,\n",
              "        -2.37311728e-01, -6.84659409e-01],\n",
              "       [-2.86466126e-02, -2.33143748e-01, -1.09887091e+00,\n",
              "         2.48059595e-01,  1.35368831e+00,  1.67505320e-01,\n",
              "         1.60870698e+00,  2.47845738e-02,  1.59582836e+00,\n",
              "         1.57900087e+00,  1.90453894e+00],\n",
              "       [-1.29030373e+00, -9.54296653e-01, -4.76774593e-01,\n",
              "        -3.31827829e-02, -2.89184296e-01, -3.09492161e-01,\n",
              "         5.40868486e-01,  1.26458049e+00,  6.08886708e-01,\n",
              "        -9.56374479e-01,  1.21733721e-01],\n",
              "       [-1.43331382e+00, -8.43795120e-01, -5.78180555e-01,\n",
              "        -1.86211724e-01, -7.06662887e-02, -3.62822613e-01,\n",
              "         4.67822809e-01,  1.45603329e+00,  6.18459005e-01,\n",
              "         1.19586135e+00,  1.33482828e-01],\n",
              "       [-1.25849949e+00, -5.94750262e-01, -7.00826021e-01,\n",
              "         5.89272775e-01, -8.34264643e-02,  3.46596418e-01,\n",
              "         1.66715895e+00, -7.88803756e-01,  2.53356220e+00,\n",
              "         2.04630752e+00,  4.67753568e-01],\n",
              "       [ 4.00335216e-01,  2.77395757e+00, -8.59085667e-01,\n",
              "        -1.38648675e-01, -6.62419432e-01, -1.69344696e-01,\n",
              "        -1.13793634e-01, -7.62333373e-01,  9.99221983e-01,\n",
              "         1.75022003e+00,  1.55588693e+00],\n",
              "       [-1.48693701e-01, -3.75653906e-01, -1.12835743e+00,\n",
              "         2.89418769e-01,  1.30636933e+00, -1.33221185e-02,\n",
              "        -1.07340768e-01,  1.66938321e-01, -5.30384042e-01,\n",
              "        -1.26880977e+00, -6.41017997e-01],\n",
              "       [ 1.35434139e+00,  3.90120403e-01,  1.58797243e+00,\n",
              "        -1.82075807e-01, -6.86344761e-01, -4.62538155e-01,\n",
              "        -5.54025745e-01,  7.52794112e-02, -2.56245181e-01,\n",
              "         2.85757740e-01,  2.81195243e-01],\n",
              "       [ 4.95578386e-01,  4.70103614e-01, -9.68393093e-01,\n",
              "         1.52605805e+00, -3.52453500e-01,  2.04151258e+00,\n",
              "        -8.77440716e-01, -1.13085328e+00, -1.01415428e+00,\n",
              "        -8.18079311e-01,  7.80338484e-01],\n",
              "       [ 1.52329386e+00,  3.98612935e-01, -5.14784551e-01,\n",
              "        -4.50910433e-01, -8.88912548e-01, -4.47407190e-01,\n",
              "        -3.47427915e-01, -2.45297735e+00,  1.53781861e-01,\n",
              "         1.95674321e+00,  1.42486318e+00],\n",
              "       [ 6.73129872e-01,  7.46050282e-04, -8.55515034e-01,\n",
              "         4.54855462e-01, -2.48777073e-01, -1.66616161e-01,\n",
              "         8.81799759e-01,  2.68217884e-01,  2.20024660e-01,\n",
              "        -1.01025009e+00, -5.43507742e-01],\n",
              "       [ 1.17032248e+00,  4.84842265e-01,  1.10213605e+00,\n",
              "        -7.61104232e-01, -1.64240910e-01, -3.56125300e-01,\n",
              "        -1.01812389e-02, -1.58876736e+00, -4.12233440e-01,\n",
              "        -7.08406476e-02,  5.10027830e-01],\n",
              "       [-3.36394446e-01, -4.09076127e-01, -1.13577513e+00,\n",
              "         4.03156495e-01,  1.20736345e-01, -7.48381743e-02,\n",
              "        -3.70355364e-01,  5.08925970e-02,  2.52870634e-01,\n",
              "         4.08275803e-03, -5.72345657e-02],\n",
              "       [ 2.14668609e+00,  6.34792977e-01,  2.57054138e+00,\n",
              "        -8.21075033e-01, -7.85236122e-01, -4.98257155e-01,\n",
              "        -6.48667788e-01, -1.43442020e+00, -1.20600762e+00,\n",
              "        -1.49567154e+00, -4.19732980e-02],\n",
              "       [-6.80282364e-01, -4.69236125e-01, -4.32660004e-01,\n",
              "         7.29893964e-01, -6.32228529e-02,  3.33201793e-01,\n",
              "         1.31641817e+00, -1.64442582e+00,  5.64921640e-01,\n",
              "         6.44063031e-01,  1.33696225e+00],\n",
              "       [-5.70839174e-02,  3.24126597e+00, -1.08822813e+00,\n",
              "         4.83806883e-01, -5.99681902e-01,  8.84613857e-01,\n",
              "        -8.76148214e-01, -1.00429913e+00,  9.29876395e-01,\n",
              "         4.21180023e-01,  8.39484736e-01],\n",
              "       [-4.18072974e-01, -3.34199394e-01, -1.15920308e+00,\n",
              "         6.22360113e-01,  7.44807087e-02,  4.32329650e-02,\n",
              "        -3.88270101e-03,  1.98717275e-01,  3.30899249e-01,\n",
              "        -2.50630376e-01, -2.36417616e-01],\n",
              "       [-5.09556055e-02, -3.90502139e-01, -9.15202187e-01,\n",
              "        -4.96405523e-01,  1.57061130e+00, -3.15941425e-01,\n",
              "        -4.92689754e-01, -3.67959090e-01, -4.30522790e-01,\n",
              "        -6.36967334e-01, -7.90183990e-01],\n",
              "       [ 1.03787343e+00,  1.07291707e-01,  1.74455042e+00,\n",
              "        -6.88725679e-01, -9.95779019e-01, -5.32239815e-01,\n",
              "        -7.36017802e-01,  4.21568549e-01, -1.53015435e+00,\n",
              "        -5.88512938e-01, -1.67085369e+00],\n",
              "       [-6.24400880e-01, -5.11260459e-01, -9.37409218e-01,\n",
              "         1.92103815e+00,  1.70087142e+00,  2.32131142e+00,\n",
              "         1.36264924e+00, -1.35471917e+00,  1.36256649e+00,\n",
              "         1.00554172e+00,  6.71665791e-01],\n",
              "       [ 5.82706994e-01,  2.69261556e+00, -7.89262525e-01,\n",
              "        -3.30968830e-01, -8.99546028e-01, -4.03998683e-01,\n",
              "        -2.71170272e-01, -1.13889767e+00,  7.09263864e-01,\n",
              "         2.00195209e+00,  1.13917340e+00],\n",
              "       [-1.05420628e+00, -8.16312192e-01, -2.60716774e-01,\n",
              "        -2.19299063e-01, -4.01899180e-01, -4.99249350e-01,\n",
              "        -3.37801665e-01,  1.61463817e+00,  1.90181236e-01,\n",
              "         1.06457410e+00, -1.36121521e+00],\n",
              "       [ 2.28354923e-01,  4.09403803e-02, -9.10986537e-01,\n",
              "         2.48059595e-01, -6.97509915e-01, -1.75297862e-01,\n",
              "        -9.70327271e-01,  2.60535856e-01,  1.16745191e-01,\n",
              "        -6.75590673e-02,  8.12825315e-01],\n",
              "       [-1.05343115e+00, -9.15088553e-01, -3.72857670e-01,\n",
              "        -5.50172449e-01, -7.90552862e-01, -5.09667391e-01,\n",
              "        -1.24857218e+00,  1.05191153e+00, -3.68923140e-01,\n",
              "        -4.10321928e-01, -1.29073629e+00],\n",
              "       [ 3.06642290e-01,  2.03939330e-02, -8.48028224e-01,\n",
              "         3.29918944e-02, -6.05644830e-02, -1.70832987e-01,\n",
              "         8.35626557e-01,  3.41795040e-01, -1.29537540e-01,\n",
              "        -1.33202526e+00, -1.01011963e+00],\n",
              "       [ 2.08489429e+00,  5.26318693e-01,  2.38330202e+00,\n",
              "        -2.17231104e-01, -5.06638955e-01, -3.76961384e-01,\n",
              "        -1.22207588e+00, -1.30326407e+00, -1.36591161e+00,\n",
              "        -1.84167992e+00, -3.02224139e-01],\n",
              "       [ 5.27170216e-02, -8.44532179e-02,  6.10402367e-01,\n",
              "         3.01826521e-01,  5.44480510e-01,  2.18355285e-01,\n",
              "         1.45665468e+00, -5.80120750e-01,  1.03910395e+00,\n",
              "         1.36631120e+00,  1.24366083e+00],\n",
              "       [ 1.04981516e+00,  2.24883135e-01, -5.88132253e-01,\n",
              "         3.74205074e-01, -4.22102791e-01, -2.84687300e-01,\n",
              "        -1.21836234e+00,  1.28944897e-01, -4.81734726e-02,\n",
              "        -7.45043114e-01,  1.31116450e+00],\n",
              "       [-1.02254737e+00,  4.28914574e+00, -2.14252479e-01,\n",
              "        -1.84143765e-01, -2.78019142e-01, -4.61794009e-01,\n",
              "         1.02160371e-01,  1.29422153e+00,  2.71533349e-01,\n",
              "         9.63145624e-01, -1.18674386e+00],\n",
              "       [-8.15735011e-01, -7.22609434e-01, -5.84577214e-02,\n",
              "         7.15418253e-01,  9.19842342e-01, -3.13212891e-01,\n",
              "        -8.00305329e-01,  1.93808053e+00,  1.32565581e+00,\n",
              "         8.72691809e-01, -5.08794709e-01],\n",
              "       [-1.06035881e+00, -7.61521666e-01, -2.48115896e-01,\n",
              "        -2.64794153e-01,  6.15193149e-01,  1.09866455e-02,\n",
              "         1.49401186e+00, -2.06763335e-01,  3.22581309e-01,\n",
              "         1.14835657e+00,  6.54678562e-01],\n",
              "       [-3.88497208e-01,  7.03190604e-02, -7.59845120e-01,\n",
              "         1.69477166e-01,  8.01810717e-01, -1.28168626e-01,\n",
              "         3.80810388e-01,  4.23615882e-01,  2.44259336e-01,\n",
              "        -7.96274232e-01, -7.63163139e-01],\n",
              "       [ 2.56459820e+00,  7.43113847e-01,  2.78689867e+00,\n",
              "        -5.85327746e-01, -5.00258867e-01, -3.90604058e-01,\n",
              "        -5.55077109e-01, -1.63136275e+00, -1.68615273e+00,\n",
              "        -7.94507227e-01, -1.30968519e+00],\n",
              "       [ 6.47938392e-01,  3.30943769e-02,  9.02341885e-01,\n",
              "        -4.46774515e-01,  4.68451130e-01,  7.37429443e-02,\n",
              "         8.20241920e-01,  1.74801529e-01,  2.43677855e-02,\n",
              "         1.07453905e+00,  1.87637356e+00],\n",
              "       [-1.06123082e+00, -7.23650454e-01, -2.98427260e-01,\n",
              "         3.34913859e-01,  3.95611794e-01, -3.75969189e-01,\n",
              "         4.17125848e-01,  1.87095337e+00,  1.14579152e+00,\n",
              "         1.41692761e-01, -1.20185060e+00],\n",
              "       [ 7.79569462e-02, -3.70799466e-01,  7.66657852e-01,\n",
              "        -5.23288986e-01,  1.60080220e-01, -3.63814807e-01,\n",
              "        -4.94339141e-01, -2.25406747e-01, -5.17449623e-01,\n",
              "        -5.52728087e-01, -9.81573919e-02],\n",
              "       [ 1.14416209e+00,  1.47496996e-01,  1.82870217e+00,\n",
              "        -8.76909917e-01, -9.44738317e-01, -5.82841732e-01,\n",
              "        -1.48814811e+00,  4.46390195e-01, -1.92502426e+00,\n",
              "        -6.77079544e-01,  1.70862065e-01],\n",
              "       [ 4.83467098e-01,  3.71184798e-01, -5.08265267e-01,\n",
              "        -3.37172706e-01,  5.93394516e-01,  6.92780693e-02,\n",
              "        -4.83208188e-01, -1.09070382e+00, -7.85527286e-01,\n",
              "        -1.25683741e+00,  7.21943903e-01],\n",
              "       [ 2.01040987e+00,  5.50327902e-01,  2.50871184e+00,\n",
              "        -6.70114051e-01, -6.48064234e-01, -4.32772322e-01,\n",
              "        -1.86615684e+00, -1.15822957e+00, -1.49543880e+00,\n",
              "        -1.53696175e+00,  9.16983311e-02],\n",
              "       [ 1.81040406e+00,  4.65019053e-01, -7.19570158e-02,\n",
              "        -7.94191571e-01, -6.51785952e-01, -5.12147878e-01,\n",
              "        -1.86261693e+00, -6.57466448e-01, -1.49882943e+00,\n",
              "        -2.64733793e+00, -6.89415623e-01],\n",
              "       [-5.46560699e-03, -4.03673781e-01,  2.83263324e-01,\n",
              "        -9.07929297e-01, -1.03193285e+00, -5.56052482e-01,\n",
              "        -2.26555938e+00, -4.82229251e-01, -1.31245885e+00,\n",
              "        -9.82434794e-01, -8.28537518e-01],\n",
              "       [-6.37020842e-01, -6.39437415e-01, -9.56383718e-02,\n",
              "        -3.52507415e-02,  1.40408283e-01,  4.42251595e-02,\n",
              "         1.50865379e+00, -7.65196015e-01,  1.70994339e-01,\n",
              "         9.23849139e-02, -7.30225830e-01],\n",
              "       [-1.42534459e+00, -1.04058077e+00, -6.00341512e-01,\n",
              "        -2.90468655e-02,  1.22863041e-01, -3.52900669e-01,\n",
              "         1.41228519e+00,  1.11449107e+00,  5.23432182e-01,\n",
              "         2.76273613e-01, -9.53529579e-01],\n",
              "       [-1.00166751e+00, -5.29045463e-01, -2.15243041e-01,\n",
              "        -2.52386401e-01,  5.46607206e-01, -3.91844301e-01,\n",
              "        -8.67861211e-02,  1.30228403e+00, -8.42086796e-02,\n",
              "         1.37824750e+00, -9.79274948e-01],\n",
              "       [ 2.02000760e-01,  1.35999077e-02, -8.91382613e-01,\n",
              "        -2.48250484e-01, -6.27328949e-01, -3.26111418e-01,\n",
              "        -6.82427180e-01,  1.03235469e-01, -8.74861677e-01,\n",
              "        -2.00072403e-01, -1.11012847e+00],\n",
              "       [-9.88974878e-01, -6.98698849e-01, -1.96007699e-01,\n",
              "        -3.53716376e-01,  1.01448031e+00, -5.12735562e-02,\n",
              "         1.44070095e+00, -1.80365424e-01,  1.20054278e+00,\n",
              "         8.84183350e-01,  1.66771092e-01],\n",
              "       [ 1.33019148e+00,  4.42587811e-01, -1.60001902e-01,\n",
              "        -7.03201390e-01, -5.90111770e-01, -4.00277953e-01,\n",
              "        -1.51191472e+00, -7.10678984e-01, -1.24710348e+00,\n",
              "        -1.91745678e+00,  2.06813914e-01],\n",
              "       [-6.75437848e-01, -6.88979009e-01, -8.18165687e-02,\n",
              "        -3.59920252e-01, -4.98663845e-01, -4.98753252e-01,\n",
              "         8.65056584e-02,  7.65701646e-01, -9.23989476e-01,\n",
              "         7.86661516e-01,  1.31026149e-01],\n",
              "       [ 1.98555751e+00,  5.21146468e-01, -3.26831065e-01,\n",
              "        -7.13541183e-01, -2.78019142e-01, -4.62538155e-01,\n",
              "        -2.75935169e-01, -1.62821022e+00, -1.04072111e+00,\n",
              "        -6.51992884e-01, -3.84030506e-01]])"
            ]
          },
          "metadata": {},
          "execution_count": 48
        }
      ]
    },
    {
      "cell_type": "code",
      "source": [
        "y_test.head()"
      ],
      "metadata": {
        "id": "OE3QHLRtktq2",
        "colab": {
          "base_uri": "https://localhost:8080/",
          "height": 241
        },
        "outputId": "47388ff9-eef5-4bfe-c4d8-6f442e763472"
      },
      "execution_count": null,
      "outputs": [
        {
          "output_type": "execute_result",
          "data": {
            "text/plain": [
              "138    1\n",
              "16     1\n",
              "155    1\n",
              "96     1\n",
              "68     1\n",
              "Name: status, dtype: int64"
            ],
            "text/html": [
              "<div>\n",
              "<style scoped>\n",
              "    .dataframe tbody tr th:only-of-type {\n",
              "        vertical-align: middle;\n",
              "    }\n",
              "\n",
              "    .dataframe tbody tr th {\n",
              "        vertical-align: top;\n",
              "    }\n",
              "\n",
              "    .dataframe thead th {\n",
              "        text-align: right;\n",
              "    }\n",
              "</style>\n",
              "<table border=\"1\" class=\"dataframe\">\n",
              "  <thead>\n",
              "    <tr style=\"text-align: right;\">\n",
              "      <th></th>\n",
              "      <th>status</th>\n",
              "    </tr>\n",
              "  </thead>\n",
              "  <tbody>\n",
              "    <tr>\n",
              "      <th>138</th>\n",
              "      <td>1</td>\n",
              "    </tr>\n",
              "    <tr>\n",
              "      <th>16</th>\n",
              "      <td>1</td>\n",
              "    </tr>\n",
              "    <tr>\n",
              "      <th>155</th>\n",
              "      <td>1</td>\n",
              "    </tr>\n",
              "    <tr>\n",
              "      <th>96</th>\n",
              "      <td>1</td>\n",
              "    </tr>\n",
              "    <tr>\n",
              "      <th>68</th>\n",
              "      <td>1</td>\n",
              "    </tr>\n",
              "  </tbody>\n",
              "</table>\n",
              "</div><br><label><b>dtype:</b> int64</label>"
            ]
          },
          "metadata": {},
          "execution_count": 49
        }
      ]
    },
    {
      "cell_type": "code",
      "source": [
        "print(\"Shape of X_train:\", X_train.shape)\n",
        "print(\"Shape of y_train:\", y_train.shape)\n",
        "print(\"Shape of X_test:\", X_test.shape)\n",
        "print(\"Shape of y_test:\", y_test.shape)"
      ],
      "metadata": {
        "id": "n_O1j1ziktne",
        "colab": {
          "base_uri": "https://localhost:8080/"
        },
        "outputId": "98ef5301-8120-4e2c-976a-32d30ee92e07"
      },
      "execution_count": null,
      "outputs": [
        {
          "output_type": "stream",
          "name": "stdout",
          "text": [
            "Shape of X_train: (136, 11)\n",
            "Shape of y_train: (136,)\n",
            "Shape of X_test: (59, 11)\n",
            "Shape of y_test: (59,)\n"
          ]
        }
      ]
    },
    {
      "cell_type": "code",
      "source": [
        "print(len(y_train[y_train==1]), len(y_train[y_train==0]))"
      ],
      "metadata": {
        "id": "8K-m0UXUktk-",
        "colab": {
          "base_uri": "https://localhost:8080/"
        },
        "outputId": "f5d53574-65b2-4bc9-ac85-c20a53941afe"
      },
      "execution_count": null,
      "outputs": [
        {
          "output_type": "stream",
          "name": "stdout",
          "text": [
            "103 33\n"
          ]
        }
      ]
    },
    {
      "cell_type": "code",
      "source": [
        "os =  RandomOverSampler(sampling_strategy=1)\n",
        "\n",
        "X_train, y_train = os.fit_resample(X_train, y_train)\n",
        "\n",
        "print(len(y_train[y_train==0]), len(y_train[y_train==1]))\n",
        "print(len(X_train))"
      ],
      "metadata": {
        "id": "etIX7wjDktih",
        "colab": {
          "base_uri": "https://localhost:8080/"
        },
        "outputId": "8f703515-d879-4346-b977-17f522f99533"
      },
      "execution_count": null,
      "outputs": [
        {
          "output_type": "stream",
          "name": "stdout",
          "text": [
            "103 103\n",
            "206\n"
          ]
        }
      ]
    },
    {
      "cell_type": "markdown",
      "source": [
        "# **` Logistic Regression`**"
      ],
      "metadata": {
        "id": "aRgS1nIEur92"
      }
    },
    {
      "cell_type": "code",
      "source": [
        "def lr_grid_search(X, y):\n",
        "    model = LogisticRegression()\n",
        "\n",
        "    # Create a dictionary of all values we want to test\n",
        "    solvers = ['newton-cg', 'lbfgs', 'liblinear']\n",
        "    penalty = ['l2']\n",
        "    c_values = [100, 10, 1.0, 0.1, 0.01]\n",
        "\n",
        "    # define grid search\n",
        "    param_grid = dict(solver=solvers, penalty=penalty, C=c_values)\n",
        "    cv = RepeatedStratifiedKFold(n_splits=10, n_repeats=3, random_state=1)\n",
        "\n",
        "    grid_search = GridSearchCV(estimator=model, param_grid=param_grid, n_jobs=-1, cv=cv, scoring='accuracy')\n",
        "    grid_result = grid_search.fit(X, y)\n",
        "\n",
        "    return grid_result.best_params_"
      ],
      "metadata": {
        "id": "D-qs01KfktgU"
      },
      "execution_count": null,
      "outputs": []
    },
    {
      "cell_type": "code",
      "source": [
        "lr_grid_search(X_train, y_train)"
      ],
      "metadata": {
        "id": "ClJsqwhlktdm",
        "colab": {
          "base_uri": "https://localhost:8080/"
        },
        "outputId": "1a753905-2e7c-4f53-f077-8aa4121808d0"
      },
      "execution_count": null,
      "outputs": [
        {
          "output_type": "execute_result",
          "data": {
            "text/plain": [
              "{'C': 0.01, 'penalty': 'l2', 'solver': 'liblinear'}"
            ]
          },
          "metadata": {},
          "execution_count": 54
        }
      ]
    },
    {
      "cell_type": "code",
      "source": [
        "lr = LogisticRegression(C=0.01, penalty='l2', solver='liblinear')\n",
        "lr.fit(X_train,y_train)\n",
        "\n",
        "y_pred_lr = lr.predict(X_test)\n",
        "\n",
        "print(metrics.classification_report(y_test, y_pred_lr))\n",
        "\n",
        "lr_score = lr.score(X_train,y_train)\n",
        "print(lr_score)\n",
        "\n",
        "lr_score = lr.score(X_test,y_test)\n",
        "print(lr_score)"
      ],
      "metadata": {
        "id": "hNuFA4cOktbh",
        "colab": {
          "base_uri": "https://localhost:8080/"
        },
        "outputId": "c6625db5-81b4-4866-d1fe-608378a6ac80"
      },
      "execution_count": null,
      "outputs": [
        {
          "output_type": "stream",
          "name": "stdout",
          "text": [
            "              precision    recall  f1-score   support\n",
            "\n",
            "           0       0.50      0.87      0.63        15\n",
            "           1       0.94      0.70      0.81        44\n",
            "\n",
            "    accuracy                           0.75        59\n",
            "   macro avg       0.72      0.79      0.72        59\n",
            "weighted avg       0.83      0.75      0.76        59\n",
            "\n",
            "0.8252427184466019\n",
            "0.7457627118644068\n"
          ]
        }
      ]
    },
    {
      "cell_type": "code",
      "source": [
        "lr_tacc = lr.score(X_test,y_test)\n",
        "lr_train_acc = lr.score(X_train, y_train)"
      ],
      "metadata": {
        "id": "noVk_dV9ktZK"
      },
      "execution_count": null,
      "outputs": []
    },
    {
      "cell_type": "code",
      "source": [
        "cm = metrics.confusion_matrix(y_test, y_pred_lr, labels=[1,0])\n",
        "\n",
        "df_cm = pd.DataFrame(cm, index = [i for i in [\"1\",\"0\"]],\n",
        "                         columns = [i for i in [\"Predict 1\", \"Predict 0\"]])\n",
        "plt.figure(figsize = (2,1))\n",
        "sns.heatmap(df_cm, annot=True, fmt='g')"
      ],
      "metadata": {
        "id": "L3FQy1VxktW3",
        "colab": {
          "base_uri": "https://localhost:8080/",
          "height": 374
        },
        "outputId": "bf2f649f-71fb-451e-cf0d-e15219fd8e1c"
      },
      "execution_count": null,
      "outputs": [
        {
          "output_type": "execute_result",
          "data": {
            "text/plain": [
              "<Axes: >"
            ]
          },
          "metadata": {},
          "execution_count": 57
        },
        {
          "output_type": "display_data",
          "data": {
            "text/plain": [
              "<Figure size 600x300 with 2 Axes>"
            ],
            "image/png": "[encoded data removed]"
          },
          "metadata": {}
        }
      ]
    },
    {
      "cell_type": "code",
      "source": [
        "y_pred_proba = lr.predict_proba(X_test)[::,1]\n",
        "fpr, tpr, _ = metrics.roc_curve(y_test, y_pred_proba)\n",
        "fpr\n",
        "tpr\n",
        "\n",
        "auc = metrics.roc_auc_score(y_test, y_pred_proba)\n",
        "auc\n",
        "plt.figure(figsize = (2,1))\n",
        "plt.plot(fpr,tpr,label=\"data 1, auc=\"+str(auc))\n",
        "plt.legend(loc=4)\n",
        "plt.xlabel('False Positive Rate')\n",
        "plt.ylabel('True Positive Rate')\n",
        "plt.title('Receiver operating characteristic')\n",
        "plt.legend(loc=\"lower right\")"
      ],
      "metadata": {
        "id": "HzeuJXfUktUJ",
        "colab": {
          "base_uri": "https://localhost:8080/",
          "height": 439
        },
        "outputId": "97e0de9f-faeb-40f2-9a81-f0dd3972dad0"
      },
      "execution_count": null,
      "outputs": [
        {
          "output_type": "execute_result",
          "data": {
            "text/plain": [
              "<matplotlib.legend.Legend at 0x7e0061d32450>"
            ]
          },
          "metadata": {},
          "execution_count": 58
        },
        {
          "output_type": "display_data",
          "data": {
            "text/plain": [
              "<Figure size 600x300 with 1 Axes>"
            ],
            "image/png": "[encoded data removed]"
          },
          "metadata": {}
        }
      ]
    },
    {
      "cell_type": "markdown",
      "source": [
        "Logistic Regression -Accuracy"
      ],
      "metadata": {
        "id": "A7csYmQBEN0D"
      }
    },
    {
      "cell_type": "code",
      "source": [
        "lr_auc = auc\n",
        "lr_auc"
      ],
      "metadata": {
        "id": "IV7pXuJOktSB",
        "colab": {
          "base_uri": "https://localhost:8080/"
        },
        "outputId": "e5011ce9-3bfb-4dd3-8b9d-d5f9cf9ca109"
      },
      "execution_count": null,
      "outputs": [
        {
          "output_type": "execute_result",
          "data": {
            "text/plain": [
              "0.8848484848484849"
            ]
          },
          "metadata": {},
          "execution_count": 59
        }
      ]
    },
    {
      "cell_type": "markdown",
      "source": [
        "# **Decision Tree**"
      ],
      "metadata": {
        "id": "SdGIlSPvuz4n"
      }
    },
    {
      "cell_type": "code",
      "source": [
        "def dtree_grid_search(X, y):\n",
        "    #create a dictionary of all values we want to test\n",
        "    param_grid = { 'criterion':['gini','entropy'],'max_depth': np.arange(2, 15)}\n",
        "    cv = RepeatedStratifiedKFold(n_splits=10, n_repeats=3, random_state=1)\n",
        "\n",
        "    # decision tree model\n",
        "    dtree = DecisionTreeClassifier()\n",
        "\n",
        "    #use gridsearch to test all values\n",
        "    dtree_gscv = GridSearchCV(dtree, param_grid, cv=cv, n_jobs=-1, scoring='accuracy')\n",
        "    #fit model to data\n",
        "    dtree_gscv.fit(X, y)\n",
        "\n",
        "    return dtree_gscv.best_params_"
      ],
      "metadata": {
        "id": "SIAw-kYVktPY"
      },
      "execution_count": null,
      "outputs": []
    },
    {
      "cell_type": "code",
      "source": [
        "dtree_grid_search(X_train, y_train)"
      ],
      "metadata": {
        "id": "fS4XUq6lktMq",
        "colab": {
          "base_uri": "https://localhost:8080/"
        },
        "outputId": "d1dce772-fba5-4726-c8b4-18df93761dad"
      },
      "execution_count": null,
      "outputs": [
        {
          "output_type": "execute_result",
          "data": {
            "text/plain": [
              "{'criterion': 'entropy', 'max_depth': 9}"
            ]
          },
          "metadata": {},
          "execution_count": 61
        }
      ]
    },
    {
      "cell_type": "code",
      "source": [
        "dTree = DecisionTreeClassifier(criterion = 'entropy', max_depth = 2)\n",
        "dTree.fit(X_train, y_train)\n",
        "\n",
        "print(dTree.score(X_train,y_train))\n",
        "print(dTree.score(X_test,y_test))\n",
        "\n",
        "y_pred_dtree = dTree.predict(X_test)\n",
        "\n",
        "print(metrics.classification_report(y_test, y_pred_dtree))"
      ],
      "metadata": {
        "id": "e5G2rAjSktJ6",
        "colab": {
          "base_uri": "https://localhost:8080/"
        },
        "outputId": "5666dfe5-4717-48eb-c60b-595e9d0c5f53"
      },
      "execution_count": null,
      "outputs": [
        {
          "output_type": "stream",
          "name": "stdout",
          "text": [
            "0.7718446601941747\n",
            "0.7457627118644068\n",
            "              precision    recall  f1-score   support\n",
            "\n",
            "           0       0.50      0.93      0.65        15\n",
            "           1       0.97      0.68      0.80        44\n",
            "\n",
            "    accuracy                           0.75        59\n",
            "   macro avg       0.73      0.81      0.73        59\n",
            "weighted avg       0.85      0.75      0.76        59\n",
            "\n"
          ]
        }
      ]
    },
    {
      "cell_type": "code",
      "source": [
        "dt_tacc = dTree.score(X_test,y_test)\n",
        "dt_train_acc = dTree.score(X_train, y_train)"
      ],
      "metadata": {
        "id": "DaBKHNyIlUxG"
      },
      "execution_count": null,
      "outputs": []
    },
    {
      "cell_type": "code",
      "source": [
        "cm = metrics.confusion_matrix(y_test, y_pred_dtree, labels=[1,0])\n",
        "\n",
        "df_cm = pd.DataFrame(cm, index = [i for i in [\"1\",\"0\"]],\n",
        "                         columns = [i for i in [\"Predict 1\", \"Predict 0\"]])\n",
        "plt.figure(figsize = (2,2))\n",
        "sns.heatmap(df_cm, annot=True, fmt='g')"
      ],
      "metadata": {
        "id": "loMayBeVlUtl",
        "colab": {
          "base_uri": "https://localhost:8080/",
          "height": 609
        },
        "outputId": "b74c4a34-6596-4c07-a9bf-3856d16b912e"
      },
      "execution_count": null,
      "outputs": [
        {
          "output_type": "execute_result",
          "data": {
            "text/plain": [
              "<Axes: >"
            ]
          },
          "metadata": {},
          "execution_count": 64
        },
        {
          "output_type": "display_data",
          "data": {
            "text/plain": [
              "<Figure size 600x600 with 2 Axes>"
            ],
            "image/png": "[encoded data removed]"
          },
          "metadata": {}
        }
      ]
    },
    {
      "cell_type": "code",
      "source": [
        "y_pred_proba = dTree.predict_proba(X_test)[::,1]\n",
        "fpr, tpr, _ = metrics.roc_curve(y_test, y_pred_proba)\n",
        "fpr\n",
        "tpr\n",
        "\n",
        "auc = metrics.roc_auc_score(y_test, y_pred_proba)\n",
        "auc\n",
        "plt.figure(figsize = (2,1))\n",
        "plt.plot(fpr,tpr,label=\"data 1, auc=\"+str(auc))\n",
        "plt.legend(loc=4)\n",
        "plt.xlabel('False Positive Rate')\n",
        "plt.ylabel('True Positive Rate')\n",
        "plt.title('Receiver operating characteristic')\n",
        "plt.legend(loc=\"lower right\")"
      ],
      "metadata": {
        "id": "KI_Xhw_SlUq_",
        "colab": {
          "base_uri": "https://localhost:8080/",
          "height": 439
        },
        "outputId": "625c31d0-934f-482b-9fd7-e2e24f821063"
      },
      "execution_count": null,
      "outputs": [
        {
          "output_type": "execute_result",
          "data": {
            "text/plain": [
              "<matplotlib.legend.Legend at 0x7e0061d6f890>"
            ]
          },
          "metadata": {},
          "execution_count": 65
        },
        {
          "output_type": "display_data",
          "data": {
            "text/plain": [
              "<Figure size 600x300 with 1 Axes>"
            ],
            "image/png": "[encoded data removed]"
          },
          "metadata": {}
        }
      ]
    },
    {
      "cell_type": "code",
      "source": [
        "dt_auc = auc\n",
        "dt_auc"
      ],
      "metadata": {
        "id": "YzvxHqdmlUoG",
        "colab": {
          "base_uri": "https://localhost:8080/"
        },
        "outputId": "61b08cb9-79f6-4e77-c3e4-a372989935f4"
      },
      "execution_count": null,
      "outputs": [
        {
          "output_type": "execute_result",
          "data": {
            "text/plain": [
              "0.8818181818181818"
            ]
          },
          "metadata": {},
          "execution_count": 66
        }
      ]
    },
    {
      "cell_type": "markdown",
      "source": [
        "***# ADA GRID SEARCH ***"
      ],
      "metadata": {
        "id": "qGjLLO4vu8yC"
      }
    },
    {
      "cell_type": "code",
      "source": [
        "def ada_grid_search(X, y):\n",
        "    #create a dictionary of all values we want to test\n",
        "    param_grid = {'n_estimators':[10, 50, 100, 500], 'learning_rate': [0.0001, 0.001, 0.01, 0.1, 1.0]}\n",
        "    cv = RepeatedStratifiedKFold(n_splits=10, n_repeats=3, random_state=1)\n",
        "\n",
        "    # AdaBoost model\n",
        "    ada = AdaBoostClassifier()\n",
        "\n",
        "    # Use gridsearch to test all values\n",
        "    ada_gscv = GridSearchCV(ada, param_grid, n_jobs=-1, cv=cv, scoring='accuracy')\n",
        "    #fit model to data\n",
        "    grid_result = ada_gscv.fit(X, y)\n",
        "\n",
        "    return ada_gscv.best_params_"
      ],
      "metadata": {
        "id": "0IknzAbUlUlV"
      },
      "execution_count": null,
      "outputs": []
    },
    {
      "cell_type": "code",
      "source": [
        "abcl = AdaBoostClassifier(n_estimators=15, learning_rate = 0.01)\n",
        "abcl = abcl.fit(X_train, y_train)\n",
        "\n",
        "y_pred_abcl = abcl.predict(X_test)\n",
        "\n",
        "print(abcl.score(X_train, y_train))\n",
        "print(abcl.score(X_test,y_test))\n",
        "\n",
        "print(metrics.classification_report(y_test, y_pred_abcl))"
      ],
      "metadata": {
        "id": "S5-JMZB-lUf2",
        "colab": {
          "base_uri": "https://localhost:8080/"
        },
        "outputId": "f6da3e75-f07f-4890-a07b-f52286192a70"
      },
      "execution_count": null,
      "outputs": [
        {
          "output_type": "stream",
          "name": "stdout",
          "text": [
            "0.8300970873786407\n",
            "0.8813559322033898\n",
            "              precision    recall  f1-score   support\n",
            "\n",
            "           0       0.75      0.80      0.77        15\n",
            "           1       0.93      0.91      0.92        44\n",
            "\n",
            "    accuracy                           0.88        59\n",
            "   macro avg       0.84      0.85      0.85        59\n",
            "weighted avg       0.88      0.88      0.88        59\n",
            "\n"
          ]
        }
      ]
    },
    {
      "cell_type": "code",
      "source": [
        "ada_train_acc = abcl.score(X_train, y_train)\n",
        "ada_tacc = abcl.score(X_test,y_test)"
      ],
      "metadata": {
        "id": "ftW6n36mlUdb"
      },
      "execution_count": null,
      "outputs": []
    },
    {
      "cell_type": "code",
      "source": [
        "cm = metrics.confusion_matrix(y_test, y_pred_abcl, labels=[1,0])\n",
        "\n",
        "df_cm = pd.DataFrame(cm, index = [i for i in [\"1\",\"0\"]],\n",
        "                         columns = [i for i in [\"Predict 1\", \"Predict 0\"]])\n",
        "plt.figure(figsize = (2,1))\n",
        "sns.heatmap(df_cm, annot=True, fmt='g')"
      ],
      "metadata": {
        "id": "Qz2AUlxWlUar",
        "colab": {
          "base_uri": "https://localhost:8080/",
          "height": 378
        },
        "outputId": "576a6318-89fc-4f0d-aae5-d57c00b11b7a"
      },
      "execution_count": null,
      "outputs": [
        {
          "output_type": "execute_result",
          "data": {
            "text/plain": [
              "<Axes: >"
            ]
          },
          "metadata": {},
          "execution_count": 70
        },
        {
          "output_type": "display_data",
          "data": {
            "text/plain": [
              "<Figure size 600x300 with 2 Axes>"
            ],
            "image/png": "[encoded data removed]"
          },
          "metadata": {}
        }
      ]
    },
    {
      "cell_type": "code",
      "source": [
        "y_pred_proba = abcl.predict_proba(X_test)[::,1]\n",
        "fpr, tpr, _ = metrics.roc_curve(y_test, y_pred_proba)\n",
        "fpr\n",
        "tpr\n",
        "\n",
        "auc = metrics.roc_auc_score(y_test, y_pred_proba)\n",
        "auc\n",
        "plt.figure(figsize = (2,1))\n",
        "plt.plot(fpr,tpr,label=\"data 1, auc=\"+str(auc))\n",
        "plt.legend(loc=4)\n",
        "plt.xlabel('False Positive Rate')\n",
        "plt.ylabel('True Positive Rate')\n",
        "plt.title('Receiver operating characteristic')\n",
        "plt.legend(loc=\"lower right\")"
      ],
      "metadata": {
        "id": "3Ay0NpIblUYE",
        "colab": {
          "base_uri": "https://localhost:8080/",
          "height": 439
        },
        "outputId": "36aefb39-6430-4a0f-8507-819d59b5a7a3"
      },
      "execution_count": null,
      "outputs": [
        {
          "output_type": "execute_result",
          "data": {
            "text/plain": [
              "<matplotlib.legend.Legend at 0x7e007885b910>"
            ]
          },
          "metadata": {},
          "execution_count": 71
        },
        {
          "output_type": "display_data",
          "data": {
            "text/plain": [
              "<Figure size 600x300 with 1 Axes>"
            ],
            "image/png": "[encoded data removed]"
          },
          "metadata": {}
        }
      ]
    },
    {
      "cell_type": "code",
      "source": [
        "ada_auc = auc\n",
        "ada_auc"
      ],
      "metadata": {
        "id": "xj2jPei1mqpA",
        "colab": {
          "base_uri": "https://localhost:8080/"
        },
        "outputId": "3d1ffde7-4848-4f08-dae6-7f62ca0e972c"
      },
      "execution_count": null,
      "outputs": [
        {
          "output_type": "execute_result",
          "data": {
            "text/plain": [
              "0.8545454545454546"
            ]
          },
          "metadata": {},
          "execution_count": 72
        }
      ]
    },
    {
      "cell_type": "code",
      "source": [
        "from sklearn.ensemble import RandomForestClassifier\n",
        "from sklearn.metrics import accuracy_score,classification_report"
      ],
      "metadata": {
        "id": "3-VwdHc-mqls"
      },
      "execution_count": null,
      "outputs": []
    },
    {
      "cell_type": "markdown",
      "source": [
        "# **Random Forest**"
      ],
      "metadata": {
        "id": "UI8RC8nOvHpZ"
      }
    },
    {
      "cell_type": "code",
      "source": [
        "model=RandomForestClassifier()\n",
        "y_pred_rfcl = abcl.predict(X_test)"
      ],
      "metadata": {
        "id": "HnnRco3PmqjZ"
      },
      "execution_count": null,
      "outputs": []
    },
    {
      "cell_type": "code",
      "source": [
        "model.fit(X_train, y_train)\n",
        "y_hat_test = model.predict(X_test).astype(int)\n",
        "y_hat_train = model.predict(X_train).astype(int)\n",
        "print('Accuracy Score is : ', round(accuracy_score(y_test, y_hat_test)))"
      ],
      "metadata": {
        "id": "_0h91_7xmqgz",
        "colab": {
          "base_uri": "https://localhost:8080/"
        },
        "outputId": "2a2646bf-4b03-46ff-c880-6d92db943652"
      },
      "execution_count": null,
      "outputs": [
        {
          "output_type": "stream",
          "name": "stdout",
          "text": [
            "Accuracy Score is :  1\n"
          ]
        }
      ]
    },
    {
      "source": [
        "from sklearn.ensemble import RandomForestClassifier\n",
        "\n",
        "# Remove the learning_rate parameter\n",
        "abcl = RandomForestClassifier(n_estimators=15)\n",
        "abcl = abcl.fit(X_train, y_train)\n",
        "\n",
        "y_pred_abcl = abcl.predict(X_test)\n",
        "\n",
        "print(abcl.score(X_train, y_train))\n",
        "print(abcl.score(X_test, y_test))\n",
        "\n",
        "print(metrics.classification_report(y_test, y_pred_abcl))"
      ],
      "cell_type": "code",
      "metadata": {
        "colab": {
          "base_uri": "https://localhost:8080/"
        },
        "id": "VeiH9ULJgUX0",
        "outputId": "800d6ee2-8f74-4180-c2d4-fa51c49c77d2"
      },
      "execution_count": null,
      "outputs": [
        {
          "output_type": "stream",
          "name": "stdout",
          "text": [
            "1.0\n",
            "0.8983050847457628\n",
            "              precision    recall  f1-score   support\n",
            "\n",
            "           0       0.91      0.67      0.77        15\n",
            "           1       0.90      0.98      0.93        44\n",
            "\n",
            "    accuracy                           0.90        59\n",
            "   macro avg       0.90      0.82      0.85        59\n",
            "weighted avg       0.90      0.90      0.89        59\n",
            "\n"
          ]
        }
      ]
    },
    {
      "cell_type": "code",
      "source": [
        "y_hat_test = model.predict(X_test).astype(int)\n",
        "y_hat_train = model.predict(X_train).astype(int)\n",
        "print('Accuracy Score is : ',round( accuracy_score(y_test, y_hat_test),2))"
      ],
      "metadata": {
        "id": "l1i-Bpggmqea",
        "colab": {
          "base_uri": "https://localhost:8080/"
        },
        "outputId": "046bc3b6-0da6-449e-9845-9184eb7fa6a0"
      },
      "execution_count": null,
      "outputs": [
        {
          "output_type": "stream",
          "name": "stdout",
          "text": [
            "Accuracy Score is :  0.92\n"
          ]
        }
      ]
    },
    {
      "cell_type": "code",
      "source": [
        "rfcl=model"
      ],
      "metadata": {
        "id": "DOC-BIUVmqb_"
      },
      "execution_count": null,
      "outputs": []
    },
    {
      "cell_type": "code",
      "source": [
        "cm = metrics.confusion_matrix(y_test, y_pred_rfcl, labels=[1,0]) # Use y_pred_rfcl instead of y_pred_knn\n",
        "\n",
        "df_cm = pd.DataFrame(cm, index = [i for i in [\"1\",\"0\"]],\n",
        "                         columns = [i for i in [\"Predict 1\", \"Predict 0\"]])\n",
        "plt.figure(figsize = (2,1))\n",
        "sns.heatmap(df_cm, annot=True, fmt='g')"
      ],
      "metadata": {
        "id": "OnjD1N-qnEvw",
        "colab": {
          "base_uri": "https://localhost:8080/",
          "height": 378
        },
        "outputId": "a003c386-9f93-4e3d-b330-d531c8bbda38"
      },
      "execution_count": null,
      "outputs": [
        {
          "output_type": "execute_result",
          "data": {
            "text/plain": [
              "<Axes: >"
            ]
          },
          "metadata": {},
          "execution_count": 79
        },
        {
          "output_type": "display_data",
          "data": {
            "text/plain": [
              "<Figure size 600x300 with 2 Axes>"
            ],
            "image/png": "[encoded data removed]"
          },
          "metadata": {}
        }
      ]
    },
    {
      "cell_type": "code",
      "source": [
        "y_pred_proba = rfcl.predict_proba(X_test)[::,1]\n",
        "fpr, tpr, _ = metrics.roc_curve(y_test, y_pred_proba)\n",
        "fpr\n",
        "tpr\n",
        "\n",
        "auc = metrics.roc_auc_score(y_test, y_pred_proba)\n",
        "auc\n",
        "plt.figure(figsize = (2,1))\n",
        "plt.plot(fpr,tpr,label=\"data 1, auc=\"+str(auc))\n",
        "plt.legend(loc=4)\n",
        "plt.xlabel('False Positive Rate')\n",
        "plt.ylabel('True Positive Rate')\n",
        "plt.title('Receiver operating characteristic')\n",
        "plt.legend(loc=\"lower right\")"
      ],
      "metadata": {
        "id": "kABl7n1-mqXe",
        "colab": {
          "base_uri": "https://localhost:8080/",
          "height": 439
        },
        "outputId": "03ac3068-549b-4af8-9ddb-ab9079281606"
      },
      "execution_count": null,
      "outputs": [
        {
          "output_type": "execute_result",
          "data": {
            "text/plain": [
              "<matplotlib.legend.Legend at 0x7e0061c1ac10>"
            ]
          },
          "metadata": {},
          "execution_count": 80
        },
        {
          "output_type": "display_data",
          "data": {
            "text/plain": [
              "<Figure size 600x300 with 1 Axes>"
            ],
            "image/png": "[encoded data removed]"
          },
          "metadata": {}
        }
      ]
    },
    {
      "cell_type": "code",
      "source": [
        "rf_auc = auc\n",
        "rf_auc"
      ],
      "metadata": {
        "id": "sHTNPXbNmqVK",
        "colab": {
          "base_uri": "https://localhost:8080/"
        },
        "outputId": "73ccbbc2-89de-4c07-c2dc-17b583d952d0"
      },
      "execution_count": null,
      "outputs": [
        {
          "output_type": "execute_result",
          "data": {
            "text/plain": [
              "0.9727272727272728"
            ]
          },
          "metadata": {},
          "execution_count": 81
        }
      ]
    },
    {
      "cell_type": "markdown",
      "source": [
        "**KNN**"
      ],
      "metadata": {
        "id": "hrVe1s99vPyN"
      }
    },
    {
      "cell_type": "code",
      "source": [
        "def knn_grid_search(X, y):\n",
        "    #create a dictionary of all values we want to test\n",
        "    k_range = list(range(1, 31))\n",
        "    param_grid = dict(n_neighbors=k_range)\n",
        "    cv = RepeatedStratifiedKFold(n_splits=10, n_repeats=3, random_state=1)\n",
        "\n",
        "    knn = KNeighborsClassifier()\n",
        "\n",
        "    #use gridsearch to test all values\n",
        "    knn_gscv = GridSearchCV(knn, param_grid, cv=cv, scoring='accuracy', n_jobs=-1)\n",
        "    #fit model to data\n",
        "    knn_gscv.fit(X, y)\n",
        "\n",
        "    return knn_gscv.best_params_"
      ],
      "metadata": {
        "id": "KgKpYTExmqSt"
      },
      "execution_count": null,
      "outputs": []
    },
    {
      "cell_type": "code",
      "source": [
        "knn_grid_search(X_train, y_train)"
      ],
      "metadata": {
        "id": "j3OpFSLlmqQa",
        "colab": {
          "base_uri": "https://localhost:8080/"
        },
        "outputId": "7521e961-024e-4b7d-ca08-b3875035e9b6"
      },
      "execution_count": null,
      "outputs": [
        {
          "output_type": "execute_result",
          "data": {
            "text/plain": [
              "{'n_neighbors': 1}"
            ]
          },
          "metadata": {},
          "execution_count": 83
        }
      ]
    },
    {
      "cell_type": "code",
      "source": [
        "knn = KNeighborsClassifier(n_neighbors=1)\n",
        "knn.fit(X_train, y_train)\n",
        "\n",
        "y_pred_knn = knn.predict(X_test)\n",
        "\n",
        "print(knn.score(X_train, y_train))\n",
        "print(knn.score(X_test, y_test))\n",
        "\n",
        "print(metrics.classification_report(y_test, y_pred_knn))"
      ],
      "metadata": {
        "id": "-LurKdSNnSyn",
        "colab": {
          "base_uri": "https://localhost:8080/"
        },
        "outputId": "8c3ce921-2098-44c9-9cb3-46c48199a698"
      },
      "execution_count": null,
      "outputs": [
        {
          "output_type": "stream",
          "name": "stdout",
          "text": [
            "1.0\n",
            "0.9830508474576272\n",
            "              precision    recall  f1-score   support\n",
            "\n",
            "           0       1.00      0.93      0.97        15\n",
            "           1       0.98      1.00      0.99        44\n",
            "\n",
            "    accuracy                           0.98        59\n",
            "   macro avg       0.99      0.97      0.98        59\n",
            "weighted avg       0.98      0.98      0.98        59\n",
            "\n"
          ]
        }
      ]
    },
    {
      "cell_type": "code",
      "source": [
        "knn_tacc = knn.score(X_test, y_test)\n",
        "knn_train_acc = knn.score(X_train, y_train)"
      ],
      "metadata": {
        "id": "Fk_sFPN8nSv7"
      },
      "execution_count": null,
      "outputs": []
    },
    {
      "cell_type": "code",
      "source": [
        "cm = metrics.confusion_matrix(y_test, y_pred_knn, labels=[1,0])\n",
        "\n",
        "df_cm = pd.DataFrame(cm, index = [i for i in [\"1\",\"0\"]],\n",
        "                         columns = [i for i in [\"Predict 1\", \"Predict 0\"]])\n",
        "plt.figure(figsize = (2,1))\n",
        "sns.heatmap(df_cm, annot=True, fmt='g')"
      ],
      "metadata": {
        "id": "UWtz-0BnnStZ",
        "colab": {
          "base_uri": "https://localhost:8080/",
          "height": 374
        },
        "outputId": "b1bbbeb8-bd55-4a29-9dbd-7f3267f807d1"
      },
      "execution_count": null,
      "outputs": [
        {
          "output_type": "execute_result",
          "data": {
            "text/plain": [
              "<Axes: >"
            ]
          },
          "metadata": {},
          "execution_count": 86
        },
        {
          "output_type": "display_data",
          "data": {
            "text/plain": [
              "<Figure size 600x300 with 2 Axes>"
            ],
            "image/png": "[encoded data removed]"
          },
          "metadata": {}
        }
      ]
    },
    {
      "cell_type": "code",
      "source": [
        "y_pred_proba = knn.predict_proba(X_test)[::,1]\n",
        "fpr, tpr, _ = metrics.roc_curve(y_test, y_pred_proba)\n",
        "fpr\n",
        "tpr\n",
        "\n",
        "auc = metrics.roc_auc_score(y_test, y_pred_proba)\n",
        "auc\n",
        "plt.figure(figsize = (2,1))\n",
        "plt.plot(fpr,tpr,label=\"data 1, auc=\"+str(auc))\n",
        "plt.legend(loc=4)\n",
        "plt.xlabel('False Positive Rate')\n",
        "plt.ylabel('True Positive Rate')\n",
        "plt.title('Receiver operating characteristic')\n",
        "plt.legend(loc=\"lower right\")"
      ],
      "metadata": {
        "id": "hixDOhNLnSrB",
        "colab": {
          "base_uri": "https://localhost:8080/",
          "height": 439
        },
        "outputId": "75497482-a48b-4a26-f517-d23e64598e70"
      },
      "execution_count": null,
      "outputs": [
        {
          "output_type": "execute_result",
          "data": {
            "text/plain": [
              "<matplotlib.legend.Legend at 0x7e00619ec550>"
            ]
          },
          "metadata": {},
          "execution_count": 87
        },
        {
          "output_type": "display_data",
          "data": {
            "text/plain": [
              "<Figure size 600x300 with 1 Axes>"
            ],
            "image/png": "[encoded data removed]"
          },
          "metadata": {}
        }
      ]
    },
    {
      "cell_type": "code",
      "source": [
        "knn_auc= auc\n",
        "knn_auc"
      ],
      "metadata": {
        "id": "zX9BcA9onSoj",
        "colab": {
          "base_uri": "https://localhost:8080/"
        },
        "outputId": "1ef67b06-dae4-4333-82fc-18b3a8cbd131"
      },
      "execution_count": null,
      "outputs": [
        {
          "output_type": "execute_result",
          "data": {
            "text/plain": [
              "0.9666666666666667"
            ]
          },
          "metadata": {},
          "execution_count": 88
        }
      ]
    },
    {
      "cell_type": "markdown",
      "source": [
        "# **SVM**"
      ],
      "metadata": {
        "id": "U39kOKmrvbxK"
      }
    },
    {
      "cell_type": "code",
      "source": [
        "def svm_grid_search(X, y):\n",
        "    #create a dictionary of all values we want to test\n",
        "    param_grid = {'C': [0.1,1, 10, 100], 'gamma': [1,0.1,0.01,0.001, 0.4, 0.2, 0.8],'kernel': ['rbf', 'poly', 'sigmoid']}\n",
        "    cv = RepeatedStratifiedKFold(n_splits=10, n_repeats=3, random_state=1)\n",
        "\n",
        "    svm = SVC()\n",
        "\n",
        "    #use gridsearch to test all values\n",
        "    svm_gscv = RandomizedSearchCV(estimator = svm,\n",
        "                           param_distributions = param_grid,\n",
        "                           scoring = 'accuracy',\n",
        "                           cv = cv,\n",
        "                           n_jobs = -1)\n",
        "    #fit model to data\n",
        "    svm_gscv.fit(X, y)\n",
        "\n",
        "    return svm_gscv.best_params_"
      ],
      "metadata": {
        "id": "nTpW0kLHnSlz"
      },
      "execution_count": null,
      "outputs": []
    },
    {
      "cell_type": "code",
      "source": [
        "svm_grid_search(X_train, y_train)"
      ],
      "metadata": {
        "id": "DqJIeP8bnkhX",
        "colab": {
          "base_uri": "https://localhost:8080/"
        },
        "outputId": "9cb4fb0e-6bcf-4348-f586-a8a78579695e"
      },
      "execution_count": null,
      "outputs": [
        {
          "output_type": "execute_result",
          "data": {
            "text/plain": [
              "{'kernel': 'poly', 'gamma': 0.4, 'C': 100}"
            ]
          },
          "metadata": {},
          "execution_count": 90
        }
      ]
    },
    {
      "cell_type": "code",
      "source": [
        "from sklearn import svm\n",
        "svm = SVC(gamma=0.4, C=100, kernel='rbf', probability=True)\n",
        "\n",
        "svm.fit(X_train, y_train)\n",
        "\n",
        "y_pred_svm = svm.predict(X_test)\n",
        "\n",
        "print(svm.score(X_train, y_train))\n",
        "print(svm.score(X_test, y_test))\n",
        "\n",
        "print(metrics.classification_report(y_test, y_pred_svm))"
      ],
      "metadata": {
        "id": "R2ATb0YjnkeC",
        "colab": {
          "base_uri": "https://localhost:8080/"
        },
        "outputId": "56c52280-493b-46b6-c632-7aa3f7bbab4a"
      },
      "execution_count": null,
      "outputs": [
        {
          "output_type": "stream",
          "name": "stdout",
          "text": [
            "1.0\n",
            "0.9491525423728814\n",
            "              precision    recall  f1-score   support\n",
            "\n",
            "           0       1.00      0.80      0.89        15\n",
            "           1       0.94      1.00      0.97        44\n",
            "\n",
            "    accuracy                           0.95        59\n",
            "   macro avg       0.97      0.90      0.93        59\n",
            "weighted avg       0.95      0.95      0.95        59\n",
            "\n"
          ]
        }
      ]
    },
    {
      "cell_type": "code",
      "source": [
        "svm_tacc = svm.score(X_test, y_test)\n",
        "svm_train_acc = svm.score(X_train, y_train)"
      ],
      "metadata": {
        "id": "oHjkCbumnkbT"
      },
      "execution_count": null,
      "outputs": []
    },
    {
      "cell_type": "code",
      "source": [
        "cm = metrics.confusion_matrix(y_test, y_pred_svm, labels=[1,0])\n",
        "\n",
        "df_cm = pd.DataFrame(cm, index = [i for i in [\"1\",\"0\"]],\n",
        "                         columns = [i for i in [\"Predict 1\", \"Predict 0\"]])\n",
        "plt.figure(figsize = (2,1))\n",
        "sns.heatmap(df_cm, annot=True, fmt='g')"
      ],
      "metadata": {
        "id": "XOxUAbxbnkYb",
        "colab": {
          "base_uri": "https://localhost:8080/"
        },
        "outputId": "8f3e88f0-a396-400e-8bd2-253f388f41f5"
      },
      "execution_count": null,
      "outputs": [
        {
          "output_type": "execute_result",
          "data": {
            "text/plain": [
              "<Axes: >"
            ]
          },
          "metadata": {},
          "execution_count": 93
        },
        {
          "output_type": "display_data",
          "data": {
            "text/plain": [
              "<Figure size 600x300 with 2 Axes>"
            ],
            "image/png": "[encoded data removed]"
          },
          "metadata": {}
        }
      ]
    },
    {
      "cell_type": "code",
      "source": [
        "y_pred_proba = svm.predict_proba(X_test)[::,1]\n",
        "fpr, tpr, _ = metrics.roc_curve(y_test, y_pred_proba)\n",
        "fpr\n",
        "tpr\n",
        "\n",
        "auc = metrics.roc_auc_score(y_test, y_pred_proba)\n",
        "auc\n",
        "plt.figure(figsize = (2,1))\n",
        "plt.plot(fpr,tpr,label=\"data 1, auc=\"+str(auc))\n",
        "plt.legend(loc=4)\n",
        "plt.xlabel('False Positive Rate')\n",
        "plt.ylabel('True Positive Rate')\n",
        "plt.title('Receiver operating characteristic')\n",
        "plt.legend(loc=\"lower right\")"
      ],
      "metadata": {
        "id": "gtInIVDcnkVc",
        "colab": {
          "base_uri": "https://localhost:8080/",
          "height": 439
        },
        "outputId": "5e920722-7d9a-439b-b6ff-623d29ced3af"
      },
      "execution_count": null,
      "outputs": [
        {
          "output_type": "execute_result",
          "data": {
            "text/plain": [
              "<matplotlib.legend.Legend at 0x7e0061a26610>"
            ]
          },
          "metadata": {},
          "execution_count": 94
        },
        {
          "output_type": "display_data",
          "data": {
            "text/plain": [
              "<Figure size 600x300 with 1 Axes>"
            ],
            "image/png": "[encoded data removed]"
          },
          "metadata": {}
        }
      ]
    },
    {
      "cell_type": "code",
      "source": [
        "svm_auc = auc\n",
        "svm_auc"
      ],
      "metadata": {
        "id": "1OZFiHc5nkSm",
        "colab": {
          "base_uri": "https://localhost:8080/"
        },
        "outputId": "8ab2ba26-7f11-4c99-c1cf-550c8e8bba00"
      },
      "execution_count": null,
      "outputs": [
        {
          "output_type": "execute_result",
          "data": {
            "text/plain": [
              "0.9924242424242424"
            ]
          },
          "metadata": {},
          "execution_count": 95
        }
      ]
    },
    {
      "cell_type": "markdown",
      "source": [
        "**XG BOOST GRID SEARCH**"
      ],
      "metadata": {
        "id": "xwqUJZVr1XZ-"
      }
    },
    {
      "cell_type": "code",
      "source": [
        "def xgb_grid_search(X, y):\n",
        "    # Create a dictionary of all values we want to test\n",
        "    param_grid = {\n",
        " \"learning_rate\"    : [0.05, 0.10, 0.15, 0.20, 0.25, 0.30 ] ,\n",
        " \"max_depth\"        : [ 3, 4, 5, 6, 8, 10, 12, 15],\n",
        " \"min_child_weight\" : [ 1, 3, 5, 7 ],\n",
        " \"gamma\"            : [ 0.0, 0.1, 0.2 , 0.3, 0.4 ],\n",
        " \"colsample_bytree\" : [ 0.3, 0.4, 0.5 , 0.7 ]\n",
        "\n",
        "}\n",
        "    cv = RepeatedStratifiedKFold(n_splits=10, n_repeats=3, random_state=1)\n",
        "\n",
        "    xgb = XGBClassifier()\n",
        "\n",
        "    #use gridsearch to test all values\n",
        "    xgb_gscv =  RandomizedSearchCV(estimator = xgb,\n",
        "                           param_distributions = param_grid,\n",
        "                           scoring = 'accuracy',\n",
        "                           cv = cv,\n",
        "                           n_jobs = -1)\n",
        "    #fit model to data\n",
        "    xgb_gscv.fit(X, y)\n",
        "\n",
        "    return xgb_gscv.best_params_"
      ],
      "metadata": {
        "id": "0hiXSjuCn4YN"
      },
      "execution_count": null,
      "outputs": []
    },
    {
      "cell_type": "code",
      "source": [
        "xgb_grid_search(X_train, y_train)"
      ],
      "metadata": {
        "id": "CMjvoyYFn4VZ",
        "colab": {
          "base_uri": "https://localhost:8080/"
        },
        "outputId": "1e21fc5c-1e32-4c7d-ebd4-fcf122ddd1dc"
      },
      "execution_count": null,
      "outputs": [
        {
          "output_type": "execute_result",
          "data": {
            "text/plain": [
              "{'min_child_weight': 1,\n",
              " 'max_depth': 15,\n",
              " 'learning_rate': 0.3,\n",
              " 'gamma': 0.3,\n",
              " 'colsample_bytree': 0.4}"
            ]
          },
          "metadata": {},
          "execution_count": 97
        }
      ]
    },
    {
      "cell_type": "code",
      "source": [
        "xgb = XGBClassifier(min_child_weight=1, max_depth=8, learning_rate=0.25, gamma=0.3, colsample_bytree=0.3)\n",
        "xgb.fit(X_train,y_train)\n",
        "\n",
        "y_pred_xgb = xgb.predict(X_test)\n",
        "\n",
        "print(classification_report(y_test, y_pred_xgb))\n",
        "\n",
        "print(\"Accuracy:\",metrics.accuracy_score(y_test, y_pred_xgb))\n",
        "print(\"Precision:\",metrics.precision_score(y_test, y_pred_xgb))\n",
        "print(\"Recall:\",metrics.recall_score(y_test, y_pred_xgb))\n",
        "\n",
        "print(xgb.score(X_train,y_train))\n",
        "print(xgb.score(X_test,y_test))"
      ],
      "metadata": {
        "id": "H-idxhKkn4SS",
        "colab": {
          "base_uri": "https://localhost:8080/"
        },
        "outputId": "ff09e16b-1fef-46d7-8941-f0dce5597da5"
      },
      "execution_count": null,
      "outputs": [
        {
          "output_type": "stream",
          "name": "stdout",
          "text": [
            "              precision    recall  f1-score   support\n",
            "\n",
            "           0       0.91      0.67      0.77        15\n",
            "           1       0.90      0.98      0.93        44\n",
            "\n",
            "    accuracy                           0.90        59\n",
            "   macro avg       0.90      0.82      0.85        59\n",
            "weighted avg       0.90      0.90      0.89        59\n",
            "\n",
            "Accuracy: 0.8983050847457628\n",
            "Precision: 0.8958333333333334\n",
            "Recall: 0.9772727272727273\n",
            "1.0\n",
            "0.8983050847457628\n"
          ]
        }
      ]
    },
    {
      "cell_type": "code",
      "source": [
        "xgb_tacc = xgb.score(X_test,y_test)\n",
        "xgb_train_acc = xgb.score(X_train, y_train)"
      ],
      "metadata": {
        "id": "33Ne7fZAn4PT"
      },
      "execution_count": null,
      "outputs": []
    },
    {
      "cell_type": "code",
      "source": [
        "cm = metrics.confusion_matrix(y_test, y_pred_xgb, labels=[1,0])\n",
        "\n",
        "df_cm = pd.DataFrame(cm, index = [i for i in [\"1\",\"0\"]],\n",
        "                         columns = [i for i in [\"Predict 1\", \"Predict 0\"]])\n",
        "plt.figure(figsize = (3,3))\n",
        "sns.heatmap(df_cm, annot=True, fmt='g')"
      ],
      "metadata": {
        "id": "GNgPxfkpoEJc",
        "colab": {
          "base_uri": "https://localhost:8080/",
          "height": 836
        },
        "outputId": "dd01151f-1096-479e-f892-d15cf02d1899"
      },
      "execution_count": null,
      "outputs": [
        {
          "output_type": "execute_result",
          "data": {
            "text/plain": [
              "<Axes: >"
            ]
          },
          "metadata": {},
          "execution_count": 100
        },
        {
          "output_type": "display_data",
          "data": {
            "text/plain": [
              "<Figure size 900x900 with 2 Axes>"
            ],
            "image/png": "[encoded data removed]"
          },
          "metadata": {}
        }
      ]
    },
    {
      "cell_type": "code",
      "source": [
        "y_pred_proba = xgb.predict_proba(X_test)[::,1]\n",
        "fpr, tpr, _ = metrics.roc_curve(y_test, y_pred_proba)\n",
        "fpr\n",
        "tpr\n",
        "\n",
        "auc = metrics.roc_auc_score(y_test, y_pred_proba)\n",
        "auc\n",
        "plt.figure(figsize = (2,1))\n",
        "plt.plot(fpr,tpr,label=\"data 1, auc=\"+str(auc))\n",
        "plt.legend(loc=4)\n",
        "plt.xlabel('False Positive Rate')\n",
        "plt.ylabel('True Positive Rate')\n",
        "plt.title('Receiver operating characteristic')\n",
        "plt.legend(loc=\"lower right\")"
      ],
      "metadata": {
        "id": "6p2fLYKaoEGw",
        "colab": {
          "base_uri": "https://localhost:8080/",
          "height": 439
        },
        "outputId": "b9501827-ddb7-4354-9c9f-0e1289037600"
      },
      "execution_count": null,
      "outputs": [
        {
          "output_type": "execute_result",
          "data": {
            "text/plain": [
              "<matplotlib.legend.Legend at 0x7e0061dbff50>"
            ]
          },
          "metadata": {},
          "execution_count": 101
        },
        {
          "output_type": "display_data",
          "data": {
            "text/plain": [
              "<Figure size 600x300 with 1 Axes>"
            ],
            "image/png": "[encoded data removed]"
          },
          "metadata": {}
        }
      ]
    },
    {
      "cell_type": "code",
      "source": [
        "xgb_auc = auc\n",
        "xgb_auc"
      ],
      "metadata": {
        "id": "34upaIKyoEEk",
        "colab": {
          "base_uri": "https://localhost:8080/"
        },
        "outputId": "5ab2ee24-a01c-4484-974b-48de0036a52f"
      },
      "execution_count": null,
      "outputs": [
        {
          "output_type": "execute_result",
          "data": {
            "text/plain": [
              "0.9530303030303031"
            ]
          },
          "metadata": {},
          "execution_count": 102
        }
      ]
    },
    {
      "cell_type": "code",
      "source": [
        "def comp_model(model_list, model_train_acc_list, model_test_acc_list, model_auc_list):\n",
        "    data = {\"Model Name\": model_list, \"Train Accuracy(%)\": [i*100 for i in model_train_acc_list], \"Test Accuracy(%)\": [i*100 for i in model_test_acc_list], \"AUC Score\": model_auc_list}\n",
        "    Comparision = pd.DataFrame(data)\n",
        "    return Comparision"
      ],
      "metadata": {
        "id": "KPaIqvKXoEB9"
      },
      "execution_count": null,
      "outputs": []
    },
    {
      "cell_type": "code",
      "source": [
        "skfold = StratifiedKFold(n_splits=5)\n",
        "model = KNeighborsClassifier(n_neighbors=1)\n",
        "scores = cross_val_score(model, feature, y, cv=skfold)\n",
        "\n",
        "print(scores)\n",
        "print(np.mean(scores))"
      ],
      "metadata": {
        "id": "n-gWLfkWooTF",
        "colab": {
          "base_uri": "https://localhost:8080/"
        },
        "outputId": "ec842fac-40b7-435b-c317-ffe6502ab078"
      },
      "execution_count": null,
      "outputs": [
        {
          "output_type": "stream",
          "name": "stdout",
          "text": [
            "[0.74358974 0.79487179 0.8974359  0.71794872 0.74358974]\n",
            "0.7794871794871795\n"
          ]
        }
      ]
    },
    {
      "cell_type": "code",
      "source": [
        "skfold = StratifiedKFold(n_splits=10)\n",
        "model = KNeighborsClassifier(n_neighbors=1)\n",
        "scores = cross_val_score(model, feature, y, cv=skfold)\n",
        "\n",
        "print(scores)\n",
        "print(np.mean(scores))"
      ],
      "metadata": {
        "id": "A-IUcaqTs79t",
        "colab": {
          "base_uri": "https://localhost:8080/"
        },
        "outputId": "b06ecb66-1ad4-434a-b243-79b0a1c99ca7"
      },
      "execution_count": null,
      "outputs": [
        {
          "output_type": "stream",
          "name": "stdout",
          "text": [
            "[0.8        0.85       0.85       0.9        1.         0.89473684\n",
            " 0.94736842 0.78947368 0.78947368 0.84210526]\n",
            "0.8663157894736843\n"
          ]
        }
      ]
    },
    {
      "cell_type": "code",
      "source": [
        "skfold = StratifiedKFold(n_splits=5)\n",
        "model = SVC(gamma=0.4, C=100, kernel='rbf', probability=True)\n",
        "scores = cross_val_score(model, feature, y, cv=skfold)\n",
        "\n",
        "print(scores)\n",
        "print(np.mean(scores))"
      ],
      "metadata": {
        "id": "IEnV4OyAooPq",
        "colab": {
          "base_uri": "https://localhost:8080/"
        },
        "outputId": "5ccf52e2-25e3-4527-cdf2-51d9fa477844"
      },
      "execution_count": null,
      "outputs": [
        {
          "output_type": "stream",
          "name": "stdout",
          "text": [
            "[0.82051282 0.79487179 0.87179487 0.76923077 0.74358974]\n",
            "0.8\n"
          ]
        }
      ]
    },
    {
      "cell_type": "code",
      "source": [
        "skfold = StratifiedKFold(n_splits=10)\n",
        "model = SVC(gamma=0.4, C=100, kernel='rbf', probability=True)\n",
        "scores = cross_val_score(model, feature, y, cv=skfold)\n",
        "\n",
        "print(scores)\n",
        "print(np.mean(scores))"
      ],
      "metadata": {
        "id": "DrwwAtFsu5WA",
        "colab": {
          "base_uri": "https://localhost:8080/"
        },
        "outputId": "e6a53b26-a46f-482a-a1c9-9d2f51820a66"
      },
      "execution_count": null,
      "outputs": [
        {
          "output_type": "stream",
          "name": "stdout",
          "text": [
            "[0.75       0.95       0.8        0.85       1.         0.94736842\n",
            " 0.94736842 0.78947368 0.78947368 0.73684211]\n",
            "0.8560526315789474\n"
          ]
        }
      ]
    },
    {
      "cell_type": "code",
      "source": [
        "df[df[\"status\"]==0].head(2)"
      ],
      "metadata": {
        "id": "p_u4TtDSooNW",
        "colab": {
          "base_uri": "https://localhost:8080/"
        },
        "outputId": "a7f8dac4-e5fb-44ae-bdac-da1530ad1312"
      },
      "execution_count": null,
      "outputs": [
        {
          "output_type": "execute_result",
          "data": {
            "text/plain": [
              "    MDVP:Fo(Hz)  MDVP:Fhi(Hz)  MDVP:Flo(Hz)  MDVP:Jitter(%)  MDVP:Shimmer  \\\n",
              "30      197.076       206.896       192.055         0.00289       0.01098   \n",
              "31      199.228       209.512       192.091         0.00241       0.01015   \n",
              "\n",
              "        NHR  status      RPDE       DFA   spread1   spread2        D2  \n",
              "30  0.00339       0  0.422229  0.741367 -7.348300  0.177551  1.743867  \n",
              "31  0.00167       0  0.432439  0.742055 -7.682587  0.173319  2.103106  "
            ],
            "text/html": [
              "\n",
              "  <div id=\"df-fe0f28ff-953e-4537-9c31-4925c7697993\" class=\"colab-df-container\">\n",
              "    <div>\n",
              "<style scoped>\n",
              "    .dataframe tbody tr th:only-of-type {\n",
              "        vertical-align: middle;\n",
              "    }\n",
              "\n",
              "    .dataframe tbody tr th {\n",
              "        vertical-align: top;\n",
              "    }\n",
              "\n",
              "    .dataframe thead th {\n",
              "        text-align: right;\n",
              "    }\n",
              "</style>\n",
              "<table border=\"1\" class=\"dataframe\">\n",
              "  <thead>\n",
              "    <tr style=\"text-align: right;\">\n",
              "      <th></th>\n",
              "      <th>MDVP:Fo(Hz)</th>\n",
              "      <th>MDVP:Fhi(Hz)</th>\n",
              "      <th>MDVP:Flo(Hz)</th>\n",
              "      <th>MDVP:Jitter(%)</th>\n",
              "      <th>MDVP:Shimmer</th>\n",
              "      <th>NHR</th>\n",
              "      <th>status</th>\n",
              "      <th>RPDE</th>\n",
              "      <th>DFA</th>\n",
              "      <th>spread1</th>\n",
              "      <th>spread2</th>\n",
              "      <th>D2</th>\n",
              "    </tr>\n",
              "  </thead>\n",
              "  <tbody>\n",
              "    <tr>\n",
              "      <th>30</th>\n",
              "      <td>197.076</td>\n",
              "      <td>206.896</td>\n",
              "      <td>192.055</td>\n",
              "      <td>0.00289</td>\n",
              "      <td>0.01098</td>\n",
              "      <td>0.00339</td>\n",
              "      <td>0</td>\n",
              "      <td>0.422229</td>\n",
              "      <td>0.741367</td>\n",
              "      <td>-7.348300</td>\n",
              "      <td>0.177551</td>\n",
              "      <td>1.743867</td>\n",
              "    </tr>\n",
              "    <tr>\n",
              "      <th>31</th>\n",
              "      <td>199.228</td>\n",
              "      <td>209.512</td>\n",
              "      <td>192.091</td>\n",
              "      <td>0.00241</td>\n",
              "      <td>0.01015</td>\n",
              "      <td>0.00167</td>\n",
              "      <td>0</td>\n",
              "      <td>0.432439</td>\n",
              "      <td>0.742055</td>\n",
              "      <td>-7.682587</td>\n",
              "      <td>0.173319</td>\n",
              "      <td>2.103106</td>\n",
              "    </tr>\n",
              "  </tbody>\n",
              "</table>\n",
              "</div>\n",
              "    <div class=\"colab-df-buttons\">\n",
              "\n",
              "  <div class=\"colab-df-container\">\n",
              "    <button class=\"colab-df-convert\" onclick=\"convertToInteractive('df-fe0f28ff-953e-4537-9c31-4925c7697993')\"\n",
              "            title=\"Convert this dataframe to an interactive table.\"\n",
              "            style=\"display:none;\">\n",
              "\n",
              "  <svg xmlns=\"http://www.w3.org/2000/svg\" height=\"24px\" viewBox=\"0 -960 960 960\">\n",
              "    <path d=\"M120-120v-720h720v720H120Zm60-500h600v-160H180v160Zm220 220h160v-160H400v160Zm0 220h160v-160H400v160ZM180-400h160v-160H180v160Zm440 0h160v-160H620v160ZM180-180h160v-160H180v160Zm440 0h160v-160H620v160Z\"/>\n",
              "  </svg>\n",
              "    </button>\n",
              "\n",
              "  <style>\n",
              "    .colab-df-container {\n",
              "      display:flex;\n",
              "      gap: 12px;\n",
              "    }\n",
              "\n",
              "    .colab-df-convert {\n",
              "      background-color: #E8F0FE;\n",
              "      border: none;\n",
              "      border-radius: 50%;\n",
              "      cursor: pointer;\n",
              "      display: none;\n",
              "      fill: #1967D2;\n",
              "      height: 32px;\n",
              "      padding: 0 0 0 0;\n",
              "      width: 32px;\n",
              "    }\n",
              "\n",
              "    .colab-df-convert:hover {\n",
              "      background-color: #E2EBFA;\n",
              "      box-shadow: 0px 1px 2px rgba(60, 64, 67, 0.3), 0px 1px 3px 1px rgba(60, 64, 67, 0.15);\n",
              "      fill: #174EA6;\n",
              "    }\n",
              "\n",
              "    .colab-df-buttons div {\n",
              "      margin-bottom: 4px;\n",
              "    }\n",
              "\n",
              "    [theme=dark] .colab-df-convert {\n",
              "      background-color: #3B4455;\n",
              "      fill: #D2E3FC;\n",
              "    }\n",
              "\n",
              "    [theme=dark] .colab-df-convert:hover {\n",
              "      background-color: #434B5C;\n",
              "      box-shadow: 0px 1px 3px 1px rgba(0, 0, 0, 0.15);\n",
              "      filter: drop-shadow(0px 1px 2px rgba(0, 0, 0, 0.3));\n",
              "      fill: #FFFFFF;\n",
              "    }\n",
              "  </style>\n",
              "\n",
              "    <script>\n",
              "      const buttonEl =\n",
              "        document.querySelector('#df-fe0f28ff-953e-4537-9c31-4925c7697993 button.colab-df-convert');\n",
              "      buttonEl.style.display =\n",
              "        google.colab.kernel.accessAllowed ? 'block' : 'none';\n",
              "\n",
              "      async function convertToInteractive(key) {\n",
              "        const element = document.querySelector('#df-fe0f28ff-953e-4537-9c31-4925c7697993');\n",
              "        const dataTable =\n",
              "          await google.colab.kernel.invokeFunction('convertToInteractive',\n",
              "                                                    [key], {});\n",
              "        if (!dataTable) return;\n",
              "\n",
              "        const docLinkHtml = 'Like what you see? Visit the ' +\n",
              "          '<a target=\"_blank\" href=https://colab.research.google.com/notebooks/data_table.ipynb>data table notebook</a>'\n",
              "          + ' to learn more about interactive tables.';\n",
              "        element.innerHTML = '';\n",
              "        dataTable['output_type'] = 'display_data';\n",
              "        await google.colab.output.renderOutput(dataTable, element);\n",
              "        const docLink = document.createElement('div');\n",
              "        docLink.innerHTML = docLinkHtml;\n",
              "        element.appendChild(docLink);\n",
              "      }\n",
              "    </script>\n",
              "  </div>\n",
              "\n",
              "\n",
              "<div id=\"df-142bbcd9-89d8-47b7-8ba8-6f079a54599f\">\n",
              "  <button class=\"colab-df-quickchart\" onclick=\"quickchart('df-142bbcd9-89d8-47b7-8ba8-6f079a54599f')\"\n",
              "            title=\"Suggest charts\"\n",
              "            style=\"display:none;\">\n",
              "\n",
              "<svg xmlns=\"http://www.w3.org/2000/svg\" height=\"24px\"viewBox=\"0 0 24 24\"\n",
              "     width=\"24px\">\n",
              "    <g>\n",
              "        <path d=\"M19 3H5c-1.1 0-2 .9-2 2v14c0 1.1.9 2 2 2h14c1.1 0 2-.9 2-2V5c0-1.1-.9-2-2-2zM9 17H7v-7h2v7zm4 0h-2V7h2v10zm4 0h-2v-4h2v4z\"/>\n",
              "    </g>\n",
              "</svg>\n",
              "  </button>\n",
              "\n",
              "<style>\n",
              "  .colab-df-quickchart {\n",
              "      --bg-color: #E8F0FE;\n",
              "      --fill-color: #1967D2;\n",
              "      --hover-bg-color: #E2EBFA;\n",
              "      --hover-fill-color: #174EA6;\n",
              "      --disabled-fill-color: #AAA;\n",
              "      --disabled-bg-color: #DDD;\n",
              "  }\n",
              "\n",
              "  [theme=dark] .colab-df-quickchart {\n",
              "      --bg-color: #3B4455;\n",
              "      --fill-color: #D2E3FC;\n",
              "      --hover-bg-color: #434B5C;\n",
              "      --hover-fill-color: #FFFFFF;\n",
              "      --disabled-bg-color: #3B4455;\n",
              "      --disabled-fill-color: #666;\n",
              "  }\n",
              "\n",
              "  .colab-df-quickchart {\n",
              "    background-color: var(--bg-color);\n",
              "    border: none;\n",
              "    border-radius: 50%;\n",
              "    cursor: pointer;\n",
              "    display: none;\n",
              "    fill: var(--fill-color);\n",
              "    height: 32px;\n",
              "    padding: 0;\n",
              "    width: 32px;\n",
              "  }\n",
              "\n",
              "  .colab-df-quickchart:hover {\n",
              "    background-color: var(--hover-bg-color);\n",
              "    box-shadow: 0 1px 2px rgba(60, 64, 67, 0.3), 0 1px 3px 1px rgba(60, 64, 67, 0.15);\n",
              "    fill: var(--button-hover-fill-color);\n",
              "  }\n",
              "\n",
              "  .colab-df-quickchart-complete:disabled,\n",
              "  .colab-df-quickchart-complete:disabled:hover {\n",
              "    background-color: var(--disabled-bg-color);\n",
              "    fill: var(--disabled-fill-color);\n",
              "    box-shadow: none;\n",
              "  }\n",
              "\n",
              "  .colab-df-spinner {\n",
              "    border: 2px solid var(--fill-color);\n",
              "    border-color: transparent;\n",
              "    border-bottom-color: var(--fill-color);\n",
              "    animation:\n",
              "      spin 1s steps(1) infinite;\n",
              "  }\n",
              "\n",
              "  @keyframes spin {\n",
              "    0% {\n",
              "      border-color: transparent;\n",
              "      border-bottom-color: var(--fill-color);\n",
              "      border-left-color: var(--fill-color);\n",
              "    }\n",
              "    20% {\n",
              "      border-color: transparent;\n",
              "      border-left-color: var(--fill-color);\n",
              "      border-top-color: var(--fill-color);\n",
              "    }\n",
              "    30% {\n",
              "      border-color: transparent;\n",
              "      border-left-color: var(--fill-color);\n",
              "      border-top-color: var(--fill-color);\n",
              "      border-right-color: var(--fill-color);\n",
              "    }\n",
              "    40% {\n",
              "      border-color: transparent;\n",
              "      border-right-color: var(--fill-color);\n",
              "      border-top-color: var(--fill-color);\n",
              "    }\n",
              "    60% {\n",
              "      border-color: transparent;\n",
              "      border-right-color: var(--fill-color);\n",
              "    }\n",
              "    80% {\n",
              "      border-color: transparent;\n",
              "      border-right-color: var(--fill-color);\n",
              "      border-bottom-color: var(--fill-color);\n",
              "    }\n",
              "    90% {\n",
              "      border-color: transparent;\n",
              "      border-bottom-color: var(--fill-color);\n",
              "    }\n",
              "  }\n",
              "</style>\n",
              "\n",
              "  <script>\n",
              "    async function quickchart(key) {\n",
              "      const quickchartButtonEl =\n",
              "        document.querySelector('#' + key + ' button');\n",
              "      quickchartButtonEl.disabled = true;  // To prevent multiple clicks.\n",
              "      quickchartButtonEl.classList.add('colab-df-spinner');\n",
              "      try {\n",
              "        const charts = await google.colab.kernel.invokeFunction(\n",
              "            'suggestCharts', [key], {});\n",
              "      } catch (error) {\n",
              "        console.error('Error during call to suggestCharts:', error);\n",
              "      }\n",
              "      quickchartButtonEl.classList.remove('colab-df-spinner');\n",
              "      quickchartButtonEl.classList.add('colab-df-quickchart-complete');\n",
              "    }\n",
              "    (() => {\n",
              "      let quickchartButtonEl =\n",
              "        document.querySelector('#df-142bbcd9-89d8-47b7-8ba8-6f079a54599f button');\n",
              "      quickchartButtonEl.style.display =\n",
              "        google.colab.kernel.accessAllowed ? 'block' : 'none';\n",
              "    })();\n",
              "  </script>\n",
              "</div>\n",
              "\n",
              "    </div>\n",
              "  </div>\n"
            ],
            "application/vnd.google.colaboratory.intrinsic+json": {
              "type": "dataframe",
              "summary": "{\n  \"name\": \"df[df[\\\"status\\\"]==0]\",\n  \"rows\": 2,\n  \"fields\": [\n    {\n      \"column\": \"MDVP:Fo(Hz)\",\n      \"properties\": {\n        \"dtype\": \"number\",\n        \"std\": 1.521693793113461,\n        \"min\": 197.076,\n        \"max\": 199.228,\n        \"num_unique_values\": 2,\n        \"samples\": [\n          199.228,\n          197.076\n        ],\n        \"semantic_type\": \"\",\n        \"description\": \"\"\n      }\n    },\n    {\n      \"column\": \"MDVP:Fhi(Hz)\",\n      \"properties\": {\n        \"dtype\": \"number\",\n        \"std\": 1.8497913395840182,\n        \"min\": 206.896,\n        \"max\": 209.512,\n        \"num_unique_values\": 2,\n        \"samples\": [\n          209.512,\n          206.896\n        ],\n        \"semantic_type\": \"\",\n        \"description\": \"\"\n      }\n    },\n    {\n      \"column\": \"MDVP:Flo(Hz)\",\n      \"properties\": {\n        \"dtype\": \"number\",\n        \"std\": 0.025455844122716675,\n        \"min\": 192.055,\n        \"max\": 192.091,\n        \"num_unique_values\": 2,\n        \"samples\": [\n          192.091,\n          192.055\n        ],\n        \"semantic_type\": \"\",\n        \"description\": \"\"\n      }\n    },\n    {\n      \"column\": \"MDVP:Jitter(%)\",\n      \"properties\": {\n        \"dtype\": \"number\",\n        \"std\": 0.00033941125496954306,\n        \"min\": 0.00241,\n        \"max\": 0.00289,\n        \"num_unique_values\": 2,\n        \"samples\": [\n          0.00241,\n          0.00289\n        ],\n        \"semantic_type\": \"\",\n        \"description\": \"\"\n      }\n    },\n    {\n      \"column\": \"MDVP:Shimmer\",\n      \"properties\": {\n        \"dtype\": \"number\",\n        \"std\": 0.000586898628384835,\n        \"min\": 0.01015,\n        \"max\": 0.01098,\n        \"num_unique_values\": 2,\n        \"samples\": [\n          0.01015,\n          0.01098\n        ],\n        \"semantic_type\": \"\",\n        \"description\": \"\"\n      }\n    },\n    {\n      \"column\": \"NHR\",\n      \"properties\": {\n        \"dtype\": \"number\",\n        \"std\": 0.0012162236636408617,\n        \"min\": 0.00167,\n        \"max\": 0.00339,\n        \"num_unique_values\": 2,\n        \"samples\": [\n          0.00167,\n          0.00339\n        ],\n        \"semantic_type\": \"\",\n        \"description\": \"\"\n      }\n    },\n    {\n      \"column\": \"status\",\n      \"properties\": {\n        \"dtype\": \"number\",\n        \"std\": 0,\n        \"min\": 0,\n        \"max\": 0,\n        \"num_unique_values\": 1,\n        \"samples\": [\n          0\n        ],\n        \"semantic_type\": \"\",\n        \"description\": \"\"\n      }\n    },\n    {\n      \"column\": \"RPDE\",\n      \"properties\": {\n        \"dtype\": \"number\",\n        \"std\": 0.007219560235914648,\n        \"min\": 0.422229,\n        \"max\": 0.432439,\n        \"num_unique_values\": 2,\n        \"samples\": [\n          0.432439\n        ],\n        \"semantic_type\": \"\",\n        \"description\": \"\"\n      }\n    },\n    {\n      \"column\": \"DFA\",\n      \"properties\": {\n        \"dtype\": \"number\",\n        \"std\": 0.0004864894654563602,\n        \"min\": 0.741367,\n        \"max\": 0.742055,\n        \"num_unique_values\": 2,\n        \"samples\": [\n          0.742055\n        ],\n        \"semantic_type\": \"\",\n        \"description\": \"\"\n      }\n    },\n    {\n      \"column\": \"spread1\",\n      \"properties\": {\n        \"dtype\": \"number\",\n        \"std\": 0.23637660456250725,\n        \"min\": -7.682587,\n        \"max\": -7.3483,\n        \"num_unique_values\": 2,\n        \"samples\": [\n          -7.682587\n        ],\n        \"semantic_type\": \"\",\n        \"description\": \"\"\n      }\n    },\n    {\n      \"column\": \"spread2\",\n      \"properties\": {\n        \"dtype\": \"number\",\n        \"std\": 0.0029924758979814592,\n        \"min\": 0.173319,\n        \"max\": 0.177551,\n        \"num_unique_values\": 2,\n        \"samples\": [\n          0.173319\n        ],\n        \"semantic_type\": \"\",\n        \"description\": \"\"\n      }\n    },\n    {\n      \"column\": \"D2\",\n      \"properties\": {\n        \"dtype\": \"number\",\n        \"std\": 0.25402033296667403,\n        \"min\": 1.743867,\n        \"max\": 2.103106,\n        \"num_unique_values\": 2,\n        \"samples\": [\n          2.103106\n        ],\n        \"semantic_type\": \"\",\n        \"description\": \"\"\n      }\n    }\n  ]\n}"
            }
          },
          "metadata": {},
          "execution_count": 108
        }
      ]
    },
    {
      "cell_type": "code",
      "source": [
        "df[df[\"status\"]==1].head(2)"
      ],
      "metadata": {
        "id": "CdKVV5WDooLF",
        "colab": {
          "base_uri": "https://localhost:8080/",
          "height": 112
        },
        "outputId": "414de804-08bc-45ad-b287-23e1e862b34d"
      },
      "execution_count": null,
      "outputs": [
        {
          "output_type": "execute_result",
          "data": {
            "text/plain": [
              "   MDVP:Fo(Hz)  MDVP:Fhi(Hz)  MDVP:Flo(Hz)  MDVP:Jitter(%)  MDVP:Shimmer  \\\n",
              "0      119.992       157.302        74.997         0.00784       0.04374   \n",
              "1      122.400       148.650       113.819         0.00968       0.06134   \n",
              "\n",
              "       NHR  status      RPDE       DFA   spread1   spread2        D2  \n",
              "0  0.02211       1  0.414783  0.815285 -4.813031  0.266482  2.301442  \n",
              "1  0.01929       1  0.458359  0.819521 -4.075192  0.335590  2.486855  "
            ],
            "text/html": [
              "\n",
              "  <div id=\"df-1d63aff0-46a1-42e7-bd5e-8872057298a4\" class=\"colab-df-container\">\n",
              "    <div>\n",
              "<style scoped>\n",
              "    .dataframe tbody tr th:only-of-type {\n",
              "        vertical-align: middle;\n",
              "    }\n",
              "\n",
              "    .dataframe tbody tr th {\n",
              "        vertical-align: top;\n",
              "    }\n",
              "\n",
              "    .dataframe thead th {\n",
              "        text-align: right;\n",
              "    }\n",
              "</style>\n",
              "<table border=\"1\" class=\"dataframe\">\n",
              "  <thead>\n",
              "    <tr style=\"text-align: right;\">\n",
              "      <th></th>\n",
              "      <th>MDVP:Fo(Hz)</th>\n",
              "      <th>MDVP:Fhi(Hz)</th>\n",
              "      <th>MDVP:Flo(Hz)</th>\n",
              "      <th>MDVP:Jitter(%)</th>\n",
              "      <th>MDVP:Shimmer</th>\n",
              "      <th>NHR</th>\n",
              "      <th>status</th>\n",
              "      <th>RPDE</th>\n",
              "      <th>DFA</th>\n",
              "      <th>spread1</th>\n",
              "      <th>spread2</th>\n",
              "      <th>D2</th>\n",
              "    </tr>\n",
              "  </thead>\n",
              "  <tbody>\n",
              "    <tr>\n",
              "      <th>0</th>\n",
              "      <td>119.992</td>\n",
              "      <td>157.302</td>\n",
              "      <td>74.997</td>\n",
              "      <td>0.00784</td>\n",
              "      <td>0.04374</td>\n",
              "      <td>0.02211</td>\n",
              "      <td>1</td>\n",
              "      <td>0.414783</td>\n",
              "      <td>0.815285</td>\n",
              "      <td>-4.813031</td>\n",
              "      <td>0.266482</td>\n",
              "      <td>2.301442</td>\n",
              "    </tr>\n",
              "    <tr>\n",
              "      <th>1</th>\n",
              "      <td>122.400</td>\n",
              "      <td>148.650</td>\n",
              "      <td>113.819</td>\n",
              "      <td>0.00968</td>\n",
              "      <td>0.06134</td>\n",
              "      <td>0.01929</td>\n",
              "      <td>1</td>\n",
              "      <td>0.458359</td>\n",
              "      <td>0.819521</td>\n",
              "      <td>-4.075192</td>\n",
              "      <td>0.335590</td>\n",
              "      <td>2.486855</td>\n",
              "    </tr>\n",
              "  </tbody>\n",
              "</table>\n",
              "</div>\n",
              "    <div class=\"colab-df-buttons\">\n",
              "\n",
              "  <div class=\"colab-df-container\">\n",
              "    <button class=\"colab-df-convert\" onclick=\"convertToInteractive('df-1d63aff0-46a1-42e7-bd5e-8872057298a4')\"\n",
              "            title=\"Convert this dataframe to an interactive table.\"\n",
              "            style=\"display:none;\">\n",
              "\n",
              "  <svg xmlns=\"http://www.w3.org/2000/svg\" height=\"24px\" viewBox=\"0 -960 960 960\">\n",
              "    <path d=\"M120-120v-720h720v720H120Zm60-500h600v-160H180v160Zm220 220h160v-160H400v160Zm0 220h160v-160H400v160ZM180-400h160v-160H180v160Zm440 0h160v-160H620v160ZM180-180h160v-160H180v160Zm440 0h160v-160H620v160Z\"/>\n",
              "  </svg>\n",
              "    </button>\n",
              "\n",
              "  <style>\n",
              "    .colab-df-container {\n",
              "      display:flex;\n",
              "      gap: 12px;\n",
              "    }\n",
              "\n",
              "    .colab-df-convert {\n",
              "      background-color: #E8F0FE;\n",
              "      border: none;\n",
              "      border-radius: 50%;\n",
              "      cursor: pointer;\n",
              "      display: none;\n",
              "      fill: #1967D2;\n",
              "      height: 32px;\n",
              "      padding: 0 0 0 0;\n",
              "      width: 32px;\n",
              "    }\n",
              "\n",
              "    .colab-df-convert:hover {\n",
              "      background-color: #E2EBFA;\n",
              "      box-shadow: 0px 1px 2px rgba(60, 64, 67, 0.3), 0px 1px 3px 1px rgba(60, 64, 67, 0.15);\n",
              "      fill: #174EA6;\n",
              "    }\n",
              "\n",
              "    .colab-df-buttons div {\n",
              "      margin-bottom: 4px;\n",
              "    }\n",
              "\n",
              "    [theme=dark] .colab-df-convert {\n",
              "      background-color: #3B4455;\n",
              "      fill: #D2E3FC;\n",
              "    }\n",
              "\n",
              "    [theme=dark] .colab-df-convert:hover {\n",
              "      background-color: #434B5C;\n",
              "      box-shadow: 0px 1px 3px 1px rgba(0, 0, 0, 0.15);\n",
              "      filter: drop-shadow(0px 1px 2px rgba(0, 0, 0, 0.3));\n",
              "      fill: #FFFFFF;\n",
              "    }\n",
              "  </style>\n",
              "\n",
              "    <script>\n",
              "      const buttonEl =\n",
              "        document.querySelector('#df-1d63aff0-46a1-42e7-bd5e-8872057298a4 button.colab-df-convert');\n",
              "      buttonEl.style.display =\n",
              "        google.colab.kernel.accessAllowed ? 'block' : 'none';\n",
              "\n",
              "      async function convertToInteractive(key) {\n",
              "        const element = document.querySelector('#df-1d63aff0-46a1-42e7-bd5e-8872057298a4');\n",
              "        const dataTable =\n",
              "          await google.colab.kernel.invokeFunction('convertToInteractive',\n",
              "                                                    [key], {});\n",
              "        if (!dataTable) return;\n",
              "\n",
              "        const docLinkHtml = 'Like what you see? Visit the ' +\n",
              "          '<a target=\"_blank\" href=https://colab.research.google.com/notebooks/data_table.ipynb>data table notebook</a>'\n",
              "          + ' to learn more about interactive tables.';\n",
              "        element.innerHTML = '';\n",
              "        dataTable['output_type'] = 'display_data';\n",
              "        await google.colab.output.renderOutput(dataTable, element);\n",
              "        const docLink = document.createElement('div');\n",
              "        docLink.innerHTML = docLinkHtml;\n",
              "        element.appendChild(docLink);\n",
              "      }\n",
              "    </script>\n",
              "  </div>\n",
              "\n",
              "\n",
              "<div id=\"df-79088a5b-a970-4a31-8074-7972846cf906\">\n",
              "  <button class=\"colab-df-quickchart\" onclick=\"quickchart('df-79088a5b-a970-4a31-8074-7972846cf906')\"\n",
              "            title=\"Suggest charts\"\n",
              "            style=\"display:none;\">\n",
              "\n",
              "<svg xmlns=\"http://www.w3.org/2000/svg\" height=\"24px\"viewBox=\"0 0 24 24\"\n",
              "     width=\"24px\">\n",
              "    <g>\n",
              "        <path d=\"M19 3H5c-1.1 0-2 .9-2 2v14c0 1.1.9 2 2 2h14c1.1 0 2-.9 2-2V5c0-1.1-.9-2-2-2zM9 17H7v-7h2v7zm4 0h-2V7h2v10zm4 0h-2v-4h2v4z\"/>\n",
              "    </g>\n",
              "</svg>\n",
              "  </button>\n",
              "\n",
              "<style>\n",
              "  .colab-df-quickchart {\n",
              "      --bg-color: #E8F0FE;\n",
              "      --fill-color: #1967D2;\n",
              "      --hover-bg-color: #E2EBFA;\n",
              "      --hover-fill-color: #174EA6;\n",
              "      --disabled-fill-color: #AAA;\n",
              "      --disabled-bg-color: #DDD;\n",
              "  }\n",
              "\n",
              "  [theme=dark] .colab-df-quickchart {\n",
              "      --bg-color: #3B4455;\n",
              "      --fill-color: #D2E3FC;\n",
              "      --hover-bg-color: #434B5C;\n",
              "      --hover-fill-color: #FFFFFF;\n",
              "      --disabled-bg-color: #3B4455;\n",
              "      --disabled-fill-color: #666;\n",
              "  }\n",
              "\n",
              "  .colab-df-quickchart {\n",
              "    background-color: var(--bg-color);\n",
              "    border: none;\n",
              "    border-radius: 50%;\n",
              "    cursor: pointer;\n",
              "    display: none;\n",
              "    fill: var(--fill-color);\n",
              "    height: 32px;\n",
              "    padding: 0;\n",
              "    width: 32px;\n",
              "  }\n",
              "\n",
              "  .colab-df-quickchart:hover {\n",
              "    background-color: var(--hover-bg-color);\n",
              "    box-shadow: 0 1px 2px rgba(60, 64, 67, 0.3), 0 1px 3px 1px rgba(60, 64, 67, 0.15);\n",
              "    fill: var(--button-hover-fill-color);\n",
              "  }\n",
              "\n",
              "  .colab-df-quickchart-complete:disabled,\n",
              "  .colab-df-quickchart-complete:disabled:hover {\n",
              "    background-color: var(--disabled-bg-color);\n",
              "    fill: var(--disabled-fill-color);\n",
              "    box-shadow: none;\n",
              "  }\n",
              "\n",
              "  .colab-df-spinner {\n",
              "    border: 2px solid var(--fill-color);\n",
              "    border-color: transparent;\n",
              "    border-bottom-color: var(--fill-color);\n",
              "    animation:\n",
              "      spin 1s steps(1) infinite;\n",
              "  }\n",
              "\n",
              "  @keyframes spin {\n",
              "    0% {\n",
              "      border-color: transparent;\n",
              "      border-bottom-color: var(--fill-color);\n",
              "      border-left-color: var(--fill-color);\n",
              "    }\n",
              "    20% {\n",
              "      border-color: transparent;\n",
              "      border-left-color: var(--fill-color);\n",
              "      border-top-color: var(--fill-color);\n",
              "    }\n",
              "    30% {\n",
              "      border-color: transparent;\n",
              "      border-left-color: var(--fill-color);\n",
              "      border-top-color: var(--fill-color);\n",
              "      border-right-color: var(--fill-color);\n",
              "    }\n",
              "    40% {\n",
              "      border-color: transparent;\n",
              "      border-right-color: var(--fill-color);\n",
              "      border-top-color: var(--fill-color);\n",
              "    }\n",
              "    60% {\n",
              "      border-color: transparent;\n",
              "      border-right-color: var(--fill-color);\n",
              "    }\n",
              "    80% {\n",
              "      border-color: transparent;\n",
              "      border-right-color: var(--fill-color);\n",
              "      border-bottom-color: var(--fill-color);\n",
              "    }\n",
              "    90% {\n",
              "      border-color: transparent;\n",
              "      border-bottom-color: var(--fill-color);\n",
              "    }\n",
              "  }\n",
              "</style>\n",
              "\n",
              "  <script>\n",
              "    async function quickchart(key) {\n",
              "      const quickchartButtonEl =\n",
              "        document.querySelector('#' + key + ' button');\n",
              "      quickchartButtonEl.disabled = true;  // To prevent multiple clicks.\n",
              "      quickchartButtonEl.classList.add('colab-df-spinner');\n",
              "      try {\n",
              "        const charts = await google.colab.kernel.invokeFunction(\n",
              "            'suggestCharts', [key], {});\n",
              "      } catch (error) {\n",
              "        console.error('Error during call to suggestCharts:', error);\n",
              "      }\n",
              "      quickchartButtonEl.classList.remove('colab-df-spinner');\n",
              "      quickchartButtonEl.classList.add('colab-df-quickchart-complete');\n",
              "    }\n",
              "    (() => {\n",
              "      let quickchartButtonEl =\n",
              "        document.querySelector('#df-79088a5b-a970-4a31-8074-7972846cf906 button');\n",
              "      quickchartButtonEl.style.display =\n",
              "        google.colab.kernel.accessAllowed ? 'block' : 'none';\n",
              "    })();\n",
              "  </script>\n",
              "</div>\n",
              "\n",
              "    </div>\n",
              "  </div>\n"
            ],
            "application/vnd.google.colaboratory.intrinsic+json": {
              "type": "dataframe",
              "summary": "{\n  \"name\": \"df[df[\\\"status\\\"]==1]\",\n  \"rows\": 2,\n  \"fields\": [\n    {\n      \"column\": \"MDVP:Fo(Hz)\",\n      \"properties\": {\n        \"dtype\": \"number\",\n        \"std\": 1.7027131290972073,\n        \"min\": 119.992,\n        \"max\": 122.4,\n        \"num_unique_values\": 2,\n        \"samples\": [\n          122.4,\n          119.992\n        ],\n        \"semantic_type\": \"\",\n        \"description\": \"\"\n      }\n    },\n    {\n      \"column\": \"MDVP:Fhi(Hz)\",\n      \"properties\": {\n        \"dtype\": \"number\",\n        \"std\": 6.117887870825999,\n        \"min\": 148.65,\n        \"max\": 157.302,\n        \"num_unique_values\": 2,\n        \"samples\": [\n          148.65,\n          157.302\n        ],\n        \"semantic_type\": \"\",\n        \"description\": \"\"\n      }\n    },\n    {\n      \"column\": \"MDVP:Flo(Hz)\",\n      \"properties\": {\n        \"dtype\": \"number\",\n        \"std\": 27.45129945922415,\n        \"min\": 74.997,\n        \"max\": 113.819,\n        \"num_unique_values\": 2,\n        \"samples\": [\n          113.819,\n          74.997\n        ],\n        \"semantic_type\": \"\",\n        \"description\": \"\"\n      }\n    },\n    {\n      \"column\": \"MDVP:Jitter(%)\",\n      \"properties\": {\n        \"dtype\": \"number\",\n        \"std\": 0.0013010764773832473,\n        \"min\": 0.00784,\n        \"max\": 0.00968,\n        \"num_unique_values\": 2,\n        \"samples\": [\n          0.00968,\n          0.00784\n        ],\n        \"semantic_type\": \"\",\n        \"description\": \"\"\n      }\n    },\n    {\n      \"column\": \"MDVP:Shimmer\",\n      \"properties\": {\n        \"dtype\": \"number\",\n        \"std\": 0.012445079348883236,\n        \"min\": 0.04374,\n        \"max\": 0.06134,\n        \"num_unique_values\": 2,\n        \"samples\": [\n          0.06134,\n          0.04374\n        ],\n        \"semantic_type\": \"\",\n        \"description\": \"\"\n      }\n    },\n    {\n      \"column\": \"NHR\",\n      \"properties\": {\n        \"dtype\": \"number\",\n        \"std\": 0.0019940411229460637,\n        \"min\": 0.01929,\n        \"max\": 0.02211,\n        \"num_unique_values\": 2,\n        \"samples\": [\n          0.01929,\n          0.02211\n        ],\n        \"semantic_type\": \"\",\n        \"description\": \"\"\n      }\n    },\n    {\n      \"column\": \"status\",\n      \"properties\": {\n        \"dtype\": \"number\",\n        \"std\": 0,\n        \"min\": 1,\n        \"max\": 1,\n        \"num_unique_values\": 1,\n        \"samples\": [\n          1\n        ],\n        \"semantic_type\": \"\",\n        \"description\": \"\"\n      }\n    },\n    {\n      \"column\": \"RPDE\",\n      \"properties\": {\n        \"dtype\": \"number\",\n        \"std\": 0.030812885096984998,\n        \"min\": 0.414783,\n        \"max\": 0.458359,\n        \"num_unique_values\": 2,\n        \"samples\": [\n          0.458359\n        ],\n        \"semantic_type\": \"\",\n        \"description\": \"\"\n      }\n    },\n    {\n      \"column\": \"DFA\",\n      \"properties\": {\n        \"dtype\": \"number\",\n        \"std\": 0.0029953043251062274,\n        \"min\": 0.815285,\n        \"max\": 0.819521,\n        \"num_unique_values\": 2,\n        \"samples\": [\n          0.819521\n        ],\n        \"semantic_type\": \"\",\n        \"description\": \"\"\n      }\n    },\n    {\n      \"column\": \"spread1\",\n      \"properties\": {\n        \"dtype\": \"number\",\n        \"std\": 0.5217309603239005,\n        \"min\": -4.813031,\n        \"max\": -4.075192,\n        \"num_unique_values\": 2,\n        \"samples\": [\n          -4.075192\n        ],\n        \"semantic_type\": \"\",\n        \"description\": \"\"\n      }\n    },\n    {\n      \"column\": \"spread2\",\n      \"properties\": {\n        \"dtype\": \"number\",\n        \"std\": 0.04886673543423993,\n        \"min\": 0.266482,\n        \"max\": 0.33559,\n        \"num_unique_values\": 2,\n        \"samples\": [\n          0.33559\n        ],\n        \"semantic_type\": \"\",\n        \"description\": \"\"\n      }\n    },\n    {\n      \"column\": \"D2\",\n      \"properties\": {\n        \"dtype\": \"number\",\n        \"std\": 0.13110678962014105,\n        \"min\": 2.301442,\n        \"max\": 2.486855,\n        \"num_unique_values\": 2,\n        \"samples\": [\n          2.486855\n        ],\n        \"semantic_type\": \"\",\n        \"description\": \"\"\n      }\n    }\n  ]\n}"
            }
          },
          "metadata": {},
          "execution_count": 109
        }
      ]
    },
    {
      "cell_type": "code",
      "source": [
        "import pickle\n",
        "\n",
        "# Save trained model to file\n",
        "pickle.dump(knn, open(\"p.pkl\", \"wb\"))"
      ],
      "metadata": {
        "id": "GQJa2x2XooI0"
      },
      "execution_count": null,
      "outputs": []
    },
    {
      "cell_type": "code",
      "source": [
        "loaded_model = pickle.load(open(\"p.pkl\", \"rb\"))\n",
        "loaded_model.predict(X_test)\n",
        "loaded_model.score(X_test,y_test)"
      ],
      "metadata": {
        "id": "Eu7LlxIHooGU",
        "colab": {
          "base_uri": "https://localhost:8080/"
        },
        "outputId": "021201ca-20f2-473d-8a26-45b18ff554ed"
      },
      "execution_count": null,
      "outputs": [
        {
          "output_type": "execute_result",
          "data": {
            "text/plain": [
              "0.9830508474576272"
            ]
          },
          "metadata": {},
          "execution_count": 111
        }
      ]
    },
    {
      "cell_type": "code",
      "source": [
        "import matplotlib.pyplot as plt; plt.rcdefaults()\n",
        "import numpy as np\n",
        "import matplotlib.pyplot as plt\n",
        "\n",
        "objects = ('LR','DT','ADA','RF','KNN','SVM','XGB')\n",
        "y_pos = np.arange(len(objects))\n",
        "performance = [.89,.88,.90,.97,.96,.99,.96]\n",
        "\n",
        "plt.bar(y_pos, performance, align='center', alpha=0.5)\n",
        "plt.xticks(y_pos, objects)\n",
        "plt.ylabel('Accuracy Level')\n",
        "plt.title('Accuracy of Algorithms')\n",
        "\n",
        "plt.show()"
      ],
      "metadata": {
        "id": "MelB6froHAqk",
        "colab": {
          "base_uri": "https://localhost:8080/",
          "height": 452
        },
        "outputId": "1d25b20d-f895-485f-a4af-39930318c133"
      },
      "execution_count": null,
      "outputs": [
        {
          "output_type": "display_data",
          "data": {
            "text/plain": [
              "<Figure size 640x480 with 1 Axes>"
            ],
            "image/png": "[encoded data removed]"
          },
          "metadata": {}
        }
      ]
    },
    {
      "cell_type": "code",
      "source": [
        "#input data and transform into numpy array\n",
        "in_data= np.asarray(tuple(map(float,input().rstrip().split(','))))\n",
        "\n",
        "#reshape and scale the input array\n",
        "in_data_re = in_data.reshape(1,-1)\n",
        "in_data_sca = scaler.transform(in_data_re)\n",
        "\n",
        "#print the predicted output for input array\n",
        "print(\"Parkinson's Disease Detected\" if knn.predict(in_data_sca) else \"No Parkinson's Disease Detected\")"
      ],
      "metadata": {
        "id": "ihe9B0D0s4W7"
      },
      "execution_count": null,
      "outputs": []
    },
    {
      "cell_type": "code",
      "source": [
        "#input data and transform into numpy array\n",
        "in_data= np.asarray(tuple(map(float,input().rstrip().split(','))))\n",
        "\n",
        "#reshape and scale the input array\n",
        "in_data_re = in_data.reshape(1,-1)\n",
        "in_data_sca = scaler.transform(in_data_re)\n",
        "\n",
        "#print the predicted output for input array\n",
        "print(\"Parkinson's Disease Detected\" if knn.predict(in_data_sca) else \"No Parkinson's Disease Detected\")"
      ],
      "metadata": {
        "id": "BNvJlaEst4Ul"
      },
      "execution_count": null,
      "outputs": []
    },
    {
      "cell_type": "code",
      "source": [
        "#input data and transform into numpy array\n",
        "in_data= np.asarray(tuple(map(float,input().rstrip().split(','))))\n",
        "\n",
        "#reshape and scale the input array\n",
        "in_data_re = in_data.reshape(1,-1)\n",
        "in_data_sca = scaler.transform (in_data_re)\n",
        "\n",
        "#print the predicted output for input array\n",
        "print(\"Parkinson's Disease Detected\" if svm.predict(in_data_sca) else \"No Parkinson's Disease Detected\")"
      ],
      "metadata": {
        "id": "49t5VKqbqFmx"
      },
      "execution_count": null,
      "outputs": []
    }
  ]
}